{
 "cells": [
  {
   "cell_type": "markdown",
   "metadata": {},
   "source": [
    "# Compare positions obtain from optitrack & predicted from model"
   ]
  },
  {
   "cell_type": "code",
   "execution_count": 1,
   "metadata": {},
   "outputs": [],
   "source": [
    "from nn import KinematicMLP, InverseKinematicMLP\n",
    "import torch\n",
    "\n",
    "import joblib \n",
    "import numpy as np\n",
    "import pandas as pd\n",
    "import matplotlib.pyplot as plt\n",
    "import plotly.graph_objects as go\n",
    "import plotly.express as px\n"
   ]
  },
  {
   "cell_type": "markdown",
   "metadata": {},
   "source": [
    "### Load Model"
   ]
  },
  {
   "cell_type": "code",
   "execution_count": 2,
   "metadata": {},
   "outputs": [],
   "source": [
    "# Load model\n",
    "model = InverseKinematicMLP(input_size=9, output_size=9)\n",
    "model.load_state_dict(torch.load(\"inverse_kinematic_model_8999_9.pth\"))\n",
    "model.eval()\n",
    "\n",
    "# Load actuation sample from saved dataset\n",
    "scaler_X = joblib.load(\"scaler_X_ik_8999_9.save\")\n",
    "scaler_Y = joblib.load(\"scaler_Y_ik_8999_9.save\")"
   ]
  },
  {
   "cell_type": "markdown",
   "metadata": {},
   "source": [
    "### Load the position of **all positions** (x,y,z)*3 --> 9 values"
   ]
  },
  {
   "cell_type": "code",
   "execution_count": 15,
   "metadata": {},
   "outputs": [
    {
     "name": "stdout",
     "output_type": "stream",
     "text": [
      "   SA-low-X  SA-low-Y  SA-low-Z  SA-middle-X  SA-middle-Y  SA-middle-Z  \\\n",
      "0  0.069034  0.350307 -0.202142     0.078286     0.559132    -0.182121   \n",
      "1  0.074886  0.349511 -0.196679     0.098948     0.556256    -0.168764   \n",
      "2  0.074005  0.349038 -0.194343     0.097684     0.555132    -0.161330   \n",
      "3  0.072841  0.346520 -0.181150     0.104113     0.543221    -0.116411   \n",
      "4  0.075471  0.347016 -0.183119     0.111640     0.544429    -0.123365   \n",
      "\n",
      "    SA-up-X   SA-up-Y   SA-up-Z  \n",
      "0  0.082077  0.767467 -0.167849  \n",
      "1  0.126767  0.761499 -0.144774  \n",
      "2  0.125988  0.759396 -0.130784  \n",
      "3  0.149206  0.730225 -0.037829  \n",
      "4  0.161982  0.732146 -0.050008  \n"
     ]
    }
   ],
   "source": [
    "df = pd.read_csv(\"optitrack_data_full_bodies_data30_actrange400_date1104_1.csv\")\n",
    "# df = pd.read_csv(\"optitrack_data_full_bodies_data30_actrange400_date1104_2.csv\")\n",
    "# df = pd.read_csv(\"optitrack_data_full_bodies_data30_actrange400_date1104_3.csv\")\n",
    "\n",
    "# Extract all position data - \n",
    "# SA-up-x, SA-up-y, SA-up-z, SA-middle-x, SA-middle-y, SA-middle-z, SA-low-x, SA-low-y, SA-low-z\n",
    "\n",
    "df = df[[\"SA-low-X\", \"SA-low-Y\", \"SA-low-Z\", \"SA-middle-X\", \"SA-middle-Y\", \"SA-middle-Z\", \"SA-up-X\", \"SA-up-Y\", \"SA-up-Z\"]]\n",
    "print(df.head())\n",
    "# Convert to numpy array\n",
    "data = df.to_numpy()"
   ]
  },
  {
   "cell_type": "markdown",
   "metadata": {},
   "source": [
    "### Prediction"
   ]
  },
  {
   "cell_type": "code",
   "execution_count": 16,
   "metadata": {},
   "outputs": [
    {
     "name": "stdout",
     "output_type": "stream",
     "text": [
      "(30, 3, 3)\n"
     ]
    }
   ],
   "source": [
    "# Normalize the data using the scaler\n",
    "X_norm = scaler_X.transform(data)\n",
    "# Convert to torch tensor\n",
    "X_tensor = torch.tensor(X_norm , dtype=torch.float32)\n",
    "\n",
    "# Predict the delta L values using the model\n",
    "Y_pred = model(X_tensor).detach().numpy()\n",
    "# Inverse transform the predicted output using the scaler\n",
    "Y_pred_inv = scaler_Y.inverse_transform(Y_pred)\n",
    "\n",
    "# Reshape the predicted output to match the original shape \n",
    "Y_pred_inv = Y_pred_inv.reshape(-1, 3, 3)\n",
    "\n",
    "print(Y_pred_inv.shape)"
   ]
  },
  {
   "cell_type": "code",
   "execution_count": 17,
   "metadata": {},
   "outputs": [
    {
     "data": {
      "text/plain": [
       "array([[[   38,   -54,   147],\n",
       "        [  580,  -222,  -203],\n",
       "        [ -637,    59,   582]],\n",
       "\n",
       "       [[   94,    92,   -64],\n",
       "        [  519,   -86,  -290],\n",
       "        [ -554,   146,   408]],\n",
       "\n",
       "       [[  154,    80,  -111],\n",
       "        [  533,   -69,  -320],\n",
       "        [ -507,   116,   392]],\n",
       "\n",
       "       [[  468,    89,  -454],\n",
       "        [  800,  -115,  -557],\n",
       "        [ -231,    75,   148]],\n",
       "\n",
       "       [[  396,   149,  -435],\n",
       "        [  764,   -68,  -563],\n",
       "        [ -180,    53,   120]],\n",
       "\n",
       "       [[  575,    37,  -523],\n",
       "        [  864,  -153,  -597],\n",
       "        [ -162,    63,    85]],\n",
       "\n",
       "       [[  902,   129,  -975],\n",
       "        [ 1095,  -146,  -877],\n",
       "        [  285,    22,  -344]],\n",
       "\n",
       "       [[ 1066,   -52,  -985],\n",
       "        [ 1197,  -302,  -849],\n",
       "        [  453,   -87,  -414]],\n",
       "\n",
       "       [[ 1114,  -315,  -786],\n",
       "        [ 1289,  -599,  -647],\n",
       "        [  523,  -269,  -304]],\n",
       "\n",
       "       [[  835,  -368,  -390],\n",
       "        [ 1203,  -624,  -468],\n",
       "        [  462,  -354,  -127]],\n",
       "\n",
       "       [[  570,   105,  -613],\n",
       "        [ 1037,  -269,  -680],\n",
       "        [  448,  -721,   229]],\n",
       "\n",
       "       [[  836,   415, -1187],\n",
       "        [ 1089,    15, -1034],\n",
       "        [  485,  -765,   216]],\n",
       "\n",
       "       [[  882,   661, -1428],\n",
       "        [ 1033,   392, -1262],\n",
       "        [  645,  -716,    31]],\n",
       "\n",
       "       [[ 1067,   608, -1528],\n",
       "        [ 1041,   542, -1385],\n",
       "        [  708,  -567,  -167]],\n",
       "\n",
       "       [[ 1052,   762, -1639],\n",
       "        [ 1071,   819, -1636],\n",
       "        [  904,  -419,  -502]],\n",
       "\n",
       "       [[  884,   663, -1380],\n",
       "        [  954,   590, -1368],\n",
       "        [  732,  -292,  -452]],\n",
       "\n",
       "       [[  835,   325, -1079],\n",
       "        [ 1075,    43, -1028],\n",
       "        [  694,  -541,  -197]],\n",
       "\n",
       "       [[  522,   209,  -677],\n",
       "        [ 1013,  -140,  -795],\n",
       "        [  346,  -868,   466]],\n",
       "\n",
       "       [[  360,   553,  -859],\n",
       "        [  829,   115,  -875],\n",
       "        [  426,  -777,   292]],\n",
       "\n",
       "       [[  744,   334, -1051],\n",
       "        [  953,    23,  -938],\n",
       "        [  225,  -368,    79]],\n",
       "\n",
       "       [[  676,   338,  -961],\n",
       "        [ 1014,    39,  -986],\n",
       "        [  137,  -327,   138]],\n",
       "\n",
       "       [[  835,    36,  -794],\n",
       "        [ 1071,   -24,  -947],\n",
       "        [  172,   -32,  -164]],\n",
       "\n",
       "       [[  977,  -370,  -501],\n",
       "        [  893,   349, -1113],\n",
       "        [   55,   438,  -494]],\n",
       "\n",
       "       [[  771,  -288,  -368],\n",
       "        [  634,   433,  -932],\n",
       "        [    8,   394,  -400]],\n",
       "\n",
       "       [[  890,  -408,  -437],\n",
       "        [  452,   361,  -740],\n",
       "        [ -152,    70,    53]],\n",
       "\n",
       "       [[  922,  -327,  -562],\n",
       "        [  620,   383,  -942],\n",
       "        [  -85,  -329,   367]],\n",
       "\n",
       "       [[  816,  -261,  -503],\n",
       "        [  752,   329,  -999],\n",
       "        [  -89,  -577,   620]],\n",
       "\n",
       "       [[  286,   -65,   -55],\n",
       "        [  947,   301, -1052],\n",
       "        [  177,  -828,   644]],\n",
       "\n",
       "       [[  227,   421,  -515],\n",
       "        [ 1251,   143, -1222],\n",
       "        [  622, -1033,   384]],\n",
       "\n",
       "       [[   82,   419,  -295],\n",
       "        [ 1584,    80, -1406],\n",
       "        [  850, -1106,   263]]])"
      ]
     },
     "execution_count": 17,
     "metadata": {},
     "output_type": "execute_result"
    }
   ],
   "source": [
    "Y_pred_inv.astype(int)"
   ]
  },
  {
   "cell_type": "code",
   "execution_count": 18,
   "metadata": {},
   "outputs": [
    {
     "name": "stdout",
     "output_type": "stream",
     "text": [
      "(30, 3)\n",
      "[[131.86035    154.93434      4.190857  ]\n",
      " [122.17642    142.29404      0.7245178 ]\n",
      " [123.26004    143.32907      1.1856384 ]\n",
      " [103.316925   126.53357     -7.5662384 ]\n",
      " [110.104675   132.38916     -6.1154327 ]\n",
      " [ 89.338806   113.587036   -13.180656  ]\n",
      " [ 56.307983    71.39551    -36.055634  ]\n",
      " [ 28.31842     46.377563   -48.644043  ]\n",
      " [ 12.955444    42.486694   -51.192535  ]\n",
      " [ 76.80545    109.8869     -19.567978  ]\n",
      " [ 62.253662    87.70825    -43.081985  ]\n",
      " [ 64.29297     70.122925   -63.19966   ]\n",
      " [114.772095   163.17773    -39.847366  ]\n",
      " [147.22156    198.54968    -26.604324  ]\n",
      " [175.59424    254.47559    -16.604462  ]\n",
      " [167.53467    176.53467    -13.225128  ]\n",
      " [ 80.80664     90.20239    -44.086975  ]\n",
      " [ 54.068726    77.36127    -54.857056  ]\n",
      " [ 54.32025     70.24982    -58.978058  ]\n",
      " [ 27.217407    38.34906    -63.630707  ]\n",
      " [ 53.691162    67.73096    -51.316025  ]\n",
      " [ 77.31262    100.28784    -24.75293   ]\n",
      " [105.3779     129.23853     -0.57714844]\n",
      " [114.82669    134.97797      3.1087036 ]\n",
      " [ 45.653625    72.80121    -29.006104  ]\n",
      " [ 32.523987    61.843933   -47.833923  ]\n",
      " [ 50.98471     81.93048    -47.259155  ]\n",
      " [164.90794    196.90027     -6.6589355 ]\n",
      " [133.52783    172.78467    -26.503204  ]\n",
      " [206.39743    259.05066      7.3886414 ]]\n"
     ]
    }
   ],
   "source": [
    "# Sum across the last axis (i.e., each triplet)\n",
    "sums = Y_pred_inv.sum(axis=2)\n",
    "\n",
    "print(sums.shape)\n",
    "print(sums)"
   ]
  },
  {
   "cell_type": "markdown",
   "metadata": {},
   "source": [
    "### Load the actuation data, which is the ground truth data"
   ]
  },
  {
   "cell_type": "code",
   "execution_count": 19,
   "metadata": {},
   "outputs": [
    {
     "name": "stdout",
     "output_type": "stream",
     "text": [
      "actual_position_list shape: (30, 3, 3)\n",
      "act_list shape: (30, 3, 3)\n",
      "wanted_position_list shape: (30, 3, 3)\n"
     ]
    }
   ],
   "source": [
    "gt = np.load(\"data_optitrack/data30_actrange400_date1104_1.npz\")\n",
    "# gt = np.load(\"data_optitrack/data30_actrange400_date1104_2.npz\")\n",
    "# gt = np.load(\"data_optitrack/data30_actrange400_date1104_3.npz\")\n",
    "\n",
    "# actual_position_list, act_list, wanted_position_list\n",
    "actual_position_list = gt[\"actual_position_list\"]\n",
    "act_list = gt[\"act_list\"]\n",
    "wanted_position_list = gt[\"wanted_position_list\"]\n",
    "\n",
    "# Check shape\n",
    "print(f\"actual_position_list shape: {actual_position_list.shape}\")\n",
    "print(f\"act_list shape: {act_list.shape}\")\n",
    "print(f\"wanted_position_list shape: {wanted_position_list.shape}\")"
   ]
  },
  {
   "cell_type": "code",
   "execution_count": 20,
   "metadata": {},
   "outputs": [
    {
     "data": {
      "text/plain": [
       "array([[[10200., 12435.,  9837.],\n",
       "        [ 5800.,  9313., 10405.],\n",
       "        [14526.,  9992., 10091.]],\n",
       "\n",
       "       [[10200., 12435.,  9837.],\n",
       "        [ 5800.,  9313., 10405.],\n",
       "        [14526.,  9992., 10091.]],\n",
       "\n",
       "       [[10266., 12595.,  9698.],\n",
       "        [ 5825.,  9431., 10266.],\n",
       "        [14549., 10130.,  9910.]]])"
      ]
     },
     "execution_count": 20,
     "metadata": {},
     "output_type": "execute_result"
    }
   ],
   "source": [
    "actual_position_list[0:3]"
   ]
  },
  {
   "cell_type": "code",
   "execution_count": 21,
   "metadata": {},
   "outputs": [
    {
     "name": "stdout",
     "output_type": "stream",
     "text": [
      "safe_position: [[10200. 12435.  9837.]\n",
      " [ 5800.  9313. 10405.]\n",
      " [14526.  9992. 10091.]]\n",
      "actual_position_list shape: (29, 3, 3)\n"
     ]
    }
   ],
   "source": [
    "# delete the first element of the actual_position_list\n",
    "actual_position_list = np.delete(gt[\"actual_position_list\"], 0, axis=0)\n",
    "safe_position = actual_position_list[0]\n",
    "\n",
    "print(f\"safe_position: {safe_position}\")\n",
    "# Subtract all actual_position_list by the first element to get the relative position -> delta L\n",
    "actual_position_list = actual_position_list - safe_position\n",
    "actual_position_list[0:5]\n",
    "print(f\"actual_position_list shape: {actual_position_list.shape}\")"
   ]
  },
  {
   "cell_type": "code",
   "execution_count": 22,
   "metadata": {},
   "outputs": [
    {
     "name": "stdout",
     "output_type": "stream",
     "text": [
      "[[[   0.    0.    0.]\n",
      "  [   0.    0.    0.]\n",
      "  [   0.    0.    0.]]\n",
      "\n",
      " [[  66.  160. -139.]\n",
      "  [  25.  118. -139.]\n",
      "  [  23.  138. -181.]]\n",
      "\n",
      " [[ 135.  158. -168.]\n",
      "  [  80.  118. -167.]\n",
      "  [  75.  132. -209.]]\n",
      "\n",
      " [[ 434.  142. -470.]\n",
      "  [ 390.  119. -461.]\n",
      "  [ 350.  127. -506.]]\n",
      "\n",
      " [[ 335.  182. -468.]\n",
      "  [ 333.  145. -454.]\n",
      "  [ 337.  161. -488.]]]\n"
     ]
    }
   ],
   "source": [
    "print(actual_position_list[0:5])"
   ]
  },
  {
   "cell_type": "markdown",
   "metadata": {},
   "source": [
    "### Compare "
   ]
  },
  {
   "cell_type": "code",
   "execution_count": 23,
   "metadata": {},
   "outputs": [
    {
     "name": "stdout",
     "output_type": "stream",
     "text": [
      "Difference in int:\n",
      "[[[  94   92   64]\n",
      "  [ 519   86  290]\n",
      "  [ 554  146  408]]\n",
      "\n",
      " [[  88   79   27]\n",
      "  [ 508  187  181]\n",
      "  [ 530   21  573]]\n",
      "\n",
      " [[ 333   68  286]\n",
      "  [ 720  233  390]\n",
      "  [ 306   56  357]]\n",
      "\n",
      " [[  37    7   34]\n",
      "  [ 374  187  102]\n",
      "  [ 530   73  626]]\n",
      "\n",
      " [[ 240  144   55]\n",
      "  [ 531  298  143]\n",
      "  [ 499   97  573]]\n",
      "\n",
      " [[ 358   42  455]\n",
      "  [ 619  247  365]\n",
      "  [ 170   52  215]]\n",
      "\n",
      " [[ 243  218   88]\n",
      "  [ 419  423   37]\n",
      "  [ 274  216  515]]\n",
      "\n",
      " [[  99  287  110]\n",
      "  [ 351  584  236]\n",
      "  [ 379  229  625]]\n",
      "\n",
      " [[ 259   46  314]\n",
      "  [ 183  318  219]\n",
      "  [ 529   22  603]]\n",
      "\n",
      " [[ 276  470  217]\n",
      "  [ 187   78  269]\n",
      "  [ 404  341  684]]\n",
      "\n",
      " [[ 277  265  585]\n",
      "  [ 531   83  434]\n",
      "  [ 539   38  549]]\n",
      "\n",
      " [[ 139  195  315]\n",
      "  [ 307   11  169]\n",
      "  [ 417  120  358]]\n",
      "\n",
      " [[ 277  115   96]\n",
      "  [ 274   85   31]\n",
      "  [ 529  143  445]]\n",
      "\n",
      " [[  78   76   94]\n",
      "  [ 160  191  101]\n",
      "  [ 259   76  285]]\n",
      "\n",
      " [[  56  202  336]\n",
      "  [  43  168  337]\n",
      "  [ 436  126  574]]\n",
      "\n",
      " [[  94  372  256]\n",
      "  [ 326  653  290]\n",
      "  [ 474  329  741]]\n",
      "\n",
      " [[ 230  136  339]\n",
      "  [ 264  488  208]\n",
      "  [ 835  245 1077]]\n",
      "\n",
      " [[ 154  322  206]\n",
      "  [ 319  127  203]\n",
      "  [ 494  138  315]]\n",
      "\n",
      " [[ 412  245  254]\n",
      "  [ 624  479  143]\n",
      "  [ 579  233  234]]\n",
      "\n",
      " [[   0   23   29]\n",
      "  [ 394  330   61]\n",
      "  [ 552   24  482]]\n",
      "\n",
      " [[ 242  325   91]\n",
      "  [ 486  437    1]\n",
      "  [ 514  202  241]]\n",
      "\n",
      " [[ 206  428  257]\n",
      "  [ 215   70  210]\n",
      "  [ 709  520  242]]\n",
      "\n",
      " [[ 190   41  170]\n",
      "  [ 157  333  298]\n",
      "  [ 715  401  295]]\n",
      "\n",
      " [[ 139  164    1]\n",
      "  [ 292  445  223]\n",
      "  [ 882  126  736]]\n",
      "\n",
      " [[  20   73  142]\n",
      "  [ 604  423  186]\n",
      "  [ 638  139  709]]\n",
      "\n",
      " [[ 116   37   37]\n",
      "  [ 559  519   61]\n",
      "  [ 713  163  612]]\n",
      "\n",
      " [[ 528  167  468]\n",
      "  [ 605  436   21]\n",
      "  [ 527  195  445]]\n",
      "\n",
      " [[  53  422  330]\n",
      "  [ 765  381  250]\n",
      "  [ 295  312  118]]\n",
      "\n",
      " [[ 111   59  266]\n",
      "  [ 775  315  277]\n",
      "  [ 207  120  163]]]\n"
     ]
    }
   ],
   "source": [
    "# dropt the first element of the predicted output\n",
    "# create a copy\n",
    "Y_pred_inv_ = Y_pred_inv.copy()\n",
    "# delete the last element of the Y_pred_inv\n",
    "# Y_pred_inv_ = np.delete(Y_pred_inv_, -1, axis=0)\n",
    "\n",
    "# delete the first element of the Y_pred_inv\n",
    "Y_pred_inv_ = np.delete(Y_pred_inv_, 0, axis=0)\n",
    "\n",
    "# # delete the last element of the Y_pred_inv\n",
    "# Y_pred_inv_ = np.delete(Y_pred_inv_, -1, axis=0)\n",
    "\n",
    "# Compare the predicted output with the actual output\n",
    "diff = np.abs(Y_pred_inv_ - actual_position_list)\n",
    "\n",
    "# Print the difference in int\n",
    "print(\"Difference in int:\")\n",
    "print(diff.astype(int))"
   ]
  },
  {
   "cell_type": "code",
   "execution_count": 24,
   "metadata": {},
   "outputs": [
    {
     "name": "stdout",
     "output_type": "stream",
     "text": [
      "[[ 1  2  0]\n",
      " [ 0  2  0]\n",
      " [ 0  1  0]\n",
      " [ 0  1  0]\n",
      " [ 0  1  0]\n",
      " [ 0  0  0]\n",
      " [ 0  0  0]\n",
      " [-1  0  0]\n",
      " [ 0  1  0]\n",
      " [ 0  0  0]\n",
      " [ 0  0  0]\n",
      " [ 0  2  0]\n",
      " [ 1  3  0]\n",
      " [ 0  3  0]\n",
      " [ 1  3  0]\n",
      " [ 0  0  0]\n",
      " [ 0  0  0]\n",
      " [ 0  0  0]\n",
      " [-1  0 -1]\n",
      " [ 0  0 -1]\n",
      " [ 0  0 -1]\n",
      " [ 0  1  0]\n",
      " [ 0  1  0]\n",
      " [ 0  1  0]\n",
      " [ 0  0 -1]\n",
      " [ 0  1  0]\n",
      " [ 1  2  1]\n",
      " [ 0  2  2]\n",
      " [ 1  2  1]]\n"
     ]
    }
   ],
   "source": [
    "diff_ = (Y_pred_inv_ - actual_position_list)\n",
    "\n",
    "row_sums = diff_.sum(axis=2)  * 0.01534 \n",
    "print(row_sums.astype(int))"
   ]
  },
  {
   "cell_type": "code",
   "execution_count": 25,
   "metadata": {},
   "outputs": [
    {
     "data": {
      "image/png": "[encoded data removed]",
      "text/plain": [
       "<Figure size 800x600 with 1 Axes>"
      ]
     },
     "metadata": {},
     "output_type": "display_data"
    }
   ],
   "source": [
    "import seaborn as sns\n",
    "\n",
    "# Create a boxplot\n",
    "plt.figure(figsize=(8, 6))\n",
    "\n",
    "sns.boxplot(data=row_sums, orient='v', palette=['blue', 'green', 'red'])\n",
    "plt.xticks([0, 1, 2], ['Low', 'Middle', 'Up'], fontsize=18)\n",
    "\n",
    "# increase size of values \n",
    "plt.yticks(fontsize=15)\n",
    "# plt.title('Total Actuation (a1 + a2 + a3) by Section (3 inputs) - absolute difference')\n",
    "plt.ylabel('Total Actuation (a1 + a2 + a3) [in mm]', fontsize=18)\n",
    "plt.grid(True, linestyle='--', alpha=0.5)\n",
    "# Show in rnage of values\n",
    "plt.ylim(-7, 7)\n",
    "plt.tight_layout()\n",
    "plt.show()"
   ]
  },
  {
   "cell_type": "code",
   "execution_count": 26,
   "metadata": {},
   "outputs": [
    {
     "data": {
      "image/png": "[encoded data removed]",
      "text/plain": [
       "<Figure size 1500x1200 with 9 Axes>"
      ]
     },
     "metadata": {},
     "output_type": "display_data"
    }
   ],
   "source": [
    "# Convert residuals to delta L values\n",
    "residuals = diff.reshape(-1, 9)\n",
    "\n",
    "diff_deltaL = residuals * 0.01534\n",
    "\n",
    "fig, axes = plt.subplots(3, 3, figsize=(15, 12), sharex=True, sharey=True)\n",
    "\n",
    "# Define new order: up → middle → low\n",
    "group_labels = ['Up', 'Middle', 'Low']\n",
    "group_colors = ['red', 'green', 'blue']\n",
    "\n",
    "column_indices = [6, 7, 8, 3, 4, 5, 0, 1, 2]\n",
    "\n",
    "for plot_idx, col_idx in enumerate(column_indices):\n",
    "    i = plot_idx // 3  # row\n",
    "    j = plot_idx % 3   # col\n",
    "    k = plot_idx + 1   # motor number\n",
    "    ax = axes[i, j]\n",
    "    \n",
    "    ax.set_xlim(0, 30)\n",
    "    ax.set_ylim(0, 6)\n",
    "    ax.hist(diff_deltaL[:, col_idx], bins=30, alpha=0.7, color=group_colors[i])\n",
    "    \n",
    "    group = group_labels[i]\n",
    "    ax.set_title(f\"{group}: Motor {k}\", fontsize=20)\n",
    "    ax.tick_params(axis='both', labelsize=18)\n",
    "\n",
    "    \n",
    "    # X-label only on bottom row\n",
    "    if i == 2:\n",
    "        ax.set_xlabel(\"ΔL error [mm]\", fontsize=25)\n",
    "\n",
    "    # Y-label only on first column\n",
    "    if j == 0:\n",
    "        ax.set_ylabel(\"Frequency\", fontsize=25)\n",
    "    \n",
    "    ax.axvline(0, color='red', linestyle='--')\n",
    "    ax.grid(True)\n",
    "\n",
    "plt.tight_layout()\n",
    "plt.show()\n"
   ]
  },
  {
   "cell_type": "markdown",
   "metadata": {},
   "source": [
    "These numbers correspond to the **difference** of number of ticks. \n",
    "As our pulley diameter D = 20 mmm --> circumference C = pi * 20 mm = 62.83 mm/rev\n",
    "\n",
    "Our dynamixel has a resolution of 12-bit: 4096 ticks/revolution, this means 4096 ticks ==> 62.83 mm\n",
    "Each tick corresponds to:\n",
    "62.83/4096 = **0.01534 mm/tick**\n",
    "\n",
    "So for example, difference of 500 ticks corresponds to:\n",
    "deltaL = 500 * 0.01534 mm = *7.67 mm*\n",
    "of movement of cable. "
   ]
  }
 ],
 "metadata": {
  "kernelspec": {
   "display_name": "dynamixel_env",
   "language": "python",
   "name": "python3"
  },
  "language_info": {
   "codemirror_mode": {
    "name": "ipython",
    "version": 3
   },
   "file_extension": ".py",
   "mimetype": "text/x-python",
   "name": "python",
   "nbconvert_exporter": "python",
   "pygments_lexer": "ipython3",
   "version": "3.11.3"
  }
 },
 "nbformat": 4,
 "nbformat_minor": 2
}
