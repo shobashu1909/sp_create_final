{
 "cells": [
  {
   "cell_type": "markdown",
   "metadata": {},
   "source": [
    "# Compare positions obtain from optitrack & predicted from model"
   ]
  },
  {
   "cell_type": "code",
   "execution_count": 1,
   "metadata": {},
   "outputs": [],
   "source": [
    "from nn import KinematicMLP\n",
    "import torch\n",
    "\n",
    "import joblib \n",
    "import numpy as np\n",
    "import pandas as pd\n",
    "import matplotlib.pyplot as plt\n",
    "import plotly.graph_objects as go\n",
    "import plotly.express as px\n"
   ]
  },
  {
   "cell_type": "markdown",
   "metadata": {},
   "source": [
    "### Load Model"
   ]
  },
  {
   "cell_type": "code",
   "execution_count": 2,
   "metadata": {},
   "outputs": [],
   "source": [
    "# Load model\n",
    "model = KinematicMLP(input_size=9, output_size=9)\n",
    "model.load_state_dict(torch.load(\"kinematic_model_v8999.pth\"))\n",
    "model.eval()\n",
    "\n",
    "# Load actuation sample from saved dataset\n",
    "scaler_X = joblib.load(\"scaler_X_8999.save\")\n",
    "scaler_Y = joblib.load(\"scaler_Y_8999.save\")"
   ]
  },
  {
   "cell_type": "markdown",
   "metadata": {},
   "source": [
    "### Load the actuation data"
   ]
  },
  {
   "cell_type": "code",
   "execution_count": 52,
   "metadata": {},
   "outputs": [
    {
     "name": "stdout",
     "output_type": "stream",
     "text": [
      "actual_position_list shape: (30, 3, 3)\n",
      "act_list shape: (30, 3, 3)\n",
      "wanted_position_list shape: (30, 3, 3)\n"
     ]
    }
   ],
   "source": [
    "dt = np.load(\"data_optitrack/data30_actrange150_date1104_3.npz\")\n",
    "\n",
    "# actual_position_list, act_list, wanted_position_list\n",
    "actual_position_list = dt[\"actual_position_list\"]\n",
    "act_list = dt[\"act_list\"]\n",
    "wanted_position_list = dt[\"wanted_position_list\"]\n",
    "\n",
    "# Check shape\n",
    "print(f\"actual_position_list shape: {actual_position_list.shape}\")\n",
    "print(f\"act_list shape: {act_list.shape}\")\n",
    "print(f\"wanted_position_list shape: {wanted_position_list.shape}\")"
   ]
  },
  {
   "cell_type": "code",
   "execution_count": 54,
   "metadata": {},
   "outputs": [
    {
     "name": "stdout",
     "output_type": "stream",
     "text": [
      "safe_position: [[10277. 12388.  9822.]\n",
      " [ 5798.  9290. 10541.]\n",
      " [14466.  9774. 10124.]]\n"
     ]
    },
    {
     "data": {
      "text/plain": [
       "array([[[   0.,    0.,    0.],\n",
       "        [   0.,    0.,    0.],\n",
       "        [   0.,    0.,    0.]],\n",
       "\n",
       "       [[ -77.,   -3.,  172.],\n",
       "        [ -29.,    0.,  133.],\n",
       "        [ -77.,  -34.,   98.]],\n",
       "\n",
       "       [[  46., -109.,  172.],\n",
       "        [  28.,  -87.,  133.],\n",
       "        [   0., -127.,   99.]],\n",
       "\n",
       "       [[ 107., -123.,  149.],\n",
       "        [  83., -109.,  133.],\n",
       "        [  57., -153.,   84.]],\n",
       "\n",
       "       [[   5.,  -67.,  149.],\n",
       "        [  52.,  -73.,  133.],\n",
       "        [   5.,  -71.,   84.]]])"
      ]
     },
     "execution_count": 54,
     "metadata": {},
     "output_type": "execute_result"
    }
   ],
   "source": [
    "# delete the first element of the actual_position_list\n",
    "actual_position_list = np.delete(dt[\"actual_position_list\"], 0, axis=0)\n",
    "safe_position = actual_position_list[0]\n",
    "\n",
    "print(f\"safe_position: {safe_position}\")\n",
    "# Subtract all actual_position_list by the first element to get the relative position -> delta L\n",
    "actual_position_list = actual_position_list - safe_position\n",
    "actual_position_list[0:5]"
   ]
  },
  {
   "cell_type": "code",
   "execution_count": 55,
   "metadata": {},
   "outputs": [
    {
     "name": "stdout",
     "output_type": "stream",
     "text": [
      "actual position shape:  (29, 9)\n"
     ]
    }
   ],
   "source": [
    "\n",
    "# INPUT -->  flatten the actions list\n",
    "X = actual_position_list.reshape(actual_position_list.shape[0], -1)\n",
    "print(\"actual position shape: \", X.shape)"
   ]
  },
  {
   "cell_type": "markdown",
   "metadata": {},
   "source": [
    "### Prediction:"
   ]
  },
  {
   "cell_type": "code",
   "execution_count": 56,
   "metadata": {},
   "outputs": [
    {
     "name": "stdout",
     "output_type": "stream",
     "text": [
      "Y_pred shape:  (29, 3, 3)\n",
      "predict_end_effector_positions shape:  (29, 3)\n"
     ]
    }
   ],
   "source": [
    "# Normalize the input data using the scaler\n",
    "X_norm = scaler_X.fit_transform(X)\n",
    "# Convert to torch tensor\n",
    "X_tensor = torch.tensor(X_norm, dtype=torch.float32)\n",
    "\n",
    "# Predict the output \"y\" using the model (positions)\n",
    "Y_pred = model(X_tensor).detach().numpy()\n",
    "# Inverse transform the predicted output using the scaler\n",
    "Y_pred_inv = scaler_Y.inverse_transform(Y_pred)\n",
    "\n",
    "# Reshape the predicted output to match the original shape \n",
    "# Extract only the first 9 values\n",
    "Y_pred_inv = Y_pred_inv[:, :9]\n",
    "Y_pred_reshaped = Y_pred_inv.reshape(actual_position_list.shape[0], 3, 3)\n",
    "print(\"Y_pred shape: \", Y_pred_reshaped.shape)\n",
    "\n",
    "# Extract only the positions of x,y,z of end effector\n",
    "predict_end_effector_positions = Y_pred_reshaped[:, 2, :]\n",
    "print(\"predict_end_effector_positions shape: \", predict_end_effector_positions.shape)"
   ]
  },
  {
   "cell_type": "markdown",
   "metadata": {},
   "source": [
    "### Visualization"
   ]
  },
  {
   "cell_type": "code",
   "execution_count": 57,
   "metadata": {},
   "outputs": [
    {
     "data": {
      "application/vnd.plotly.v1+json": {
       "config": {
        "plotlyServerURL": "https://plot.ly"
       },
       "data": [
        {
         "marker": {
          "color": "blue",
          "size": 3
         },
         "mode": "markers",
         "name": "low",
         "type": "scatter3d",
         "x": {
          "bdata": "Of+wPbzXpj11Mhc9OM0IPTc2YD0OmLQ8ekJKPRnVKD16o5E9RU4PPSgQhz1KKNA9T92SPVhA6D19La496YpYPfdW9TyNFRM7JugpPCenJz0uZ0Q9pvmGPW1hAj5p6wI+Oo7jPfunkz1wZN89h48XPiTNwz0=",
          "dtype": "f4"
         },
         "y": {
          "bdata": "0sWpPoEgsD4q3qo+VeSpPiXYqz6ip7A+5I6tPgLnsT4Sp7A+6r+xPokJtD6uV7E+wKmyPm0YrT6hKbA+wveoPow4qj5P1Kk+HvKtPvJIsj5kKbQ+wpS0PtJGrj7enq8+MpqxPvjrsz67vLA+ZfyrPjTlsD4=",
          "dtype": "f4"
         },
         "z": {
          "bdata": "G8b8vdz2IL4uEBO+UYwIvlxoEr43DWO+r92JvsoSdr5LDIW+VfdzvpEmar5GiXu+TmEsvhIeB774tBe+0NoAvrakGb6HqzO+RJNXvoXjZb7ZEGW+MGFNvj+LT76DOk++s3Zbvs+bVL7LFXS+9upTvtdVbr4=",
          "dtype": "f4"
         }
        },
        {
         "marker": {
          "color": "green",
          "size": 3
         },
         "mode": "markers",
         "name": "middle",
         "type": "scatter3d",
         "x": {
          "bdata": "FGYJPik6xD0ekQS94sARvQviTjwB5+W9rcJCvUXyjr2zQkU8Y0iuveEl2Dumk+w9nXJMPcbzSj54fto96WLGPJn6OL2OwhW+qYQQvq+Vb702lqe7Bo+IPdu8gj6xgIw+3UFnPkoOzD11MCo+F92EPvJvBD4=",
          "dtype": "f4"
         },
         "y": {
          "bdata": "ZejrPpGGBT/tB/Q+SlvrPkgs9z7Exv4+EgHpPvIx/z6IJ/g+A739PvxkCD/ixv8+XEkLP+0A+D7hvwQ/w5rqPims7j6cjOk+3pr2PheEBj+Ejwk/UoAOP5oG+T6b9e4+dvX7Pg23CT/4EAg/yVn6PrzgCD8=",
          "dtype": "f4"
         },
         "z": {
          "bdata": "e9pcu2ZsxL1IGjW9T1KFuzgrG71mpYa+CNjTvnxQq75gLsy+LmWnvpnToL7RYcG+aK4HvnH/L72N2qG9J5yzPPJiK723Zdy90HFkvpkaj77EI5i+T7FVvgxKUr7DNFS+z4ljvobOL7442XK+jssRvhyUWb4=",
          "dtype": "f4"
         }
        },
        {
         "marker": {
          "color": "red",
          "size": 3
         },
         "mode": "markers",
         "name": "up",
         "type": "scatter3d",
         "x": {
          "bdata": "yls6Pjtznj3HKyW+o8sZvoyuu71p7J++XiQ8vuHZb76acse9v8KFvnbI5b1IjYs9sBFgO8Wlnj5ywvo9xHyduyLdPr7cCri+TNazvr1qO75I/C+9F7ipPdLotT6Uhd8+McPHPuEDOj5I9y8+QyqWPtLi3j0=",
          "dtype": "f4"
         },
         "y": {
          "bdata": "1gsNPw0CLj9mtA0/Pj0BP7bFET8CUxA/4j7sPuNMEj9WOgo/pUQPPw5CKz8rXh0/woI6PwxDFz+Lqyw/HeYYP4OJFT9GCgQ/AH4KPz9RLD/7izE/GYc/P8zyHj/XcgY/QsoSP0GPMT9yUzQ/5w0cP8iUMz8=",
          "dtype": "f4"
         },
         "z": {
          "bdata": "MFzzPcWWJb17x1M9KZ0JPi+qoD3jYaS+C80Qvyxe8b7yUxK/pgnovjr8376xgAm/InsNvuB5IL1yfJC9AfjxPfYC4buIyIy94JOPvv5jxr4NDdq+aPyMvlI+d77GPFW+P19JvrsDw705CU2+KjhZvFwA4r0=",
          "dtype": "f4"
         }
        }
       ],
       "layout": {
        "margin": {
         "b": 0,
         "l": 0,
         "r": 0,
         "t": 40
        },
        "scene": {
         "xaxis": {
          "title": {
           "text": "X"
          }
         },
         "yaxis": {
          "title": {
           "text": "Y"
          }
         },
         "zaxis": {
          "title": {
           "text": "Z"
          }
         }
        },
        "template": {
         "data": {
          "bar": [
           {
            "error_x": {
             "color": "#2a3f5f"
            },
            "error_y": {
             "color": "#2a3f5f"
            },
            "marker": {
             "line": {
              "color": "#E5ECF6",
              "width": 0.5
             },
             "pattern": {
              "fillmode": "overlay",
              "size": 10,
              "solidity": 0.2
             }
            },
            "type": "bar"
           }
          ],
          "barpolar": [
           {
            "marker": {
             "line": {
              "color": "#E5ECF6",
              "width": 0.5
             },
             "pattern": {
              "fillmode": "overlay",
              "size": 10,
              "solidity": 0.2
             }
            },
            "type": "barpolar"
           }
          ],
          "carpet": [
           {
            "aaxis": {
             "endlinecolor": "#2a3f5f",
             "gridcolor": "white",
             "linecolor": "white",
             "minorgridcolor": "white",
             "startlinecolor": "#2a3f5f"
            },
            "baxis": {
             "endlinecolor": "#2a3f5f",
             "gridcolor": "white",
             "linecolor": "white",
             "minorgridcolor": "white",
             "startlinecolor": "#2a3f5f"
            },
            "type": "carpet"
           }
          ],
          "choropleth": [
           {
            "colorbar": {
             "outlinewidth": 0,
             "ticks": ""
            },
            "type": "choropleth"
           }
          ],
          "contour": [
           {
            "colorbar": {
             "outlinewidth": 0,
             "ticks": ""
            },
            "colorscale": [
             [
              0,
              "#0d0887"
             ],
             [
              0.1111111111111111,
              "#46039f"
             ],
             [
              0.2222222222222222,
              "#7201a8"
             ],
             [
              0.3333333333333333,
              "#9c179e"
             ],
             [
              0.4444444444444444,
              "#bd3786"
             ],
             [
              0.5555555555555556,
              "#d8576b"
             ],
             [
              0.6666666666666666,
              "#ed7953"
             ],
             [
              0.7777777777777778,
              "#fb9f3a"
             ],
             [
              0.8888888888888888,
              "#fdca26"
             ],
             [
              1,
              "#f0f921"
             ]
            ],
            "type": "contour"
           }
          ],
          "contourcarpet": [
           {
            "colorbar": {
             "outlinewidth": 0,
             "ticks": ""
            },
            "type": "contourcarpet"
           }
          ],
          "heatmap": [
           {
            "colorbar": {
             "outlinewidth": 0,
             "ticks": ""
            },
            "colorscale": [
             [
              0,
              "#0d0887"
             ],
             [
              0.1111111111111111,
              "#46039f"
             ],
             [
              0.2222222222222222,
              "#7201a8"
             ],
             [
              0.3333333333333333,
              "#9c179e"
             ],
             [
              0.4444444444444444,
              "#bd3786"
             ],
             [
              0.5555555555555556,
              "#d8576b"
             ],
             [
              0.6666666666666666,
              "#ed7953"
             ],
             [
              0.7777777777777778,
              "#fb9f3a"
             ],
             [
              0.8888888888888888,
              "#fdca26"
             ],
             [
              1,
              "#f0f921"
             ]
            ],
            "type": "heatmap"
           }
          ],
          "histogram": [
           {
            "marker": {
             "pattern": {
              "fillmode": "overlay",
              "size": 10,
              "solidity": 0.2
             }
            },
            "type": "histogram"
           }
          ],
          "histogram2d": [
           {
            "colorbar": {
             "outlinewidth": 0,
             "ticks": ""
            },
            "colorscale": [
             [
              0,
              "#0d0887"
             ],
             [
              0.1111111111111111,
              "#46039f"
             ],
             [
              0.2222222222222222,
              "#7201a8"
             ],
             [
              0.3333333333333333,
              "#9c179e"
             ],
             [
              0.4444444444444444,
              "#bd3786"
             ],
             [
              0.5555555555555556,
              "#d8576b"
             ],
             [
              0.6666666666666666,
              "#ed7953"
             ],
             [
              0.7777777777777778,
              "#fb9f3a"
             ],
             [
              0.8888888888888888,
              "#fdca26"
             ],
             [
              1,
              "#f0f921"
             ]
            ],
            "type": "histogram2d"
           }
          ],
          "histogram2dcontour": [
           {
            "colorbar": {
             "outlinewidth": 0,
             "ticks": ""
            },
            "colorscale": [
             [
              0,
              "#0d0887"
             ],
             [
              0.1111111111111111,
              "#46039f"
             ],
             [
              0.2222222222222222,
              "#7201a8"
             ],
             [
              0.3333333333333333,
              "#9c179e"
             ],
             [
              0.4444444444444444,
              "#bd3786"
             ],
             [
              0.5555555555555556,
              "#d8576b"
             ],
             [
              0.6666666666666666,
              "#ed7953"
             ],
             [
              0.7777777777777778,
              "#fb9f3a"
             ],
             [
              0.8888888888888888,
              "#fdca26"
             ],
             [
              1,
              "#f0f921"
             ]
            ],
            "type": "histogram2dcontour"
           }
          ],
          "mesh3d": [
           {
            "colorbar": {
             "outlinewidth": 0,
             "ticks": ""
            },
            "type": "mesh3d"
           }
          ],
          "parcoords": [
           {
            "line": {
             "colorbar": {
              "outlinewidth": 0,
              "ticks": ""
             }
            },
            "type": "parcoords"
           }
          ],
          "pie": [
           {
            "automargin": true,
            "type": "pie"
           }
          ],
          "scatter": [
           {
            "fillpattern": {
             "fillmode": "overlay",
             "size": 10,
             "solidity": 0.2
            },
            "type": "scatter"
           }
          ],
          "scatter3d": [
           {
            "line": {
             "colorbar": {
              "outlinewidth": 0,
              "ticks": ""
             }
            },
            "marker": {
             "colorbar": {
              "outlinewidth": 0,
              "ticks": ""
             }
            },
            "type": "scatter3d"
           }
          ],
          "scattercarpet": [
           {
            "marker": {
             "colorbar": {
              "outlinewidth": 0,
              "ticks": ""
             }
            },
            "type": "scattercarpet"
           }
          ],
          "scattergeo": [
           {
            "marker": {
             "colorbar": {
              "outlinewidth": 0,
              "ticks": ""
             }
            },
            "type": "scattergeo"
           }
          ],
          "scattergl": [
           {
            "marker": {
             "colorbar": {
              "outlinewidth": 0,
              "ticks": ""
             }
            },
            "type": "scattergl"
           }
          ],
          "scattermap": [
           {
            "marker": {
             "colorbar": {
              "outlinewidth": 0,
              "ticks": ""
             }
            },
            "type": "scattermap"
           }
          ],
          "scattermapbox": [
           {
            "marker": {
             "colorbar": {
              "outlinewidth": 0,
              "ticks": ""
             }
            },
            "type": "scattermapbox"
           }
          ],
          "scatterpolar": [
           {
            "marker": {
             "colorbar": {
              "outlinewidth": 0,
              "ticks": ""
             }
            },
            "type": "scatterpolar"
           }
          ],
          "scatterpolargl": [
           {
            "marker": {
             "colorbar": {
              "outlinewidth": 0,
              "ticks": ""
             }
            },
            "type": "scatterpolargl"
           }
          ],
          "scatterternary": [
           {
            "marker": {
             "colorbar": {
              "outlinewidth": 0,
              "ticks": ""
             }
            },
            "type": "scatterternary"
           }
          ],
          "surface": [
           {
            "colorbar": {
             "outlinewidth": 0,
             "ticks": ""
            },
            "colorscale": [
             [
              0,
              "#0d0887"
             ],
             [
              0.1111111111111111,
              "#46039f"
             ],
             [
              0.2222222222222222,
              "#7201a8"
             ],
             [
              0.3333333333333333,
              "#9c179e"
             ],
             [
              0.4444444444444444,
              "#bd3786"
             ],
             [
              0.5555555555555556,
              "#d8576b"
             ],
             [
              0.6666666666666666,
              "#ed7953"
             ],
             [
              0.7777777777777778,
              "#fb9f3a"
             ],
             [
              0.8888888888888888,
              "#fdca26"
             ],
             [
              1,
              "#f0f921"
             ]
            ],
            "type": "surface"
           }
          ],
          "table": [
           {
            "cells": {
             "fill": {
              "color": "#EBF0F8"
             },
             "line": {
              "color": "white"
             }
            },
            "header": {
             "fill": {
              "color": "#C8D4E3"
             },
             "line": {
              "color": "white"
             }
            },
            "type": "table"
           }
          ]
         },
         "layout": {
          "annotationdefaults": {
           "arrowcolor": "#2a3f5f",
           "arrowhead": 0,
           "arrowwidth": 1
          },
          "autotypenumbers": "strict",
          "coloraxis": {
           "colorbar": {
            "outlinewidth": 0,
            "ticks": ""
           }
          },
          "colorscale": {
           "diverging": [
            [
             0,
             "#8e0152"
            ],
            [
             0.1,
             "#c51b7d"
            ],
            [
             0.2,
             "#de77ae"
            ],
            [
             0.3,
             "#f1b6da"
            ],
            [
             0.4,
             "#fde0ef"
            ],
            [
             0.5,
             "#f7f7f7"
            ],
            [
             0.6,
             "#e6f5d0"
            ],
            [
             0.7,
             "#b8e186"
            ],
            [
             0.8,
             "#7fbc41"
            ],
            [
             0.9,
             "#4d9221"
            ],
            [
             1,
             "#276419"
            ]
           ],
           "sequential": [
            [
             0,
             "#0d0887"
            ],
            [
             0.1111111111111111,
             "#46039f"
            ],
            [
             0.2222222222222222,
             "#7201a8"
            ],
            [
             0.3333333333333333,
             "#9c179e"
            ],
            [
             0.4444444444444444,
             "#bd3786"
            ],
            [
             0.5555555555555556,
             "#d8576b"
            ],
            [
             0.6666666666666666,
             "#ed7953"
            ],
            [
             0.7777777777777778,
             "#fb9f3a"
            ],
            [
             0.8888888888888888,
             "#fdca26"
            ],
            [
             1,
             "#f0f921"
            ]
           ],
           "sequentialminus": [
            [
             0,
             "#0d0887"
            ],
            [
             0.1111111111111111,
             "#46039f"
            ],
            [
             0.2222222222222222,
             "#7201a8"
            ],
            [
             0.3333333333333333,
             "#9c179e"
            ],
            [
             0.4444444444444444,
             "#bd3786"
            ],
            [
             0.5555555555555556,
             "#d8576b"
            ],
            [
             0.6666666666666666,
             "#ed7953"
            ],
            [
             0.7777777777777778,
             "#fb9f3a"
            ],
            [
             0.8888888888888888,
             "#fdca26"
            ],
            [
             1,
             "#f0f921"
            ]
           ]
          },
          "colorway": [
           "#636efa",
           "#EF553B",
           "#00cc96",
           "#ab63fa",
           "#FFA15A",
           "#19d3f3",
           "#FF6692",
           "#B6E880",
           "#FF97FF",
           "#FECB52"
          ],
          "font": {
           "color": "#2a3f5f"
          },
          "geo": {
           "bgcolor": "white",
           "lakecolor": "white",
           "landcolor": "#E5ECF6",
           "showlakes": true,
           "showland": true,
           "subunitcolor": "white"
          },
          "hoverlabel": {
           "align": "left"
          },
          "hovermode": "closest",
          "mapbox": {
           "style": "light"
          },
          "paper_bgcolor": "white",
          "plot_bgcolor": "#E5ECF6",
          "polar": {
           "angularaxis": {
            "gridcolor": "white",
            "linecolor": "white",
            "ticks": ""
           },
           "bgcolor": "#E5ECF6",
           "radialaxis": {
            "gridcolor": "white",
            "linecolor": "white",
            "ticks": ""
           }
          },
          "scene": {
           "xaxis": {
            "backgroundcolor": "#E5ECF6",
            "gridcolor": "white",
            "gridwidth": 2,
            "linecolor": "white",
            "showbackground": true,
            "ticks": "",
            "zerolinecolor": "white"
           },
           "yaxis": {
            "backgroundcolor": "#E5ECF6",
            "gridcolor": "white",
            "gridwidth": 2,
            "linecolor": "white",
            "showbackground": true,
            "ticks": "",
            "zerolinecolor": "white"
           },
           "zaxis": {
            "backgroundcolor": "#E5ECF6",
            "gridcolor": "white",
            "gridwidth": 2,
            "linecolor": "white",
            "showbackground": true,
            "ticks": "",
            "zerolinecolor": "white"
           }
          },
          "shapedefaults": {
           "line": {
            "color": "#2a3f5f"
           }
          },
          "ternary": {
           "aaxis": {
            "gridcolor": "white",
            "linecolor": "white",
            "ticks": ""
           },
           "baxis": {
            "gridcolor": "white",
            "linecolor": "white",
            "ticks": ""
           },
           "bgcolor": "#E5ECF6",
           "caxis": {
            "gridcolor": "white",
            "linecolor": "white",
            "ticks": ""
           }
          },
          "title": {
           "x": 0.05
          },
          "xaxis": {
           "automargin": true,
           "gridcolor": "white",
           "linecolor": "white",
           "ticks": "",
           "title": {
            "standoff": 15
           },
           "zerolinecolor": "white",
           "zerolinewidth": 2
          },
          "yaxis": {
           "automargin": true,
           "gridcolor": "white",
           "linecolor": "white",
           "ticks": "",
           "title": {
            "standoff": 15
           },
           "zerolinecolor": "white",
           "zerolinewidth": 2
          }
         }
        }
       }
      }
     },
     "metadata": {},
     "output_type": "display_data"
    }
   ],
   "source": [
    "# Define step size\n",
    "step = 1\n",
    "\n",
    "# Create 3D scatter plot\n",
    "fig = go.Figure()\n",
    "\n",
    "# Section 0 trajectory\n",
    "fig.add_trace(go.Scatter3d(\n",
    "    x=Y_pred_reshaped[::step, 0, 0], \n",
    "    y=Y_pred_reshaped[::step, 0, 1], \n",
    "    z=Y_pred_reshaped[::step, 0, 2], \n",
    "    mode='markers', \n",
    "    marker=dict(color='blue', size=3),\n",
    "    name=\"low\"\n",
    "))\n",
    "\n",
    "# Section 1 trajectory\n",
    "fig.add_trace(go.Scatter3d(\n",
    "    x=Y_pred_reshaped[::step, 1, 0], \n",
    "    y=Y_pred_reshaped[::step, 1, 1], \n",
    "    z=Y_pred_reshaped[::step, 1, 2], \n",
    "    mode='markers', \n",
    "    marker=dict(color='green', size=3),\n",
    "    name=\"middle\"\n",
    "))\n",
    "\n",
    "# Section 2 trajectory\n",
    "fig.add_trace(go.Scatter3d(\n",
    "    x=Y_pred_reshaped[::step, 2, 0], \n",
    "    y=Y_pred_reshaped[::step, 2, 1], \n",
    "    z=Y_pred_reshaped[::step, 2, 2], \n",
    "    mode='markers', \n",
    "    marker=dict(color='red', size=3),\n",
    "    name=\"up\"\n",
    "))\n",
    "\n",
    "# Update layout for better visualization\n",
    "fig.update_layout(\n",
    "    scene=dict(\n",
    "        xaxis_title=\"X\",\n",
    "        yaxis_title=\"Y\",\n",
    "        zaxis_title=\"Z\"\n",
    "    ),\n",
    "    margin=dict(l=0, r=0, b=0, t=40)\n",
    ")\n",
    "\n",
    "# Show interactive figure\n",
    "fig.show()\n"
   ]
  },
  {
   "cell_type": "markdown",
   "metadata": {},
   "source": [
    "### Load the ground truth data"
   ]
  },
  {
   "cell_type": "code",
   "execution_count": 58,
   "metadata": {},
   "outputs": [
    {
     "name": "stdout",
     "output_type": "stream",
     "text": [
      "(29, 25)\n"
     ]
    },
    {
     "data": {
      "text/html": [
       "<div>\n",
       "<style scoped>\n",
       "    .dataframe tbody tr th:only-of-type {\n",
       "        vertical-align: middle;\n",
       "    }\n",
       "\n",
       "    .dataframe tbody tr th {\n",
       "        vertical-align: top;\n",
       "    }\n",
       "\n",
       "    .dataframe thead th {\n",
       "        text-align: right;\n",
       "    }\n",
       "</style>\n",
       "<table border=\"1\" class=\"dataframe\">\n",
       "  <thead>\n",
       "    <tr style=\"text-align: right;\">\n",
       "      <th></th>\n",
       "      <th>Timestamp</th>\n",
       "      <th>SA-base-X</th>\n",
       "      <th>SA-base-Y</th>\n",
       "      <th>SA-base-Z</th>\n",
       "      <th>SA-base-Roll</th>\n",
       "      <th>SA-base-Pitch</th>\n",
       "      <th>SA-base-Yaw</th>\n",
       "      <th>SA-low-X</th>\n",
       "      <th>SA-low-Y</th>\n",
       "      <th>SA-low-Z</th>\n",
       "      <th>...</th>\n",
       "      <th>SA-middle-Z</th>\n",
       "      <th>SA-middle-Roll</th>\n",
       "      <th>SA-middle-Pitch</th>\n",
       "      <th>SA-middle-Yaw</th>\n",
       "      <th>SA-up-X</th>\n",
       "      <th>SA-up-Y</th>\n",
       "      <th>SA-up-Z</th>\n",
       "      <th>SA-up-Roll</th>\n",
       "      <th>SA-up-Pitch</th>\n",
       "      <th>SA-up-Yaw</th>\n",
       "    </tr>\n",
       "  </thead>\n",
       "  <tbody>\n",
       "    <tr>\n",
       "      <th>24</th>\n",
       "      <td>1.744358e+09</td>\n",
       "      <td>0.068008</td>\n",
       "      <td>0.139917</td>\n",
       "      <td>-0.172508</td>\n",
       "      <td>-0.918917</td>\n",
       "      <td>-0.135195</td>\n",
       "      <td>-0.421835</td>\n",
       "      <td>0.069499</td>\n",
       "      <td>0.350843</td>\n",
       "      <td>-0.214796</td>\n",
       "      <td>...</td>\n",
       "      <td>-0.209971</td>\n",
       "      <td>-2.417286</td>\n",
       "      <td>0.300458</td>\n",
       "      <td>-4.055253</td>\n",
       "      <td>0.103878</td>\n",
       "      <td>0.768210</td>\n",
       "      <td>-0.212954</td>\n",
       "      <td>-6.592954</td>\n",
       "      <td>0.580675</td>\n",
       "      <td>-3.440134</td>\n",
       "    </tr>\n",
       "    <tr>\n",
       "      <th>25</th>\n",
       "      <td>1.744358e+09</td>\n",
       "      <td>0.068007</td>\n",
       "      <td>0.139899</td>\n",
       "      <td>-0.172497</td>\n",
       "      <td>-0.914940</td>\n",
       "      <td>-0.129283</td>\n",
       "      <td>-0.411774</td>\n",
       "      <td>0.065666</td>\n",
       "      <td>0.350767</td>\n",
       "      <td>-0.213355</td>\n",
       "      <td>...</td>\n",
       "      <td>-0.202865</td>\n",
       "      <td>-0.307863</td>\n",
       "      <td>0.310027</td>\n",
       "      <td>0.495627</td>\n",
       "      <td>0.071474</td>\n",
       "      <td>0.769212</td>\n",
       "      <td>-0.197399</td>\n",
       "      <td>-4.491129</td>\n",
       "      <td>0.522388</td>\n",
       "      <td>0.333256</td>\n",
       "    </tr>\n",
       "    <tr>\n",
       "      <th>26</th>\n",
       "      <td>1.744358e+09</td>\n",
       "      <td>0.067892</td>\n",
       "      <td>0.139883</td>\n",
       "      <td>-0.172207</td>\n",
       "      <td>-1.052642</td>\n",
       "      <td>0.162652</td>\n",
       "      <td>-0.390052</td>\n",
       "      <td>0.069706</td>\n",
       "      <td>0.350897</td>\n",
       "      <td>-0.217056</td>\n",
       "      <td>...</td>\n",
       "      <td>-0.211206</td>\n",
       "      <td>-0.899323</td>\n",
       "      <td>0.185472</td>\n",
       "      <td>1.667613</td>\n",
       "      <td>0.070239</td>\n",
       "      <td>0.769379</td>\n",
       "      <td>-0.212146</td>\n",
       "      <td>-7.019139</td>\n",
       "      <td>0.444511</td>\n",
       "      <td>3.116158</td>\n",
       "    </tr>\n",
       "    <tr>\n",
       "      <th>27</th>\n",
       "      <td>1.744358e+09</td>\n",
       "      <td>0.068134</td>\n",
       "      <td>0.139976</td>\n",
       "      <td>-0.172459</td>\n",
       "      <td>-0.632465</td>\n",
       "      <td>-0.512632</td>\n",
       "      <td>-0.311145</td>\n",
       "      <td>0.074373</td>\n",
       "      <td>0.350866</td>\n",
       "      <td>-0.216163</td>\n",
       "      <td>...</td>\n",
       "      <td>-0.206483</td>\n",
       "      <td>0.628646</td>\n",
       "      <td>0.123768</td>\n",
       "      <td>-0.044327</td>\n",
       "      <td>0.085137</td>\n",
       "      <td>0.768600</td>\n",
       "      <td>-0.198676</td>\n",
       "      <td>-4.307183</td>\n",
       "      <td>0.151577</td>\n",
       "      <td>3.669684</td>\n",
       "    </tr>\n",
       "    <tr>\n",
       "      <th>28</th>\n",
       "      <td>1.744358e+09</td>\n",
       "      <td>0.068063</td>\n",
       "      <td>0.139900</td>\n",
       "      <td>-0.172508</td>\n",
       "      <td>-0.837432</td>\n",
       "      <td>-0.154175</td>\n",
       "      <td>-0.396477</td>\n",
       "      <td>0.068484</td>\n",
       "      <td>0.350911</td>\n",
       "      <td>-0.216413</td>\n",
       "      <td>...</td>\n",
       "      <td>-0.208344</td>\n",
       "      <td>-0.048109</td>\n",
       "      <td>0.228181</td>\n",
       "      <td>2.553988</td>\n",
       "      <td>0.059761</td>\n",
       "      <td>0.768958</td>\n",
       "      <td>-0.200827</td>\n",
       "      <td>-3.512180</td>\n",
       "      <td>0.190719</td>\n",
       "      <td>5.417414</td>\n",
       "    </tr>\n",
       "  </tbody>\n",
       "</table>\n",
       "<p>5 rows × 25 columns</p>\n",
       "</div>"
      ],
      "text/plain": [
       "       Timestamp  SA-base-X  SA-base-Y  SA-base-Z  SA-base-Roll  \\\n",
       "24  1.744358e+09   0.068008   0.139917  -0.172508     -0.918917   \n",
       "25  1.744358e+09   0.068007   0.139899  -0.172497     -0.914940   \n",
       "26  1.744358e+09   0.067892   0.139883  -0.172207     -1.052642   \n",
       "27  1.744358e+09   0.068134   0.139976  -0.172459     -0.632465   \n",
       "28  1.744358e+09   0.068063   0.139900  -0.172508     -0.837432   \n",
       "\n",
       "    SA-base-Pitch  SA-base-Yaw  SA-low-X  SA-low-Y  SA-low-Z  ...  \\\n",
       "24      -0.135195    -0.421835  0.069499  0.350843 -0.214796  ...   \n",
       "25      -0.129283    -0.411774  0.065666  0.350767 -0.213355  ...   \n",
       "26       0.162652    -0.390052  0.069706  0.350897 -0.217056  ...   \n",
       "27      -0.512632    -0.311145  0.074373  0.350866 -0.216163  ...   \n",
       "28      -0.154175    -0.396477  0.068484  0.350911 -0.216413  ...   \n",
       "\n",
       "    SA-middle-Z  SA-middle-Roll  SA-middle-Pitch  SA-middle-Yaw   SA-up-X  \\\n",
       "24    -0.209971       -2.417286         0.300458      -4.055253  0.103878   \n",
       "25    -0.202865       -0.307863         0.310027       0.495627  0.071474   \n",
       "26    -0.211206       -0.899323         0.185472       1.667613  0.070239   \n",
       "27    -0.206483        0.628646         0.123768      -0.044327  0.085137   \n",
       "28    -0.208344       -0.048109         0.228181       2.553988  0.059761   \n",
       "\n",
       "     SA-up-Y   SA-up-Z  SA-up-Roll  SA-up-Pitch  SA-up-Yaw  \n",
       "24  0.768210 -0.212954   -6.592954     0.580675  -3.440134  \n",
       "25  0.769212 -0.197399   -4.491129     0.522388   0.333256  \n",
       "26  0.769379 -0.212146   -7.019139     0.444511   3.116158  \n",
       "27  0.768600 -0.198676   -4.307183     0.151577   3.669684  \n",
       "28  0.768958 -0.200827   -3.512180     0.190719   5.417414  \n",
       "\n",
       "[5 rows x 25 columns]"
      ]
     },
     "execution_count": 58,
     "metadata": {},
     "output_type": "execute_result"
    }
   ],
   "source": [
    "# Load the ground truth data\n",
    "data = pd.read_csv(\"optitrack_data_full_bodies_data30_actrange150_date1104_3.csv\")\n",
    "\n",
    "# delete the last row of the dataframe\n",
    "data = data[:-1]\n",
    "\n",
    "print(data.shape)\n",
    "data.tail(5)"
   ]
  },
  {
   "cell_type": "code",
   "execution_count": null,
   "metadata": {},
   "outputs": [
    {
     "data": {
      "image/png": "[encoded data removed]",
      "text/plain": [
       "<Figure size 1000x1200 with 3 Axes>"
      ]
     },
     "metadata": {},
     "output_type": "display_data"
    }
   ],
   "source": [
    "# 9 inputs\n",
    "\n",
    "# Create subplots for x, y, z\n",
    "fig, axs = plt.subplots(3, 1, figsize=(10, 12), sharex=True)\n",
    "\n",
    "# X-axis\n",
    "axs[0].plot(data[\"SA-up-X\"], label=\"x-gt\", color=\"blue\")\n",
    "axs[0].plot(predict_end_effector_positions[:, 0]*10, label=\"x-pred\", color=\"blue\", linestyle='--')\n",
    "axs[0].set_ylabel(\"X Position\", fontsize=20)\n",
    "axs[0].legend(fontsize=20, loc='upper left')\n",
    "axs[0].grid()\n",
    "axs[0].tick_params(axis='both', labelsize=20)\n",
    "\n",
    "# Y-axis\n",
    "axs[1].plot(data[\"SA-up-Z\"], label=\"y-gt\", color=\"green\")\n",
    "axs[1].plot(predict_end_effector_positions[:, 2]*10, label=\"y-pred\", color=\"green\", linestyle='--')\n",
    "axs[1].set_ylabel(\"Y Position\", fontsize=20)\n",
    "axs[1].legend(fontsize=20, loc='upper left')\n",
    "axs[1].grid()\n",
    "axs[1].tick_params(axis='both', labelsize=20)\n",
    "\n",
    "# Z-axis\n",
    "axs[2].plot(data[\"SA-up-Y\"], label=\"z-gt\", color=\"orange\")\n",
    "axs[2].plot(predict_end_effector_positions[:, 1]*10, label=\"z-pred\", color=\"orange\", linestyle='--')\n",
    "axs[2].set_ylabel(\"Z Position\", fontsize=20)\n",
    "axs[2].set_xlabel(\"Sample Index\", fontsize=20)\n",
    "axs[2].legend(fontsize=20, loc='upper left')\n",
    "axs[2].grid()\n",
    "axs[2].tick_params(axis='both', labelsize=20)\n",
    "\n",
    "plt.tight_layout()\n",
    "plt.show()\n"
   ]
  },
  {
   "cell_type": "markdown",
   "metadata": {},
   "source": [
    "### Show both true position (optitrack) & predicted position (kinematic model)"
   ]
  },
  {
   "cell_type": "code",
   "execution_count": 12,
   "metadata": {},
   "outputs": [
    {
     "data": {
      "application/vnd.plotly.v1+json": {
       "config": {
        "plotlyServerURL": "https://plot.ly"
       },
       "data": [
        {
         "marker": {
          "color": "blue",
          "size": 3,
          "symbol": "circle"
         },
         "mode": "markers",
         "name": "Prediction-low",
         "type": "scatter3d",
         "x": {
          "bdata": "bliDPXM6sD2yEK89B0/YPWLbEj7pxfg9prTgPbP2rD2FKhg9v5LgPOW44T1WkOo9dO25PbPauT0yhyk9aMwuPagtwjzE6HE8JwkbPQnBej3Nv6496gbvPfZO8j00kMw9ECnMPS9sAT75C9I9D8S7PVxPxz0=",
          "dtype": "f4"
         },
         "y": {
          "bdata": "D3qzPtcfsz6qXLM+pn2yPofPqz654rA+fMKuPsO6sT6gW7E+IOauPosjsT5qsrA+JHSyPnGRsD73LLA+D4mwPnPIrT7MQKs+h1WtPte/rz7mabE+Jl+yPrLNsD4VsrM+ZXyvPkN4qj4bHa4+TsGnPoxjpT4=",
          "dtype": "f4"
         },
         "z": {
          "bdata": "NylbvlMQYr6C6li+5a5fvqYzT7706ma+F7KEvqvYfL5PRmy+i+9+voM1c74DGXS+CstsvnlmgL4zcny+xh92vsiLfL6ipIW+jRGJvqGHhr7TF4C+0N1kvmuGXb7qR0C+bp0gvntGE74S4gu+E27evX69yb0=",
          "dtype": "f4"
         }
        },
        {
         "marker": {
          "color": "green",
          "size": 3,
          "symbol": "circle"
         },
         "mode": "markers",
         "name": "Prediction-middle",
         "type": "scatter3d",
         "x": {
          "bdata": "y8SgPSgsET4Osg4+Pi1LPnH3mT5t5XY+7nE7Pqvn6z0WS7+84BqPvYmvSz59eVk+CLoVPsS6Cj5FV7K81Fc9vB/bob17KPu9KKZkvWB1uzwPPzI94WELPqqaOz567tU9T8YQPjIlcT7mqB8+5WkqPlxzKj4=",
          "dtype": "f4"
         },
         "y": {
          "bdata": "Z94IP1TECD+f7gc/TcAEP2ZX2T70Nfs+7GkCP226Cz/VUgc/7JoCP9zsBD/GrgI/pzcKPyvNCD+8pAg/Go4IP4JQAT+b6PQ+/I0CP7hhCT/Y8Qk/HRMNP2sHBj/5ago/7SsDP8JB8z6vLgE/Ac3fPmL82T4=",
          "dtype": "f4"
         },
         "z": {
          "bdata": "h14vvhIVWr57jzu+maJhvp1cer5CLI2+4pu6vvUylb7GJlG+MWyBvmwLk760qpm+tG+EvhTlob4qcYG+TeZvvpwodr6tApG+r96fvn7Oo74hKpW+5nh0vjs4kL6Tz1q++yeovWEehb0cgE29CPKKPQkqzj0=",
          "dtype": "f4"
         }
        },
        {
         "marker": {
          "color": "red",
          "size": 3,
          "symbol": "circle"
         },
         "mode": "markers",
         "name": "Prediction-up",
         "type": "scatter3d",
         "x": {
          "bdata": "/77GPVSKQj6qo0I+oGqQPhbh5D5ldrk+zztaPnmk3j3Uy/O9nvhQvpSecD5IR44+WKwqPpgzKD5Rnu+9xwuZvVJ7O77Cg4K+ZuMmvsIc37vq4Ya95aPMPRD3Zj65Oww+A0kyPln4uz5gLn8+P8qHPs2Eiz4=",
          "dtype": "f4"
         },
         "y": {
          "bdata": "gW8vP+0UMj+2BS8/m6MoPz7l5z5JIRg/L0klP/h3PD+EPSw/FGQePykQMT8Tjyg/zGg2P/FWNz/L1zE/iWU0P7KlJD9EsBU/IHApP7GpNj98njA/ITE4Pxo6Kj+BGC0/QwUpPz1rFz+gXyM/DNwGPzUXBz8=",
          "dtype": "f4"
         },
         "z": {
          "bdata": "hJ+mvdsVL75DNeS9IwVFvnqVlr56yJ6+uFfvvkroqL5Jaw++LXxuvtJDp75poJ6+QFBjvvN4pb7dXlW+5UQuvu3sN77Sw36+OaWlvubVv77Lu7K+0JKTvuOC174ZAau+XtGWvYFJ1r1D+6i9bbJoPs3xmT4=",
          "dtype": "f4"
         }
        },
        {
         "marker": {
          "color": "turquoise",
          "size": 3,
          "symbol": "square"
         },
         "mode": "markers",
         "name": "GT-low",
         "type": "scatter3d",
         "x": {
          "bdata": "+v//f68asT/9///fkCCzP/7//z8b0bI/AAAAIAiUtD/7///fckK5P/r//z+jY7Y//P//H5xAtT////8f7xCzP/z//z9TDa4/+v//34JBrD/5////KB+1P/v//x8qpLU/+v//HyGZsz8AAABAlqKzP/z///8Ji68/+f//399krz/2//+fGoyrP/z//5+o8Kg/8v//H+xKrj/+//+/eCuxP////18L8LI//P//X9mptT/+//9fEw22P/v///963LM/+///fwWisz8AAADA9zC2P/7//x8Xx7M//f//f82Lsj/7//+fCRSzPw==",
          "dtype": "f8"
         },
         "y": {
          "bdata": "AAAAAAJn1j////9f/GvWP////x/rZdY/////XzVn1j8AAAAgGUTWPwAAAOBrYdY/////n4Jr1j8AAABgZnLWPwAAAGBdZdY/AAAAYNNk1j/////fWWrWPwAAAGBda9Y/AAAAoCVx1j8AAABAlnPWPwAAAIDibdY/////389s1j8AAABA1mPWPwAAAOAqV9Y/AAAAoBZs1j8AAAAAeXPWPwAAAAD3c9Y//////9Rl1j8AAACg4lzWPwAAACBTSdY/AAAAoKEg1j8AAAAAc/7VP////5+S8tU/AAAAoHGI1T8AAABAnEnVPw==",
          "dtype": "f8"
         },
         "z": {
          "bdata": "AAAAgKjhyb////8fOG7KvwAAAEDZH8q//v///7uVyr/9//9fgJ/Kv/3//5+CKcu//v//f+ykzL8AAADAPKPLv////x95rMq/////n1q0y7/+//8fRHnLvwAAAIBVs8u//v//v4BHy7/+//+/rSzMv/3///9jYcu//v//n3Qny7/+//9/3onLvwAAAGDPF82/////fwXmzL/+//9f0KXMv/7//78AMsy/AAAAoDbxyr8AAADgpjLKv////99Ufsi//v//v+r8xr8AAAAAM1XGv/7//x+FxcW//f//Py+dw7/9//8/taLCvw==",
          "dtype": "f8"
         }
        },
        {
         "marker": {
          "color": "yellow",
          "size": 3,
          "symbol": "square"
         },
         "mode": "markers",
         "name": "GT-middle",
         "type": "scatter3d",
         "x": {
          "bdata": "/P//v/Ecsz/9//+/Hsq4PwAAACBRA7g/+v//v89LvT////8/9TLGPwAAACDPb8E//v//X6XwvD/7//9fSnW2P/j//1/3+qM/8f//P+enlz////+/jWW9P/z//z+c0b4/+///317puD/+//+feAu4P/3//z+1xaY/+v//n3rNpj/1//8fkJuSP8n//x9nk3i//P//vwXSmz/7////fmCsP////9/aV7A/+v///8MguD8AAADgeWK8P/z///9/UbU/+v//P/Cctj/8///fzE+/PwAAAAD0sLc/+v//f3ZGtj8AAADA5ya2Pw==",
          "dtype": "f8"
         },
         "y": {
          "bdata": "AAAAgHzi4T8AAACg9+XhPwAAAKDz4uE/AAAAYNTX4T8AAABg1WfhPwAAACBbtuE/AAAAIAG64T8AAACAqOjhPwAAAMDe4eE/AAAAQKvV4T8AAAAAQdXhPwAAAICBy+E/AAAAAEbn4T8AAAAARt3hPwAAAAAZ6uE/AAAA4Lnp4T8AAACAPtDhPwAAAABHl+E/AAAAYNzG4T8AAACA+tzhPwAAAACf3uE/AAAAQHnj4T8AAADgAdHhPwAAAMBR2+E/AAAAAAaz4T8AAAAAu4PhPwAAAGCBiOE/AAAAQDrR4D8AAADAJHvgPw==",
          "dtype": "f8"
         },
         "z": {
          "bdata": "////H+Mtx78AAABgTaXJv////188r8i//v//Xy20yr8AAACgFpXMv//////qpM2/AAAAQD4Y0b/+////CijOv//////sbcm/AAAAQEFZzL/+//9f1unNv/7//3/y7M6/AAAAIA4nzb////+/ggHQv/3//59NEsy/AAAAgFNPy7/+//+fN9vLv////3/LN9C/AAAAYIxS0L//////I0PQv////58Z3c+//f//HzENzb////9f+SfNvwAAAIAmxMi/////f3+swr8AAABAilXBv////x/3+7+/9P//nxWTr7/5//8/mt2kvw==",
          "dtype": "f8"
         }
        },
        {
         "marker": {
          "color": "orange",
          "size": 3,
          "symbol": "square"
         },
         "mode": "markers",
         "name": "GT-up",
         "type": "scatter3d",
         "x": {
          "bdata": "AAAAYCggsz/6//+/v7q9P/3//58Chbw/////P+ctwz8AAADg/gLRPwAAAICe+Mg/AAAAwLDLwT/8//+fg9q3P+z//19WDlu/////PzCyo7/+//+fZOfAP/3//1/+JMM/+///nxHjuj/7///fl9K6P/X//58ey4U//P///w04kz/w//8/UAqcv////5+Zt7K/1f//nxAMhL/2///fmDOpP/j//3+2XKY/////n4G7tz8AAACApry/P/3//1+MdrU//v///7Xuuj/+//+f6sHEP/z//997U70//P//P1cAvj/+//+/Kza8Pw==",
          "dtype": "f8"
         },
         "y": {
          "bdata": "AAAAILKU6D8AAAAgm4voPwAAAEBhjOg/AAAAAClf6D8AAACg2h7nPwAAAEBg2Oc/AAAAoLy15z8AAABgXljoPwAAAOCkdOg/AAAAwLMx6D8AAAAA1kLoPwAAAMBMOug/AAAAoFaE6D8AAABg0F3oPwAAAOASfeg/AAAAoOyG6D8AAADgTFDoPwAAAGBFzuc/AAAAwHUa6D8AAABAdSnoPwAAAID+/uc/AAAAwFsb6D8AAAAAvMbnPwAAAKCPAOg/AAAAoOQ66D8AAAAgfeznPwAAAODkCOg/AAAAYItK5z8AAADgD9jmPw==",
          "dtype": "f8"
         },
         "z": {
          "bdata": "////X38gxr/9//8fK63Lv/3//1+/Bsq//v//3zNSzr8AAACAEq/Rv////3/2h9K/////X3m41r////9/xLfSv////x95t8q/AAAAwG26z78AAACAZ5TSvwAAACDFqNK/AAAAAPZ+0L////+fD+nSvwAAAMC+xM6/////nwtuzb//////kx7OvwAAACDJe9K/AAAAYCjM078AAABARH/UvwAAAKBY9dS/////n0U507////9/h37UvwAAAEAce9G//f//X73qxr/+//8/zPnFv/7//7+1SMS/8P//361Hnb/x//9/OOiKPw==",
          "dtype": "f8"
         }
        },
        {
         "line": {
          "color": "gray",
          "dash": "dot",
          "width": 1
         },
         "mode": "lines",
         "showlegend": false,
         "type": "scatter3d",
         "x": [
          0.06413350999355316,
          0.066813439130783
         ],
         "y": [
          0.3505406081676483,
          0.3500370979309082
         ],
         "z": [
          -0.2140244096517563,
          -0.2021990418434143
         ]
        },
        {
         "line": {
          "color": "gray",
          "dash": "dot",
          "width": 1
         },
         "mode": "lines",
         "showlegend": false,
         "type": "scatter3d",
         "x": [
          0.08604898303747177,
          0.0747156664729118
         ],
         "y": [
          0.3498522937297821,
          0.3503409326076507
         ],
         "z": [
          -0.2207653969526291,
          -0.206488624215126
         ]
        },
        {
         "line": {
          "color": "gray",
          "dash": "dot",
          "width": 1
         },
         "mode": "lines",
         "showlegend": false,
         "type": "scatter3d",
         "x": [
          0.08548106253147125,
          0.0735032111406326
         ],
         "y": [
          0.3503163456916809,
          0.3499706089496612
         ],
         "z": [
          -0.21183207631111145,
          -0.2040969431400299
         ]
        },
        {
         "line": {
          "color": "gray",
          "dash": "dot",
          "width": 1
         },
         "mode": "lines",
         "showlegend": false,
         "type": "scatter3d",
         "x": [
          0.10561948269605637,
          0.0803837850689888
         ],
         "y": [
          0.3486148715019226,
          0.3500493466854095
         ],
         "z": [
          -0.21844060719013214,
          -0.2076945304870605
         ]
        },
        {
         "line": {
          "color": "gray",
          "dash": "dot",
          "width": 1
         },
         "mode": "lines",
         "showlegend": false,
         "type": "scatter3d",
         "x": [
          0.14341500401496887,
          0.0986701771616935
         ],
         "y": [
          0.3355676829814911,
          0.3479063808917999
         ],
         "z": [
          -0.20234546065330505,
          -0.207992598414421
         ]
        },
        {
         "line": {
          "color": "gray",
          "dash": "dot",
          "width": 1
         },
         "mode": "lines",
         "showlegend": false,
         "type": "scatter3d",
         "x": [
          0.12147123366594315,
          0.087457850575447
         ],
         "y": [
          0.3454797565937042,
          0.3496961295604706
         ],
         "z": [
          -0.22550565004348755,
          -0.2122042924165725
         ]
        },
        {
         "line": {
          "color": "gray",
          "dash": "dot",
          "width": 1
         },
         "mode": "lines",
         "showlegend": false,
         "type": "scatter3d",
         "x": [
          0.10971955955028534,
          0.0830171182751655
         ],
         "y": [
          0.3413275480270386,
          0.3503119051456451
         ],
         "z": [
          -0.2591712176799774,
          -0.2237830758094787
         ]
        },
        {
         "line": {
          "color": "gray",
          "dash": "dot",
          "width": 1
         },
         "mode": "lines",
         "showlegend": false,
         "type": "scatter3d",
         "x": [
          0.08445491641759872,
          0.0744771435856819
         ],
         "y": [
          0.3471280038356781,
          0.3507324159145355
         ],
         "z": [
          -0.24692027270793915,
          -0.2159191071987152
         ]
        },
        {
         "line": {
          "color": "gray",
          "dash": "dot",
          "width": 1
         },
         "mode": "lines",
         "showlegend": false,
         "type": "scatter3d",
         "x": [
          0.03714992478489876,
          0.058695413172245
         ],
         "y": [
          0.3464021682739258,
          0.3499368131160736
         ],
         "z": [
          -0.23073695600032806,
          -0.2083884626626968
         ]
        },
        {
         "line": {
          "color": "gray",
          "dash": "dot",
          "width": 1
         },
         "mode": "lines",
         "showlegend": false,
         "type": "scatter3d",
         "x": [
          0.02741372399032116,
          0.0551873110234737
         ],
         "y": [
          0.3415994644165039,
          0.3499039113521576
         ],
         "z": [
          -0.24896065890789032,
          -0.2164414674043655
         ]
        },
        {
         "line": {
          "color": "gray",
          "dash": "dot",
          "width": 1
         },
         "mode": "lines",
         "showlegend": false,
         "type": "scatter3d",
         "x": [
          0.1102159395813942,
          0.0825067162513732
         ],
         "y": [
          0.34597429633140564,
          0.3502411544322967
         ],
         "z": [
          -0.23750881850719452,
          -0.2146382480859756
         ]
        },
        {
         "line": {
          "color": "gray",
          "dash": "dot",
          "width": 1
         },
         "mode": "lines",
         "showlegend": false,
         "type": "scatter3d",
         "x": [
          0.11453311145305634,
          0.0845362022519111
         ],
         "y": [
          0.3451111912727356,
          0.3503030240535736
         ],
         "z": [
          -0.2383766621351242,
          -0.2164103388786316
         ]
        },
        {
         "line": {
          "color": "gray",
          "dash": "dot",
          "width": 1
         },
         "mode": "lines",
         "showlegend": false,
         "type": "scatter3d",
         "x": [
          0.0907849371433258,
          0.0765553191304206
         ],
         "y": [
          0.34854233264923096,
          0.3506559431552887
         ],
         "z": [
          -0.2312432825565338,
          -0.2131195962429046
         ]
        },
        {
         "line": {
          "color": "gray",
          "dash": "dot",
          "width": 1
         },
         "mode": "lines",
         "showlegend": false,
         "type": "scatter3d",
         "x": [
          0.09074916690587997,
          0.0766996294260025
         ],
         "y": [
          0.34485962986946106,
          0.35080486536026
         ],
         "z": [
          -0.2507818043231964,
          -0.2201134860515594
         ]
        },
        {
         "line": {
          "color": "gray",
          "dash": "dot",
          "width": 1
         },
         "mode": "lines",
         "showlegend": false,
         "type": "scatter3d",
         "x": [
          0.04138869792222977,
          0.0616076588630676
         ],
         "y": [
          0.34409305453300476,
          0.3504568338394165
         ],
         "z": [
          -0.24652938544750214,
          -0.21390962600708
         ]
        },
        {
         "line": {
          "color": "gray",
          "dash": "dot",
          "width": 1
         },
         "mode": "lines",
         "showlegend": false,
         "type": "scatter3d",
         "x": [
          0.042675405740737915,
          0.0613164864480495
         ],
         "y": [
          0.34479567408561707,
          0.3503913581371307
         ],
         "z": [
          -0.24035558104515076,
          -0.2121415883302688
         ]
        },
        {
         "line": {
          "color": "gray",
          "dash": "dot",
          "width": 1
         },
         "mode": "lines",
         "showlegend": false,
         "type": "scatter3d",
         "x": [
          0.02370341122150421,
          0.0538032837212085
         ],
         "y": [
          0.3394199311733246,
          0.3498435616493225
         ],
         "z": [
          -0.24662697315216064,
          -0.21514493227005
         ]
        },
        {
         "line": {
          "color": "gray",
          "dash": "dot",
          "width": 1
         },
         "mode": "lines",
         "showlegend": false,
         "type": "scatter3d",
         "x": [
          0.014764968305826187,
          0.0487110801041126
         ],
         "y": [
          0.3344787359237671,
          0.349070280790329
         ],
         "z": [
          -0.2610216736793518,
          -0.2272891253232956
         ]
        },
        {
         "line": {
          "color": "gray",
          "dash": "dot",
          "width": 1
         },
         "mode": "lines",
         "showlegend": false,
         "type": "scatter3d",
         "x": [
          0.037850525230169296,
          0.0591653622686862
         ],
         "y": [
          0.3385431468486786,
          0.3503471910953522
         ],
         "z": [
          -0.2677120268344879,
          -0.2257696986198425
         ]
        },
        {
         "line": {
          "color": "gray",
          "dash": "dot",
          "width": 1
         },
         "mode": "lines",
         "showlegend": false,
         "type": "scatter3d",
         "x": [
          0.06121924892067909,
          0.0670695751905441
         ],
         "y": [
          0.3432604968547821,
          0.3507978916168213
         ],
         "z": [
          -0.26275351643562317,
          -0.2238102406263351
         ]
        },
        {
         "line": {
          "color": "gray",
          "dash": "dot",
          "width": 1
         },
         "mode": "lines",
         "showlegend": false,
         "type": "scatter3d",
         "x": [
          0.08532676845788956,
          0.0739752873778343
         ],
         "y": [
          0.3465110659599304,
          0.3508279323577881
         ],
         "z": [
          -0.25018176436424255,
          -0.2202759683132171
         ]
        },
        {
         "line": {
          "color": "gray",
          "dash": "dot",
          "width": 1
         },
         "mode": "lines",
         "showlegend": false,
         "type": "scatter3d",
         "x": [
          0.11671240627765656,
          0.0846229419112205
         ],
         "y": [
          0.3483821749687195,
          0.3499653339385986
         ],
         "z": [
          -0.22350239753723145,
          -0.2104862481355667
         ]
        },
        {
         "line": {
          "color": "gray",
          "dash": "dot",
          "width": 1
         },
         "mode": "lines",
         "showlegend": false,
         "type": "scatter3d",
         "x": [
          0.11831466853618622,
          0.086137019097805
         ],
         "y": [
          0.34531933069229126,
          0.3494192659854889
         ],
         "z": [
          -0.2163330763578415,
          -0.2046707719564438
         ]
        },
        {
         "line": {
          "color": "gray",
          "dash": "dot",
          "width": 1
         },
         "mode": "lines",
         "showlegend": false,
         "type": "scatter3d",
         "x": [
          0.09988442063331604,
          0.0775830149650573
         ],
         "y": [
          0.35096803307533264,
          0.3482253849506378
         ],
         "z": [
          -0.18777433037757874,
          -0.1913553327322006
         ]
        },
        {
         "line": {
          "color": "gray",
          "dash": "dot",
          "width": 1
         },
         "mode": "lines",
         "showlegend": false,
         "type": "scatter3d",
         "x": [
          0.09968769550323486,
          0.0766910016536712
         ],
         "y": [
          0.34274592995643616,
          0.3457416594028473
         ],
         "z": [
          -0.15685054659843445,
          -0.179593414068222
         ]
        },
        {
         "line": {
          "color": "gray",
          "dash": "dot",
          "width": 1
         },
         "mode": "lines",
         "showlegend": false,
         "type": "scatter3d",
         "x": [
          0.1263892501592636,
          0.0866846889257431
         ],
         "y": [
          0.33294877409935,
          0.3436553478240967
         ],
         "z": [
          -0.1438235491514206,
          -0.1744750738143921
         ]
        },
        {
         "line": {
          "color": "gray",
          "dash": "dot",
          "width": 1
         },
         "mode": "lines",
         "showlegend": false,
         "type": "scatter3d",
         "x": [
          0.10256189852952957,
          0.0772566273808479
         ],
         "y": [
          0.3400658071041107,
          0.3429304659366607
         ],
         "z": [
          -0.13660457730293274,
          -0.1700903326272964
         ]
        },
        {
         "line": {
          "color": "gray",
          "dash": "dot",
          "width": 1
         },
         "mode": "lines",
         "showlegend": false,
         "type": "scatter3d",
         "x": [
          0.0916825458407402,
          0.0724457204341888
         ],
         "y": [
          0.3276466727256775,
          0.3364528715610504
         ],
         "z": [
          -0.10860838741064072,
          -0.1532343924045562
         ]
        },
        {
         "line": {
          "color": "gray",
          "dash": "dot",
          "width": 1
         },
         "mode": "lines",
         "showlegend": false,
         "type": "scatter3d",
         "x": [
          0.0973193347454071,
          0.0745244994759559
         ],
         "y": [
          0.323025107383728,
          0.3326178193092346
         ],
         "z": [
          -0.09850595891475677,
          -0.145590454339981
         ]
        },
        {
         "line": {
          "color": "gray",
          "dash": "dot",
          "width": 1
         },
         "mode": "lines",
         "showlegend": false,
         "type": "scatter3d",
         "x": [
          0.07850035279989243,
          0.0746604055166244
         ],
         "y": [
          0.5346435904502869,
          0.5588972568511963
         ],
         "z": [
          -0.17125903069972992,
          -0.1810878664255142
         ]
        },
        {
         "line": {
          "color": "gray",
          "dash": "dot",
          "width": 1
         },
         "mode": "lines",
         "showlegend": false,
         "type": "scatter3d",
         "x": [
          0.14177000522613525,
          0.0968341082334518
         ],
         "y": [
          0.5342457294464111,
          0.5593221783638
         ],
         "z": [
          -0.21297100186347961,
          -0.200357124209404
         ]
        },
        {
         "line": {
          "color": "gray",
          "dash": "dot",
          "width": 1
         },
         "mode": "lines",
         "showlegend": false,
         "type": "scatter3d",
         "x": [
          0.13935109972953796,
          0.0938006117939949
         ],
         "y": [
          0.5309848189353943,
          0.5589540600776672
         ],
         "z": [
          -0.18316452205181122,
          -0.1928477734327316
         ]
        },
        {
         "line": {
          "color": "gray",
          "dash": "dot",
          "width": 1
         },
         "mode": "lines",
         "showlegend": false,
         "type": "scatter3d",
         "x": [
          0.19841477274894714,
          0.1144380420446395
         ],
         "y": [
          0.5185592770576477,
          0.5575963854789734
         ],
         "z": [
          -0.2203468233346939,
          -0.2086235731840133
         ]
        },
        {
         "line": {
          "color": "gray",
          "dash": "dot",
          "width": 1
         },
         "mode": "lines",
         "showlegend": false,
         "type": "scatter3d",
         "x": [
          0.30071595311164856,
          0.1734301149845123
         ],
         "y": [
          0.4244949221611023,
          0.5439249873161316
         ],
         "z": [
          -0.24449391663074493,
          -0.2232998162508011
         ]
        },
        {
         "line": {
          "color": "gray",
          "dash": "dot",
          "width": 1
         },
         "mode": "lines",
         "showlegend": false,
         "type": "scatter3d",
         "x": [
          0.24110956490039825,
          0.1362246423959732
         ],
         "y": [
          0.49064600467681885,
          0.5535102486610413
         ],
         "z": [
          -0.2757282853126526,
          -0.2315953969955444
         ]
        },
        {
         "line": {
          "color": "gray",
          "dash": "dot",
          "width": 1
         },
         "mode": "lines",
         "showlegend": false,
         "type": "scatter3d",
         "x": [
          0.18305179476737976,
          0.1130469664931297
         ],
         "y": [
          0.5094287395477295,
          0.553955614566803
         ],
         "z": [
          -0.36447054147720337,
          -0.2671046853065491
         ]
        },
        {
         "line": {
          "color": "gray",
          "dash": "dot",
          "width": 1
         },
         "mode": "lines",
         "showlegend": false,
         "type": "scatter3d",
         "x": [
          0.11518796533346176,
          0.0877272114157676
         ],
         "y": [
          0.5458133816719055,
          0.5596506595611572
         ],
         "z": [
          -0.2914043962955475,
          -0.235597014427185
         ]
        },
        {
         "line": {
          "color": "gray",
          "dash": "dot",
          "width": 1
         },
         "mode": "lines",
         "showlegend": false,
         "type": "scatter3d",
         "x": [
          -0.023351233452558517,
          0.0390240959823131
         ],
         "y": [
          0.5286076664924622,
          0.5588220357894897
         ],
         "z": [
          -0.20424947142601013,
          -0.1986671686172485
         ]
        },
        {
         "line": {
          "color": "gray",
          "dash": "dot",
          "width": 1
         },
         "mode": "lines",
         "showlegend": false,
         "type": "scatter3d",
         "x": [
          -0.06987547874450684,
          0.0231014378368854
         ],
         "y": [
          0.510176420211792,
          0.5573326349258423
         ],
         "z": [
          -0.252778559923172,
          -0.2214738428592682
         ]
        },
        {
         "line": {
          "color": "gray",
          "dash": "dot",
          "width": 1
         },
         "mode": "lines",
         "showlegend": false,
         "type": "scatter3d",
         "x": [
          0.19891180098056793,
          0.1148308366537094
         ],
         "y": [
          0.5192391872406006,
          0.5572819709777832
         ],
         "z": [
          -0.2871965169906616,
          -0.2336986511945724
         ]
        },
        {
         "line": {
          "color": "gray",
          "dash": "dot",
          "width": 1
         },
         "mode": "lines",
         "showlegend": false,
         "type": "scatter3d",
         "x": [
          0.21237750351428986,
          0.1203859001398086
         ],
         "y": [
          0.5104793310165405,
          0.5560920238494873
         ],
         "z": [
          -0.3001304864883423,
          -0.241606056690216
         ]
        },
        {
         "line": {
          "color": "gray",
          "dash": "dot",
          "width": 1
         },
         "mode": "lines",
         "showlegend": false,
         "type": "scatter3d",
         "x": [
          0.1462174654006958,
          0.0973109528422355
         ],
         "y": [
          0.539911687374115,
          0.5594816207885742
         ],
         "z": [
          -0.25866472721099854,
          -0.2277543693780899
         ]
        },
        {
         "line": {
          "color": "gray",
          "dash": "dot",
          "width": 1
         },
         "mode": "lines",
         "showlegend": false,
         "type": "scatter3d",
         "x": [
          0.13547807931900024,
          0.0939250364899635
         ],
         "y": [
          0.5343806147575378,
          0.5582609176635742
         ],
         "z": [
          -0.316200852394104,
          -0.2500922083854675
         ]
        },
        {
         "line": {
          "color": "gray",
          "dash": "dot",
          "width": 1
         },
         "mode": "lines",
         "showlegend": false,
         "type": "scatter3d",
         "x": [
          -0.02177012898027897,
          0.044477142393589
         ],
         "y": [
          0.5337636470794678,
          0.5598263740539551
         ],
         "z": [
          -0.25281649827957153,
          -0.2193085700273513
         ]
        },
        {
         "line": {
          "color": "gray",
          "dash": "dot",
          "width": 1
         },
         "mode": "lines",
         "showlegend": false,
         "type": "scatter3d",
         "x": [
          -0.011556584388017654,
          0.044536430388689
         ],
         "y": [
          0.5334182977676392,
          0.559781014919281
         ],
         "z": [
          -0.23427696526050568,
          -0.2133583426475525
         ]
        },
        {
         "line": {
          "color": "gray",
          "dash": "dot",
          "width": 1
         },
         "mode": "lines",
         "showlegend": false,
         "type": "scatter3d",
         "x": [
          -0.07903122156858444,
          0.0181715507060289
         ],
         "y": [
          0.5051347017288208,
          0.5566704273223877
         ],
         "z": [
          -0.24038928747177124,
          -0.2176274806261062
         ]
        },
        {
         "line": {
          "color": "gray",
          "dash": "dot",
          "width": 1
         },
         "mode": "lines",
         "showlegend": false,
         "type": "scatter3d",
         "x": [
          -0.12263580411672592,
          -0.0059999492950737
         ],
         "y": [
          0.4783371388912201,
          0.5497164726257324
         ],
         "z": [
          -0.28322353959083557,
          -0.2534054517745971
         ]
        },
        {
         "line": {
          "color": "gray",
          "dash": "dot",
          "width": 1
         },
         "mode": "lines",
         "showlegend": false,
         "type": "scatter3d",
         "x": [
          -0.055822521448135376,
          0.0271683596074581
         ],
         "y": [
          0.5099790096282959,
          0.555525004863739
         ],
         "z": [
          -0.31224581599235535,
          -0.2550383508205414
         ]
        },
        {
         "line": {
          "color": "gray",
          "dash": "dot",
          "width": 1
         },
         "mode": "lines",
         "showlegend": false,
         "type": "scatter3d",
         "x": [
          0.022883117198944092,
          0.0554237067699432
         ],
         "y": [
          0.5366473197937012,
          0.5582249164581299
         ],
         "z": [
          -0.31993478536605835,
          -0.2540979385375976
         ]
        },
        {
         "line": {
          "color": "gray",
          "dash": "dot",
          "width": 1
         },
         "mode": "lines",
         "showlegend": false,
         "type": "scatter3d",
         "x": [
          0.04351716861128807,
          0.0638405606150627
         ],
         "y": [
          0.538846492767334,
          0.5584254264831543
         ],
         "z": [
          -0.2913370430469513,
          -0.2489349395036697
         ]
        },
        {
         "line": {
          "color": "gray",
          "dash": "dot",
          "width": 1
         },
         "mode": "lines",
         "showlegend": false,
         "type": "scatter3d",
         "x": [
          0.13611556589603424,
          0.0942499637603759
         ],
         "y": [
          0.551072895526886,
          0.5590177774429321
         ],
         "z": [
          -0.23874244093894958,
          -0.2269650846719741
         ]
        },
        {
         "line": {
          "color": "gray",
          "dash": "dot",
          "width": 1
         },
         "mode": "lines",
         "showlegend": false,
         "type": "scatter3d",
         "x": [
          0.1832071840763092,
          0.110877625644207
         ],
         "y": [
          0.5235506892204285,
          0.5567635893821716
         ],
         "z": [
          -0.2816790044307709,
          -0.2277824133634567
         ]
        },
        {
         "line": {
          "color": "gray",
          "dash": "dot",
          "width": 1
         },
         "mode": "lines",
         "showlegend": false,
         "type": "scatter3d",
         "x": [
          0.1044587641954422,
          0.0832748413085937
         ],
         "y": [
          0.5406947731971741,
          0.5580223798751831
         ],
         "z": [
          -0.21368245780467987,
          -0.1934860348701477
         ]
        },
        {
         "line": {
          "color": "gray",
          "dash": "dot",
          "width": 1
         },
         "mode": "lines",
         "showlegend": false,
         "type": "scatter3d",
         "x": [
          0.14138148725032806,
          0.0883321911096572
         ],
         "y": [
          0.5123890042304993,
          0.5531034469604492
         ],
         "z": [
          -0.08210750669240952,
          -0.1458892226219177
         ]
        },
        {
         "line": {
          "color": "gray",
          "dash": "dot",
          "width": 1
         },
         "mode": "lines",
         "showlegend": false,
         "type": "scatter3d",
         "x": [
          0.23549345135688782,
          0.1223114058375358
         ],
         "y": [
          0.47511106729507446,
          0.547330379486084
         ],
         "z": [
          -0.06499934941530228,
          -0.1354229748249054
         ]
        },
        {
         "line": {
          "color": "gray",
          "dash": "dot",
          "width": 1
         },
         "mode": "lines",
         "showlegend": false,
         "type": "scatter3d",
         "x": [
          0.15591773390769958,
          0.0925438404083252
         ],
         "y": [
          0.5046185851097107,
          0.5479132533073425
         ],
         "z": [
          -0.05017100274562836,
          -0.1249384358525276
         ]
        },
        {
         "line": {
          "color": "gray",
          "dash": "dot",
          "width": 1
         },
         "mode": "lines",
         "showlegend": false,
         "type": "scatter3d",
         "x": [
          0.16641958057880402,
          0.0870126783847808
         ],
         "y": [
          0.43711093068122864,
          0.5255404710769653
         ],
         "z": [
          0.0678444504737854,
          -0.0616690404713153
         ]
        },
        {
         "line": {
          "color": "gray",
          "dash": "dot",
          "width": 1
         },
         "mode": "lines",
         "showlegend": false,
         "type": "scatter3d",
         "x": [
          0.1664556860923767,
          0.0865311473608017
         ],
         "y": [
          0.425753653049469,
          0.515032172203064
         ],
         "z": [
          0.1006661131978035,
          -0.0407531931996345
         ]
        },
        {
         "line": {
          "color": "gray",
          "dash": "dot",
          "width": 1
         },
         "mode": "lines",
         "showlegend": false,
         "type": "scatter3d",
         "x": [
          0.09704398363828659,
          0.0747094377875328
         ],
         "y": [
          0.6852951645851135,
          0.7681513428688049
         ],
         "z": [
          -0.08135893940925598,
          -0.1728667467832565
         ]
        },
        {
         "line": {
          "color": "gray",
          "dash": "dot",
          "width": 1
         },
         "mode": "lines",
         "showlegend": false,
         "type": "scatter3d",
         "x": [
          0.18998080492019653,
          0.1161308139562606
         ],
         "y": [
          0.6956318020820618,
          0.7670417428016663
         ],
         "z": [
          -0.17098180949687958,
          -0.2162221819162368
         ]
        },
        {
         "line": {
          "color": "gray",
          "dash": "dot",
          "width": 1
         },
         "mode": "lines",
         "showlegend": false,
         "type": "scatter3d",
         "x": [
          0.19007745385169983,
          0.111404575407505
         ],
         "y": [
          0.6836808919906616,
          0.7671362161636353
         ],
         "z": [
          -0.11142971366643906,
          -0.2033309191465377
         ]
        },
        {
         "line": {
          "color": "gray",
          "dash": "dot",
          "width": 1
         },
         "mode": "lines",
         "showlegend": false,
         "type": "scatter3d",
         "x": [
          0.28206348419189453,
          0.1498383581638336
         ],
         "y": [
          0.6587464213371277,
          0.7616162300109863
         ],
         "z": [
          -0.1924024075269699,
          -0.2368836253881454
         ]
        },
        {
         "line": {
          "color": "gray",
          "dash": "dot",
          "width": 1
         },
         "mode": "lines",
         "showlegend": false,
         "type": "scatter3d",
         "x": [
          0.4470297694206238,
          0.2658078372478485
         ],
         "y": [
          0.4529208540916443,
          0.7225163578987122
         ],
         "z": [
          -0.29410916566848755,
          -0.2763105630874634
         ]
        },
        {
         "line": {
          "color": "gray",
          "dash": "dot",
          "width": 1
         },
         "mode": "lines",
         "showlegend": false,
         "type": "scatter3d",
         "x": [
          0.36223140358924866,
          0.1950872540473938
         ],
         "y": [
          0.5942578911781311,
          0.745163083076477
         ],
         "z": [
          -0.3101232647895813,
          -0.2895485162734985
         ]
        },
        {
         "line": {
          "color": "gray",
          "dash": "dot",
          "width": 1
         },
         "mode": "lines",
         "showlegend": false,
         "type": "scatter3d",
         "x": [
          0.213118776679039,
          0.1390286386013031
         ],
         "y": [
          0.6456479430198669,
          0.7409346699714661
         ],
         "z": [
          -0.4674661159515381,
          -0.3550094068050384
         ]
        },
        {
         "line": {
          "color": "gray",
          "dash": "dot",
          "width": 1
         },
         "mode": "lines",
         "showlegend": false,
         "type": "scatter3d",
         "x": [
          0.10871214419603348,
          0.0931780114769935
         ],
         "y": [
          0.7362055778503418,
          0.7607871890068054
         ],
         "z": [
          -0.3298972249031067,
          -0.2924662828445434
         ]
        },
        {
         "line": {
          "color": "gray",
          "dash": "dot",
          "width": 1
         },
         "mode": "lines",
         "showlegend": false,
         "type": "scatter3d",
         "x": [
          -0.11904111504554749,
          -0.0016513675218448
         ],
         "y": [
          0.6728136539459229,
          0.7642387747764587
         ],
         "z": [
          -0.14005769789218903,
          -0.2087241560220718
         ]
        },
        {
         "line": {
          "color": "gray",
          "dash": "dot",
          "width": 1
         },
         "mode": "lines",
         "showlegend": false,
         "type": "scatter3d",
         "x": [
          -0.20407339930534363,
          -0.0384688451886177
         ],
         "y": [
          0.6187145709991455,
          0.756067156791687
         ],
         "z": [
          -0.23289556801319122,
          -0.2478768527507782
         ]
        },
        {
         "line": {
          "color": "gray",
          "dash": "dot",
          "width": 1
         },
         "mode": "lines",
         "showlegend": false,
         "type": "scatter3d",
         "x": [
          0.23497992753982544,
          0.132061555981636
         ],
         "y": [
          0.6916528344154358,
          0.7581586837768555
         ],
         "z": [
          -0.32668930292129517,
          -0.290307879447937
         ]
        },
        {
         "line": {
          "color": "gray",
          "dash": "dot",
          "width": 1
         },
         "mode": "lines",
         "showlegend": false,
         "type": "scatter3d",
         "x": [
          0.27788758277893066,
          0.1495664566755294
         ],
         "y": [
          0.6584331393241882,
          0.7571166753768921
         ],
         "z": [
          -0.3098175823688507,
          -0.2915509045124054
         ]
        },
        {
         "line": {
          "color": "gray",
          "dash": "dot",
          "width": 1
         },
         "mode": "lines",
         "showlegend": false,
         "type": "scatter3d",
         "x": [
          0.16667306423187256,
          0.1050272956490516
         ],
         "y": [
          0.7125365734100342,
          0.7661545872688293
         ],
         "z": [
          -0.2219858169555664,
          -0.257749080657959
         ]
        },
        {
         "line": {
          "color": "gray",
          "dash": "dot",
          "width": 1
         },
         "mode": "lines",
         "showlegend": false,
         "type": "scatter3d",
         "x": [
          0.16425931453704834,
          0.1047758981585502
         ],
         "y": [
          0.7161703705787659,
          0.7614519000053406
         ],
         "z": [
          -0.3231883943080902,
          -0.2954749166965484
         ]
        },
        {
         "line": {
          "color": "gray",
          "dash": "dot",
          "width": 1
         },
         "mode": "lines",
         "showlegend": false,
         "type": "scatter3d",
         "x": [
          -0.11700118333101273,
          0.0106413261964917
         ],
         "y": [
          0.6946989893913269,
          0.7652677893638611
         ],
         "z": [
          -0.2083696871995926,
          -0.2403791844844818
         ]
        },
        {
         "line": {
          "color": "gray",
          "dash": "dot",
          "width": 1
         },
         "mode": "lines",
         "showlegend": false,
         "type": "scatter3d",
         "x": [
          -0.07472949475049973,
          0.0187685191631317
         ],
         "y": [
          0.7046743035316467,
          0.7664702534675598
         ],
         "z": [
          -0.1701846867799759,
          -0.229920819401741
         ]
        },
        {
         "line": {
          "color": "gray",
          "dash": "dot",
          "width": 1
         },
         "mode": "lines",
         "showlegend": false,
         "type": "scatter3d",
         "x": [
          -0.18308761715888977,
          -0.027383092790842
         ],
         "y": [
          0.6431533098220825,
          0.7598022818565369
         ],
         "z": [
          -0.17961473762989044,
          -0.2353081703186035
         ]
        },
        {
         "line": {
          "color": "gray",
          "dash": "dot",
          "width": 1
         },
         "mode": "lines",
         "showlegend": false,
         "type": "scatter3d",
         "x": [
          -0.25491148233413696,
          -0.0731140151619911
         ],
         "y": [
          0.5847208499908447,
          0.7439295649528503
         ],
         "z": [
          -0.24879387021064758,
          -0.2888052761554718
         ]
        },
        {
         "line": {
          "color": "gray",
          "dash": "dot",
          "width": 1
         },
         "mode": "lines",
         "showlegend": false,
         "type": "scatter3d",
         "x": [
          -0.16297683119773865,
          -0.0097886370494961
         ],
         "y": [
          0.6618671417236328,
          0.7532299757003784
         ],
         "z": [
          -0.32352617383003235,
          -0.3093357980251312
         ]
        },
        {
         "line": {
          "color": "gray",
          "dash": "dot",
          "width": 1
         },
         "mode": "lines",
         "showlegend": false,
         "type": "scatter3d",
         "x": [
          -0.00680884812027216,
          0.0492217801511287
         ],
         "y": [
          0.7135267853736877,
          0.7550607919692993
         ],
         "z": [
          -0.3746787905693054,
          -0.3202677369117737
         ]
        },
        {
         "line": {
          "color": "gray",
          "dash": "dot",
          "width": 1
         },
         "mode": "lines",
         "showlegend": false,
         "type": "scatter3d",
         "x": [
          -0.06586058437824249,
          0.0436760932207107
         ],
         "y": [
          0.6899182796478271,
          0.7498772144317627
         ],
         "z": [
          -0.34908899664878845,
          -0.3274747431278229
         ]
        },
        {
         "line": {
          "color": "gray",
          "dash": "dot",
          "width": 1
         },
         "mode": "lines",
         "showlegend": false,
         "type": "scatter3d",
         "x": [
          0.09992197901010513,
          0.0927048698067665
         ],
         "y": [
          0.7194996476173401,
          0.7533396482467651
         ],
         "z": [
          -0.28822946548461914,
          -0.3003706037998199
         ]
        },
        {
         "line": {
          "color": "gray",
          "dash": "dot",
          "width": 1
         },
         "mode": "lines",
         "showlegend": false,
         "type": "scatter3d",
         "x": [
          0.22555184364318848,
          0.1239723265171051
         ],
         "y": [
          0.6649490594863892,
          0.7430095672607422
         ],
         "z": [
          -0.4209204614162445,
          -0.3202227354049682
         ]
        },
        {
         "line": {
          "color": "gray",
          "dash": "dot",
          "width": 1
         },
         "mode": "lines",
         "showlegend": false,
         "type": "scatter3d",
         "x": [
          0.13694657385349274,
          0.0838401541113853
         ],
         "y": [
          0.676155149936676,
          0.7500684857368469
         ],
         "z": [
          -0.33399274945259094,
          -0.2731390595436096
         ]
        },
        {
         "line": {
          "color": "gray",
          "dash": "dot",
          "width": 1
         },
         "mode": "lines",
         "showlegend": false,
         "type": "scatter3d",
         "x": [
          0.1741066426038742,
          0.1052049398422241
         ],
         "y": [
          0.6602365374565125,
          0.7571890950202942
         ],
         "z": [
          -0.07364152371883392,
          -0.1790386885404586
         ]
        },
        {
         "line": {
          "color": "gray",
          "dash": "dot",
          "width": 1
         },
         "mode": "lines",
         "showlegend": false,
         "type": "scatter3d",
         "x": [
          0.3671291172504425,
          0.1621678620576858
         ],
         "y": [
          0.5914800763130188,
          0.7476182579994202
         ],
         "z": [
          -0.10463238507509232,
          -0.1716857254505157
         ]
        },
        {
         "line": {
          "color": "gray",
          "dash": "dot",
          "width": 1
         },
         "mode": "lines",
         "showlegend": false,
         "type": "scatter3d",
         "x": [
          0.24920034408569336,
          0.114555113017559
         ],
         "y": [
          0.6381778717041016,
          0.7510856986045837
         ],
         "z": [
          -0.08251049369573593,
          -0.1584689319133758
         ]
        },
        {
         "line": {
          "color": "gray",
          "dash": "dot",
          "width": 1
         },
         "mode": "lines",
         "showlegend": false,
         "type": "scatter3d",
         "x": [
          0.2652148902416229,
          0.1171927005052566
         ],
         "y": [
          0.5267951488494873,
          0.7278496623039246
         ],
         "z": [
          0.22724314033985138,
          -0.0285937469452619
         ]
        },
        {
         "line": {
          "color": "gray",
          "dash": "dot",
          "width": 1
         },
         "mode": "lines",
         "showlegend": false,
         "type": "scatter3d",
         "x": [
          0.2724975645542145,
          0.1102015823125839
         ],
         "y": [
          0.5276978611946106,
          0.7138747572898865
         ],
         "z": [
          0.3006729185581207,
          0.0131382383406162
         ]
        }
       ],
       "layout": {
        "legend": {
         "bgcolor": "rgba(255,255,255,0.8)",
         "itemsizing": "constant"
        },
        "margin": {
         "b": 0,
         "l": 0,
         "r": 0,
         "t": 40
        },
        "scene": {
         "xaxis": {
          "title": {
           "text": "X"
          }
         },
         "yaxis": {
          "title": {
           "text": "Y"
          }
         },
         "zaxis": {
          "title": {
           "text": "Z"
          }
         }
        },
        "template": {
         "data": {
          "bar": [
           {
            "error_x": {
             "color": "#2a3f5f"
            },
            "error_y": {
             "color": "#2a3f5f"
            },
            "marker": {
             "line": {
              "color": "#E5ECF6",
              "width": 0.5
             },
             "pattern": {
              "fillmode": "overlay",
              "size": 10,
              "solidity": 0.2
             }
            },
            "type": "bar"
           }
          ],
          "barpolar": [
           {
            "marker": {
             "line": {
              "color": "#E5ECF6",
              "width": 0.5
             },
             "pattern": {
              "fillmode": "overlay",
              "size": 10,
              "solidity": 0.2
             }
            },
            "type": "barpolar"
           }
          ],
          "carpet": [
           {
            "aaxis": {
             "endlinecolor": "#2a3f5f",
             "gridcolor": "white",
             "linecolor": "white",
             "minorgridcolor": "white",
             "startlinecolor": "#2a3f5f"
            },
            "baxis": {
             "endlinecolor": "#2a3f5f",
             "gridcolor": "white",
             "linecolor": "white",
             "minorgridcolor": "white",
             "startlinecolor": "#2a3f5f"
            },
            "type": "carpet"
           }
          ],
          "choropleth": [
           {
            "colorbar": {
             "outlinewidth": 0,
             "ticks": ""
            },
            "type": "choropleth"
           }
          ],
          "contour": [
           {
            "colorbar": {
             "outlinewidth": 0,
             "ticks": ""
            },
            "colorscale": [
             [
              0,
              "#0d0887"
             ],
             [
              0.1111111111111111,
              "#46039f"
             ],
             [
              0.2222222222222222,
              "#7201a8"
             ],
             [
              0.3333333333333333,
              "#9c179e"
             ],
             [
              0.4444444444444444,
              "#bd3786"
             ],
             [
              0.5555555555555556,
              "#d8576b"
             ],
             [
              0.6666666666666666,
              "#ed7953"
             ],
             [
              0.7777777777777778,
              "#fb9f3a"
             ],
             [
              0.8888888888888888,
              "#fdca26"
             ],
             [
              1,
              "#f0f921"
             ]
            ],
            "type": "contour"
           }
          ],
          "contourcarpet": [
           {
            "colorbar": {
             "outlinewidth": 0,
             "ticks": ""
            },
            "type": "contourcarpet"
           }
          ],
          "heatmap": [
           {
            "colorbar": {
             "outlinewidth": 0,
             "ticks": ""
            },
            "colorscale": [
             [
              0,
              "#0d0887"
             ],
             [
              0.1111111111111111,
              "#46039f"
             ],
             [
              0.2222222222222222,
              "#7201a8"
             ],
             [
              0.3333333333333333,
              "#9c179e"
             ],
             [
              0.4444444444444444,
              "#bd3786"
             ],
             [
              0.5555555555555556,
              "#d8576b"
             ],
             [
              0.6666666666666666,
              "#ed7953"
             ],
             [
              0.7777777777777778,
              "#fb9f3a"
             ],
             [
              0.8888888888888888,
              "#fdca26"
             ],
             [
              1,
              "#f0f921"
             ]
            ],
            "type": "heatmap"
           }
          ],
          "histogram": [
           {
            "marker": {
             "pattern": {
              "fillmode": "overlay",
              "size": 10,
              "solidity": 0.2
             }
            },
            "type": "histogram"
           }
          ],
          "histogram2d": [
           {
            "colorbar": {
             "outlinewidth": 0,
             "ticks": ""
            },
            "colorscale": [
             [
              0,
              "#0d0887"
             ],
             [
              0.1111111111111111,
              "#46039f"
             ],
             [
              0.2222222222222222,
              "#7201a8"
             ],
             [
              0.3333333333333333,
              "#9c179e"
             ],
             [
              0.4444444444444444,
              "#bd3786"
             ],
             [
              0.5555555555555556,
              "#d8576b"
             ],
             [
              0.6666666666666666,
              "#ed7953"
             ],
             [
              0.7777777777777778,
              "#fb9f3a"
             ],
             [
              0.8888888888888888,
              "#fdca26"
             ],
             [
              1,
              "#f0f921"
             ]
            ],
            "type": "histogram2d"
           }
          ],
          "histogram2dcontour": [
           {
            "colorbar": {
             "outlinewidth": 0,
             "ticks": ""
            },
            "colorscale": [
             [
              0,
              "#0d0887"
             ],
             [
              0.1111111111111111,
              "#46039f"
             ],
             [
              0.2222222222222222,
              "#7201a8"
             ],
             [
              0.3333333333333333,
              "#9c179e"
             ],
             [
              0.4444444444444444,
              "#bd3786"
             ],
             [
              0.5555555555555556,
              "#d8576b"
             ],
             [
              0.6666666666666666,
              "#ed7953"
             ],
             [
              0.7777777777777778,
              "#fb9f3a"
             ],
             [
              0.8888888888888888,
              "#fdca26"
             ],
             [
              1,
              "#f0f921"
             ]
            ],
            "type": "histogram2dcontour"
           }
          ],
          "mesh3d": [
           {
            "colorbar": {
             "outlinewidth": 0,
             "ticks": ""
            },
            "type": "mesh3d"
           }
          ],
          "parcoords": [
           {
            "line": {
             "colorbar": {
              "outlinewidth": 0,
              "ticks": ""
             }
            },
            "type": "parcoords"
           }
          ],
          "pie": [
           {
            "automargin": true,
            "type": "pie"
           }
          ],
          "scatter": [
           {
            "fillpattern": {
             "fillmode": "overlay",
             "size": 10,
             "solidity": 0.2
            },
            "type": "scatter"
           }
          ],
          "scatter3d": [
           {
            "line": {
             "colorbar": {
              "outlinewidth": 0,
              "ticks": ""
             }
            },
            "marker": {
             "colorbar": {
              "outlinewidth": 0,
              "ticks": ""
             }
            },
            "type": "scatter3d"
           }
          ],
          "scattercarpet": [
           {
            "marker": {
             "colorbar": {
              "outlinewidth": 0,
              "ticks": ""
             }
            },
            "type": "scattercarpet"
           }
          ],
          "scattergeo": [
           {
            "marker": {
             "colorbar": {
              "outlinewidth": 0,
              "ticks": ""
             }
            },
            "type": "scattergeo"
           }
          ],
          "scattergl": [
           {
            "marker": {
             "colorbar": {
              "outlinewidth": 0,
              "ticks": ""
             }
            },
            "type": "scattergl"
           }
          ],
          "scattermap": [
           {
            "marker": {
             "colorbar": {
              "outlinewidth": 0,
              "ticks": ""
             }
            },
            "type": "scattermap"
           }
          ],
          "scattermapbox": [
           {
            "marker": {
             "colorbar": {
              "outlinewidth": 0,
              "ticks": ""
             }
            },
            "type": "scattermapbox"
           }
          ],
          "scatterpolar": [
           {
            "marker": {
             "colorbar": {
              "outlinewidth": 0,
              "ticks": ""
             }
            },
            "type": "scatterpolar"
           }
          ],
          "scatterpolargl": [
           {
            "marker": {
             "colorbar": {
              "outlinewidth": 0,
              "ticks": ""
             }
            },
            "type": "scatterpolargl"
           }
          ],
          "scatterternary": [
           {
            "marker": {
             "colorbar": {
              "outlinewidth": 0,
              "ticks": ""
             }
            },
            "type": "scatterternary"
           }
          ],
          "surface": [
           {
            "colorbar": {
             "outlinewidth": 0,
             "ticks": ""
            },
            "colorscale": [
             [
              0,
              "#0d0887"
             ],
             [
              0.1111111111111111,
              "#46039f"
             ],
             [
              0.2222222222222222,
              "#7201a8"
             ],
             [
              0.3333333333333333,
              "#9c179e"
             ],
             [
              0.4444444444444444,
              "#bd3786"
             ],
             [
              0.5555555555555556,
              "#d8576b"
             ],
             [
              0.6666666666666666,
              "#ed7953"
             ],
             [
              0.7777777777777778,
              "#fb9f3a"
             ],
             [
              0.8888888888888888,
              "#fdca26"
             ],
             [
              1,
              "#f0f921"
             ]
            ],
            "type": "surface"
           }
          ],
          "table": [
           {
            "cells": {
             "fill": {
              "color": "#EBF0F8"
             },
             "line": {
              "color": "white"
             }
            },
            "header": {
             "fill": {
              "color": "#C8D4E3"
             },
             "line": {
              "color": "white"
             }
            },
            "type": "table"
           }
          ]
         },
         "layout": {
          "annotationdefaults": {
           "arrowcolor": "#2a3f5f",
           "arrowhead": 0,
           "arrowwidth": 1
          },
          "autotypenumbers": "strict",
          "coloraxis": {
           "colorbar": {
            "outlinewidth": 0,
            "ticks": ""
           }
          },
          "colorscale": {
           "diverging": [
            [
             0,
             "#8e0152"
            ],
            [
             0.1,
             "#c51b7d"
            ],
            [
             0.2,
             "#de77ae"
            ],
            [
             0.3,
             "#f1b6da"
            ],
            [
             0.4,
             "#fde0ef"
            ],
            [
             0.5,
             "#f7f7f7"
            ],
            [
             0.6,
             "#e6f5d0"
            ],
            [
             0.7,
             "#b8e186"
            ],
            [
             0.8,
             "#7fbc41"
            ],
            [
             0.9,
             "#4d9221"
            ],
            [
             1,
             "#276419"
            ]
           ],
           "sequential": [
            [
             0,
             "#0d0887"
            ],
            [
             0.1111111111111111,
             "#46039f"
            ],
            [
             0.2222222222222222,
             "#7201a8"
            ],
            [
             0.3333333333333333,
             "#9c179e"
            ],
            [
             0.4444444444444444,
             "#bd3786"
            ],
            [
             0.5555555555555556,
             "#d8576b"
            ],
            [
             0.6666666666666666,
             "#ed7953"
            ],
            [
             0.7777777777777778,
             "#fb9f3a"
            ],
            [
             0.8888888888888888,
             "#fdca26"
            ],
            [
             1,
             "#f0f921"
            ]
           ],
           "sequentialminus": [
            [
             0,
             "#0d0887"
            ],
            [
             0.1111111111111111,
             "#46039f"
            ],
            [
             0.2222222222222222,
             "#7201a8"
            ],
            [
             0.3333333333333333,
             "#9c179e"
            ],
            [
             0.4444444444444444,
             "#bd3786"
            ],
            [
             0.5555555555555556,
             "#d8576b"
            ],
            [
             0.6666666666666666,
             "#ed7953"
            ],
            [
             0.7777777777777778,
             "#fb9f3a"
            ],
            [
             0.8888888888888888,
             "#fdca26"
            ],
            [
             1,
             "#f0f921"
            ]
           ]
          },
          "colorway": [
           "#636efa",
           "#EF553B",
           "#00cc96",
           "#ab63fa",
           "#FFA15A",
           "#19d3f3",
           "#FF6692",
           "#B6E880",
           "#FF97FF",
           "#FECB52"
          ],
          "font": {
           "color": "#2a3f5f"
          },
          "geo": {
           "bgcolor": "white",
           "lakecolor": "white",
           "landcolor": "#E5ECF6",
           "showlakes": true,
           "showland": true,
           "subunitcolor": "white"
          },
          "hoverlabel": {
           "align": "left"
          },
          "hovermode": "closest",
          "mapbox": {
           "style": "light"
          },
          "paper_bgcolor": "white",
          "plot_bgcolor": "#E5ECF6",
          "polar": {
           "angularaxis": {
            "gridcolor": "white",
            "linecolor": "white",
            "ticks": ""
           },
           "bgcolor": "#E5ECF6",
           "radialaxis": {
            "gridcolor": "white",
            "linecolor": "white",
            "ticks": ""
           }
          },
          "scene": {
           "xaxis": {
            "backgroundcolor": "#E5ECF6",
            "gridcolor": "white",
            "gridwidth": 2,
            "linecolor": "white",
            "showbackground": true,
            "ticks": "",
            "zerolinecolor": "white"
           },
           "yaxis": {
            "backgroundcolor": "#E5ECF6",
            "gridcolor": "white",
            "gridwidth": 2,
            "linecolor": "white",
            "showbackground": true,
            "ticks": "",
            "zerolinecolor": "white"
           },
           "zaxis": {
            "backgroundcolor": "#E5ECF6",
            "gridcolor": "white",
            "gridwidth": 2,
            "linecolor": "white",
            "showbackground": true,
            "ticks": "",
            "zerolinecolor": "white"
           }
          },
          "shapedefaults": {
           "line": {
            "color": "#2a3f5f"
           }
          },
          "ternary": {
           "aaxis": {
            "gridcolor": "white",
            "linecolor": "white",
            "ticks": ""
           },
           "baxis": {
            "gridcolor": "white",
            "linecolor": "white",
            "ticks": ""
           },
           "bgcolor": "#E5ECF6",
           "caxis": {
            "gridcolor": "white",
            "linecolor": "white",
            "ticks": ""
           }
          },
          "title": {
           "x": 0.05
          },
          "xaxis": {
           "automargin": true,
           "gridcolor": "white",
           "linecolor": "white",
           "ticks": "",
           "title": {
            "standoff": 15
           },
           "zerolinecolor": "white",
           "zerolinewidth": 2
          },
          "yaxis": {
           "automargin": true,
           "gridcolor": "white",
           "linecolor": "white",
           "ticks": "",
           "title": {
            "standoff": 15
           },
           "zerolinecolor": "white",
           "zerolinewidth": 2
          }
         }
        }
       }
      }
     },
     "metadata": {},
     "output_type": "display_data"
    }
   ],
   "source": [
    "step = 1  # step size for visualization clarity\n",
    "\n",
    "fig = go.Figure()\n",
    "\n",
    "sections = [\"low\", \"middle\", \"up\"]\n",
    "colors_pred = [\"blue\", \"green\", \"red\"]\n",
    "colors_gt = [\"turquoise\", \"yellow\", \"orange\"]\n",
    "\n",
    "# Plot predicted points\n",
    "for i, section in enumerate(sections):\n",
    "    fig.add_trace(go.Scatter3d(\n",
    "        x=Y_pred_reshaped[::step, i, 0], \n",
    "        y=Y_pred_reshaped[::step, i, 1], \n",
    "        z=Y_pred_reshaped[::step, i, 2],\n",
    "        mode='markers',\n",
    "        marker=dict(size=3, color=colors_pred[i], symbol='circle'),\n",
    "        name=f\"Prediction-{section}\"\n",
    "    ))\n",
    "\n",
    "# Plot ground truth points\n",
    "for i, section in enumerate(sections):\n",
    "    fig.add_trace(go.Scatter3d(\n",
    "        x=data[f\"SA-{section}-X\"][::step], \n",
    "        y=data[f\"SA-{section}-Y\"][::step], \n",
    "        z=data[f\"SA-{section}-Z\"][::step],\n",
    "        mode='markers',\n",
    "        marker=dict(size=3, color=colors_gt[i], symbol='square'),\n",
    "        name=f\"GT-{section}\"\n",
    "    ))\n",
    "\n",
    "min_length = min(len(Y_pred_reshaped), len(data[f\"SA-{section}-X\"]))\n",
    "\n",
    "# Add lines connecting corresponding predicted and ground truth points\n",
    "for i, section in enumerate(sections):\n",
    "    for j in range(0, min_length, step):\n",
    "        fig.add_trace(go.Scatter3d(\n",
    "            x=[Y_pred_reshaped[j, i, 0], data[f\"SA-{section}-X\"][j]],\n",
    "            y=[Y_pred_reshaped[j, i, 1], data[f\"SA-{section}-Y\"][j]],\n",
    "            z=[Y_pred_reshaped[j, i, 2], data[f\"SA-{section}-Z\"][j]],\n",
    "            mode='lines',\n",
    "            line=dict(width=1, color='gray', dash='dot'),\n",
    "            showlegend=False  # Avoid cluttering the legend\n",
    "        ))\n",
    "\n",
    "fig.update_layout(\n",
    "    scene=dict(\n",
    "        xaxis_title=\"X\",\n",
    "        yaxis_title=\"Y\",\n",
    "        zaxis_title=\"Z\"\n",
    "    ),\n",
    "    margin=dict(l=0, r=0, b=0, t=40),\n",
    "    legend=dict(itemsizing='constant', bgcolor=\"rgba(255,255,255,0.8)\")\n",
    ")\n",
    "\n",
    "fig.show()\n"
   ]
  },
  {
   "cell_type": "markdown",
   "metadata": {},
   "source": [
    "### Show where errors are the most bigger"
   ]
  },
  {
   "cell_type": "code",
   "execution_count": 13,
   "metadata": {},
   "outputs": [
    {
     "name": "stdout",
     "output_type": "stream",
     "text": [
      "Section 'low': Mean Error = 0.036, Std Dev = 0.011\n",
      "Section 'middle': Mean Error = 0.096, Std Dev = 0.042\n",
      "Section 'up': Mean Error = 0.170, Std Dev = 0.082\n"
     ]
    }
   ],
   "source": [
    "errors = {}\n",
    "\n",
    "for i, section in enumerate(sections):\n",
    "    pred_points = Y_pred_reshaped[:, i, :]\n",
    "    gt_points = np.stack([\n",
    "        data[f\"SA-{section}-X\"],\n",
    "        data[f\"SA-{section}-Y\"],\n",
    "        data[f\"SA-{section}-Z\"]\n",
    "    ], axis=-1)\n",
    "\n",
    "    # Select the minimum length to ensure shape matching\n",
    "    min_length = min(pred_points.shape[0], gt_points.shape[0])\n",
    "    pred_points = pred_points[:min_length]\n",
    "    gt_points = gt_points[:min_length]\n",
    "\n",
    "    \n",
    "    diff = pred_points - gt_points\n",
    "    euclidean_distance = np.linalg.norm(diff, axis=1)\n",
    "\n",
    "    errors[section] = {\n",
    "        \"mean_error\": np.mean(euclidean_distance),\n",
    "        \"std_error\": np.std(euclidean_distance)\n",
    "    }\n",
    "\n",
    "for section, stats in errors.items():\n",
    "    print(f\"Section '{section}': Mean Error = {stats['mean_error']:.3f}, Std Dev = {stats['std_error']:.3f}\")"
   ]
  },
  {
   "cell_type": "code",
   "execution_count": 14,
   "metadata": {},
   "outputs": [
    {
     "data": {
      "application/vnd.plotly.v1+json": {
       "config": {
        "plotlyServerURL": "https://plot.ly"
       },
       "data": [
        {
         "marker": {
          "color": "blue",
          "size": 4,
          "symbol": "square"
         },
         "mode": "markers",
         "name": "GT-low",
         "type": "scatter3d",
         "x": {
          "bdata": "+v//f68asT/9///fkCCzP/7//z8b0bI/AAAAIAiUtD/7///fckK5P/r//z+jY7Y//P//H5xAtT////8f7xCzP/z//z9TDa4/+v//34JBrD/5////KB+1P/v//x8qpLU/+v//HyGZsz8AAABAlqKzP/z///8Ji68/+f//399krz/2//+fGoyrP/z//5+o8Kg/8v//H+xKrj/+//+/eCuxP////18L8LI//P//X9mptT/+//9fEw22P/v///963LM/+///fwWisz8AAADA9zC2P/7//x8Xx7M//f//f82Lsj/7//+fCRSzPw==",
          "dtype": "f8"
         },
         "y": {
          "bdata": "AAAAAAJn1j////9f/GvWP////x/rZdY/////XzVn1j8AAAAgGUTWPwAAAOBrYdY/////n4Jr1j8AAABgZnLWPwAAAGBdZdY/AAAAYNNk1j/////fWWrWPwAAAGBda9Y/AAAAoCVx1j8AAABAlnPWPwAAAIDibdY/////389s1j8AAABA1mPWPwAAAOAqV9Y/AAAAoBZs1j8AAAAAeXPWPwAAAAD3c9Y//////9Rl1j8AAACg4lzWPwAAACBTSdY/AAAAoKEg1j8AAAAAc/7VP////5+S8tU/AAAAoHGI1T8AAABAnEnVPw==",
          "dtype": "f8"
         },
         "z": {
          "bdata": "AAAAgKjhyb////8fOG7KvwAAAEDZH8q//v///7uVyr/9//9fgJ/Kv/3//5+CKcu//v//f+ykzL8AAADAPKPLv////x95rMq/////n1q0y7/+//8fRHnLvwAAAIBVs8u//v//v4BHy7/+//+/rSzMv/3///9jYcu//v//n3Qny7/+//9/3onLvwAAAGDPF82/////fwXmzL/+//9f0KXMv/7//78AMsy/AAAAoDbxyr8AAADgpjLKv////99Ufsi//v//v+r8xr8AAAAAM1XGv/7//x+FxcW//f//Py+dw7/9//8/taLCvw==",
          "dtype": "f8"
         }
        },
        {
         "marker": {
          "color": "green",
          "size": 4,
          "symbol": "square"
         },
         "mode": "markers",
         "name": "GT-middle",
         "type": "scatter3d",
         "x": {
          "bdata": "/P//v/Ecsz/9//+/Hsq4PwAAACBRA7g/+v//v89LvT////8/9TLGPwAAACDPb8E//v//X6XwvD/7//9fSnW2P/j//1/3+qM/8f//P+enlz////+/jWW9P/z//z+c0b4/+///317puD/+//+feAu4P/3//z+1xaY/+v//n3rNpj/1//8fkJuSP8n//x9nk3i//P//vwXSmz/7////fmCsP////9/aV7A/+v///8MguD8AAADgeWK8P/z///9/UbU/+v//P/Cctj/8///fzE+/PwAAAAD0sLc/+v//f3ZGtj8AAADA5ya2Pw==",
          "dtype": "f8"
         },
         "y": {
          "bdata": "AAAAgHzi4T8AAACg9+XhPwAAAKDz4uE/AAAAYNTX4T8AAABg1WfhPwAAACBbtuE/AAAAIAG64T8AAACAqOjhPwAAAMDe4eE/AAAAQKvV4T8AAAAAQdXhPwAAAICBy+E/AAAAAEbn4T8AAAAARt3hPwAAAAAZ6uE/AAAA4Lnp4T8AAACAPtDhPwAAAABHl+E/AAAAYNzG4T8AAACA+tzhPwAAAACf3uE/AAAAQHnj4T8AAADgAdHhPwAAAMBR2+E/AAAAAAaz4T8AAAAAu4PhPwAAAGCBiOE/AAAAQDrR4D8AAADAJHvgPw==",
          "dtype": "f8"
         },
         "z": {
          "bdata": "////H+Mtx78AAABgTaXJv////188r8i//v//Xy20yr8AAACgFpXMv//////qpM2/AAAAQD4Y0b/+////CijOv//////sbcm/AAAAQEFZzL/+//9f1unNv/7//3/y7M6/AAAAIA4nzb////+/ggHQv/3//59NEsy/AAAAgFNPy7/+//+fN9vLv////3/LN9C/AAAAYIxS0L//////I0PQv////58Z3c+//f//HzENzb////9f+SfNvwAAAIAmxMi/////f3+swr8AAABAilXBv////x/3+7+/9P//nxWTr7/5//8/mt2kvw==",
          "dtype": "f8"
         }
        },
        {
         "marker": {
          "color": "red",
          "size": 4,
          "symbol": "square"
         },
         "mode": "markers",
         "name": "GT-up",
         "type": "scatter3d",
         "x": {
          "bdata": "AAAAYCggsz/6//+/v7q9P/3//58Chbw/////P+ctwz8AAADg/gLRPwAAAICe+Mg/AAAAwLDLwT/8//+fg9q3P+z//19WDlu/////PzCyo7/+//+fZOfAP/3//1/+JMM/+///nxHjuj/7///fl9K6P/X//58ey4U//P///w04kz/w//8/UAqcv////5+Zt7K/1f//nxAMhL/2///fmDOpP/j//3+2XKY/////n4G7tz8AAACApry/P/3//1+MdrU//v///7Xuuj/+//+f6sHEP/z//997U70//P//P1cAvj/+//+/Kza8Pw==",
          "dtype": "f8"
         },
         "y": {
          "bdata": "AAAAILKU6D8AAAAgm4voPwAAAEBhjOg/AAAAAClf6D8AAACg2h7nPwAAAEBg2Oc/AAAAoLy15z8AAABgXljoPwAAAOCkdOg/AAAAwLMx6D8AAAAA1kLoPwAAAMBMOug/AAAAoFaE6D8AAABg0F3oPwAAAOASfeg/AAAAoOyG6D8AAADgTFDoPwAAAGBFzuc/AAAAwHUa6D8AAABAdSnoPwAAAID+/uc/AAAAwFsb6D8AAAAAvMbnPwAAAKCPAOg/AAAAoOQ66D8AAAAgfeznPwAAAODkCOg/AAAAYItK5z8AAADgD9jmPw==",
          "dtype": "f8"
         },
         "z": {
          "bdata": "////X38gxr/9//8fK63Lv/3//1+/Bsq//v//3zNSzr8AAACAEq/Rv////3/2h9K/////X3m41r////9/xLfSv////x95t8q/AAAAwG26z78AAACAZ5TSvwAAACDFqNK/AAAAAPZ+0L////+fD+nSvwAAAMC+xM6/////nwtuzb//////kx7OvwAAACDJe9K/AAAAYCjM078AAABARH/UvwAAAKBY9dS/////n0U507////9/h37UvwAAAEAce9G//f//X73qxr/+//8/zPnFv/7//7+1SMS/8P//361Hnb/x//9/OOiKPw==",
          "dtype": "f8"
         }
        },
        {
         "line": {
          "color": "gray",
          "dash": "dot",
          "width": 1
         },
         "mode": "lines",
         "showlegend": false,
         "type": "scatter3d",
         "x": [
          0.06413350999355316,
          0.066813439130783
         ],
         "y": [
          0.3505406081676483,
          0.3500370979309082
         ],
         "z": [
          -0.2140244096517563,
          -0.2021990418434143
         ]
        },
        {
         "line": {
          "color": "gray",
          "dash": "dot",
          "width": 1
         },
         "mode": "lines",
         "showlegend": false,
         "type": "scatter3d",
         "x": [
          0.08604898303747177,
          0.0747156664729118
         ],
         "y": [
          0.3498522937297821,
          0.3503409326076507
         ],
         "z": [
          -0.2207653969526291,
          -0.206488624215126
         ]
        },
        {
         "line": {
          "color": "gray",
          "dash": "dot",
          "width": 1
         },
         "mode": "lines",
         "showlegend": false,
         "type": "scatter3d",
         "x": [
          0.08548106253147125,
          0.0735032111406326
         ],
         "y": [
          0.3503163456916809,
          0.3499706089496612
         ],
         "z": [
          -0.21183207631111145,
          -0.2040969431400299
         ]
        },
        {
         "line": {
          "color": "gray",
          "dash": "dot",
          "width": 1
         },
         "mode": "lines",
         "showlegend": false,
         "type": "scatter3d",
         "x": [
          0.10561948269605637,
          0.0803837850689888
         ],
         "y": [
          0.3486148715019226,
          0.3500493466854095
         ],
         "z": [
          -0.21844060719013214,
          -0.2076945304870605
         ]
        },
        {
         "line": {
          "color": "gray",
          "dash": "dot",
          "width": 1
         },
         "mode": "lines",
         "showlegend": false,
         "type": "scatter3d",
         "x": [
          0.14341500401496887,
          0.0986701771616935
         ],
         "y": [
          0.3355676829814911,
          0.3479063808917999
         ],
         "z": [
          -0.20234546065330505,
          -0.207992598414421
         ]
        },
        {
         "line": {
          "color": "gray",
          "dash": "dot",
          "width": 1
         },
         "mode": "lines",
         "showlegend": false,
         "type": "scatter3d",
         "x": [
          0.12147123366594315,
          0.087457850575447
         ],
         "y": [
          0.3454797565937042,
          0.3496961295604706
         ],
         "z": [
          -0.22550565004348755,
          -0.2122042924165725
         ]
        },
        {
         "line": {
          "color": "gray",
          "dash": "dot",
          "width": 1
         },
         "mode": "lines",
         "showlegend": false,
         "type": "scatter3d",
         "x": [
          0.10971955955028534,
          0.0830171182751655
         ],
         "y": [
          0.3413275480270386,
          0.3503119051456451
         ],
         "z": [
          -0.2591712176799774,
          -0.2237830758094787
         ]
        },
        {
         "line": {
          "color": "gray",
          "dash": "dot",
          "width": 1
         },
         "mode": "lines",
         "showlegend": false,
         "type": "scatter3d",
         "x": [
          0.08445491641759872,
          0.0744771435856819
         ],
         "y": [
          0.3471280038356781,
          0.3507324159145355
         ],
         "z": [
          -0.24692027270793915,
          -0.2159191071987152
         ]
        },
        {
         "line": {
          "color": "gray",
          "dash": "dot",
          "width": 1
         },
         "mode": "lines",
         "showlegend": false,
         "type": "scatter3d",
         "x": [
          0.03714992478489876,
          0.058695413172245
         ],
         "y": [
          0.3464021682739258,
          0.3499368131160736
         ],
         "z": [
          -0.23073695600032806,
          -0.2083884626626968
         ]
        },
        {
         "line": {
          "color": "gray",
          "dash": "dot",
          "width": 1
         },
         "mode": "lines",
         "showlegend": false,
         "type": "scatter3d",
         "x": [
          0.02741372399032116,
          0.0551873110234737
         ],
         "y": [
          0.3415994644165039,
          0.3499039113521576
         ],
         "z": [
          -0.24896065890789032,
          -0.2164414674043655
         ]
        },
        {
         "line": {
          "color": "gray",
          "dash": "dot",
          "width": 1
         },
         "mode": "lines",
         "showlegend": false,
         "type": "scatter3d",
         "x": [
          0.1102159395813942,
          0.0825067162513732
         ],
         "y": [
          0.34597429633140564,
          0.3502411544322967
         ],
         "z": [
          -0.23750881850719452,
          -0.2146382480859756
         ]
        },
        {
         "line": {
          "color": "gray",
          "dash": "dot",
          "width": 1
         },
         "mode": "lines",
         "showlegend": false,
         "type": "scatter3d",
         "x": [
          0.11453311145305634,
          0.0845362022519111
         ],
         "y": [
          0.3451111912727356,
          0.3503030240535736
         ],
         "z": [
          -0.2383766621351242,
          -0.2164103388786316
         ]
        },
        {
         "line": {
          "color": "gray",
          "dash": "dot",
          "width": 1
         },
         "mode": "lines",
         "showlegend": false,
         "type": "scatter3d",
         "x": [
          0.0907849371433258,
          0.0765553191304206
         ],
         "y": [
          0.34854233264923096,
          0.3506559431552887
         ],
         "z": [
          -0.2312432825565338,
          -0.2131195962429046
         ]
        },
        {
         "line": {
          "color": "gray",
          "dash": "dot",
          "width": 1
         },
         "mode": "lines",
         "showlegend": false,
         "type": "scatter3d",
         "x": [
          0.09074916690587997,
          0.0766996294260025
         ],
         "y": [
          0.34485962986946106,
          0.35080486536026
         ],
         "z": [
          -0.2507818043231964,
          -0.2201134860515594
         ]
        },
        {
         "line": {
          "color": "gray",
          "dash": "dot",
          "width": 1
         },
         "mode": "lines",
         "showlegend": false,
         "type": "scatter3d",
         "x": [
          0.04138869792222977,
          0.0616076588630676
         ],
         "y": [
          0.34409305453300476,
          0.3504568338394165
         ],
         "z": [
          -0.24652938544750214,
          -0.21390962600708
         ]
        },
        {
         "line": {
          "color": "gray",
          "dash": "dot",
          "width": 1
         },
         "mode": "lines",
         "showlegend": false,
         "type": "scatter3d",
         "x": [
          0.042675405740737915,
          0.0613164864480495
         ],
         "y": [
          0.34479567408561707,
          0.3503913581371307
         ],
         "z": [
          -0.24035558104515076,
          -0.2121415883302688
         ]
        },
        {
         "line": {
          "color": "gray",
          "dash": "dot",
          "width": 1
         },
         "mode": "lines",
         "showlegend": false,
         "type": "scatter3d",
         "x": [
          0.02370341122150421,
          0.0538032837212085
         ],
         "y": [
          0.3394199311733246,
          0.3498435616493225
         ],
         "z": [
          -0.24662697315216064,
          -0.21514493227005
         ]
        },
        {
         "line": {
          "color": "gray",
          "dash": "dot",
          "width": 1
         },
         "mode": "lines",
         "showlegend": false,
         "type": "scatter3d",
         "x": [
          0.014764968305826187,
          0.0487110801041126
         ],
         "y": [
          0.3344787359237671,
          0.349070280790329
         ],
         "z": [
          -0.2610216736793518,
          -0.2272891253232956
         ]
        },
        {
         "line": {
          "color": "gray",
          "dash": "dot",
          "width": 1
         },
         "mode": "lines",
         "showlegend": false,
         "type": "scatter3d",
         "x": [
          0.037850525230169296,
          0.0591653622686862
         ],
         "y": [
          0.3385431468486786,
          0.3503471910953522
         ],
         "z": [
          -0.2677120268344879,
          -0.2257696986198425
         ]
        },
        {
         "line": {
          "color": "gray",
          "dash": "dot",
          "width": 1
         },
         "mode": "lines",
         "showlegend": false,
         "type": "scatter3d",
         "x": [
          0.06121924892067909,
          0.0670695751905441
         ],
         "y": [
          0.3432604968547821,
          0.3507978916168213
         ],
         "z": [
          -0.26275351643562317,
          -0.2238102406263351
         ]
        },
        {
         "line": {
          "color": "gray",
          "dash": "dot",
          "width": 1
         },
         "mode": "lines",
         "showlegend": false,
         "type": "scatter3d",
         "x": [
          0.08532676845788956,
          0.0739752873778343
         ],
         "y": [
          0.3465110659599304,
          0.3508279323577881
         ],
         "z": [
          -0.25018176436424255,
          -0.2202759683132171
         ]
        },
        {
         "line": {
          "color": "gray",
          "dash": "dot",
          "width": 1
         },
         "mode": "lines",
         "showlegend": false,
         "type": "scatter3d",
         "x": [
          0.11671240627765656,
          0.0846229419112205
         ],
         "y": [
          0.3483821749687195,
          0.3499653339385986
         ],
         "z": [
          -0.22350239753723145,
          -0.2104862481355667
         ]
        },
        {
         "line": {
          "color": "gray",
          "dash": "dot",
          "width": 1
         },
         "mode": "lines",
         "showlegend": false,
         "type": "scatter3d",
         "x": [
          0.11831466853618622,
          0.086137019097805
         ],
         "y": [
          0.34531933069229126,
          0.3494192659854889
         ],
         "z": [
          -0.2163330763578415,
          -0.2046707719564438
         ]
        },
        {
         "line": {
          "color": "gray",
          "dash": "dot",
          "width": 1
         },
         "mode": "lines",
         "showlegend": false,
         "type": "scatter3d",
         "x": [
          0.09988442063331604,
          0.0775830149650573
         ],
         "y": [
          0.35096803307533264,
          0.3482253849506378
         ],
         "z": [
          -0.18777433037757874,
          -0.1913553327322006
         ]
        },
        {
         "line": {
          "color": "gray",
          "dash": "dot",
          "width": 1
         },
         "mode": "lines",
         "showlegend": false,
         "type": "scatter3d",
         "x": [
          0.09968769550323486,
          0.0766910016536712
         ],
         "y": [
          0.34274592995643616,
          0.3457416594028473
         ],
         "z": [
          -0.15685054659843445,
          -0.179593414068222
         ]
        },
        {
         "line": {
          "color": "gray",
          "dash": "dot",
          "width": 1
         },
         "mode": "lines",
         "showlegend": false,
         "type": "scatter3d",
         "x": [
          0.1263892501592636,
          0.0866846889257431
         ],
         "y": [
          0.33294877409935,
          0.3436553478240967
         ],
         "z": [
          -0.1438235491514206,
          -0.1744750738143921
         ]
        },
        {
         "line": {
          "color": "gray",
          "dash": "dot",
          "width": 1
         },
         "mode": "lines",
         "showlegend": false,
         "type": "scatter3d",
         "x": [
          0.10256189852952957,
          0.0772566273808479
         ],
         "y": [
          0.3400658071041107,
          0.3429304659366607
         ],
         "z": [
          -0.13660457730293274,
          -0.1700903326272964
         ]
        },
        {
         "line": {
          "color": "gray",
          "dash": "dot",
          "width": 1
         },
         "mode": "lines",
         "showlegend": false,
         "type": "scatter3d",
         "x": [
          0.0916825458407402,
          0.0724457204341888
         ],
         "y": [
          0.3276466727256775,
          0.3364528715610504
         ],
         "z": [
          -0.10860838741064072,
          -0.1532343924045562
         ]
        },
        {
         "line": {
          "color": "gray",
          "dash": "dot",
          "width": 1
         },
         "mode": "lines",
         "showlegend": false,
         "type": "scatter3d",
         "x": [
          0.0973193347454071,
          0.0745244994759559
         ],
         "y": [
          0.323025107383728,
          0.3326178193092346
         ],
         "z": [
          -0.09850595891475677,
          -0.145590454339981
         ]
        },
        {
         "line": {
          "color": "gray",
          "dash": "dot",
          "width": 1
         },
         "mode": "lines",
         "showlegend": false,
         "type": "scatter3d",
         "x": [
          0.07850035279989243,
          0.0746604055166244
         ],
         "y": [
          0.5346435904502869,
          0.5588972568511963
         ],
         "z": [
          -0.17125903069972992,
          -0.1810878664255142
         ]
        },
        {
         "line": {
          "color": "gray",
          "dash": "dot",
          "width": 1
         },
         "mode": "lines",
         "showlegend": false,
         "type": "scatter3d",
         "x": [
          0.14177000522613525,
          0.0968341082334518
         ],
         "y": [
          0.5342457294464111,
          0.5593221783638
         ],
         "z": [
          -0.21297100186347961,
          -0.200357124209404
         ]
        },
        {
         "line": {
          "color": "gray",
          "dash": "dot",
          "width": 1
         },
         "mode": "lines",
         "showlegend": false,
         "type": "scatter3d",
         "x": [
          0.13935109972953796,
          0.0938006117939949
         ],
         "y": [
          0.5309848189353943,
          0.5589540600776672
         ],
         "z": [
          -0.18316452205181122,
          -0.1928477734327316
         ]
        },
        {
         "line": {
          "color": "gray",
          "dash": "dot",
          "width": 1
         },
         "mode": "lines",
         "showlegend": false,
         "type": "scatter3d",
         "x": [
          0.19841477274894714,
          0.1144380420446395
         ],
         "y": [
          0.5185592770576477,
          0.5575963854789734
         ],
         "z": [
          -0.2203468233346939,
          -0.2086235731840133
         ]
        },
        {
         "line": {
          "color": "gray",
          "dash": "dot",
          "width": 1
         },
         "mode": "lines",
         "showlegend": false,
         "type": "scatter3d",
         "x": [
          0.30071595311164856,
          0.1734301149845123
         ],
         "y": [
          0.4244949221611023,
          0.5439249873161316
         ],
         "z": [
          -0.24449391663074493,
          -0.2232998162508011
         ]
        },
        {
         "line": {
          "color": "gray",
          "dash": "dot",
          "width": 1
         },
         "mode": "lines",
         "showlegend": false,
         "type": "scatter3d",
         "x": [
          0.24110956490039825,
          0.1362246423959732
         ],
         "y": [
          0.49064600467681885,
          0.5535102486610413
         ],
         "z": [
          -0.2757282853126526,
          -0.2315953969955444
         ]
        },
        {
         "line": {
          "color": "gray",
          "dash": "dot",
          "width": 1
         },
         "mode": "lines",
         "showlegend": false,
         "type": "scatter3d",
         "x": [
          0.18305179476737976,
          0.1130469664931297
         ],
         "y": [
          0.5094287395477295,
          0.553955614566803
         ],
         "z": [
          -0.36447054147720337,
          -0.2671046853065491
         ]
        },
        {
         "line": {
          "color": "gray",
          "dash": "dot",
          "width": 1
         },
         "mode": "lines",
         "showlegend": false,
         "type": "scatter3d",
         "x": [
          0.11518796533346176,
          0.0877272114157676
         ],
         "y": [
          0.5458133816719055,
          0.5596506595611572
         ],
         "z": [
          -0.2914043962955475,
          -0.235597014427185
         ]
        },
        {
         "line": {
          "color": "gray",
          "dash": "dot",
          "width": 1
         },
         "mode": "lines",
         "showlegend": false,
         "type": "scatter3d",
         "x": [
          -0.023351233452558517,
          0.0390240959823131
         ],
         "y": [
          0.5286076664924622,
          0.5588220357894897
         ],
         "z": [
          -0.20424947142601013,
          -0.1986671686172485
         ]
        },
        {
         "line": {
          "color": "gray",
          "dash": "dot",
          "width": 1
         },
         "mode": "lines",
         "showlegend": false,
         "type": "scatter3d",
         "x": [
          -0.06987547874450684,
          0.0231014378368854
         ],
         "y": [
          0.510176420211792,
          0.5573326349258423
         ],
         "z": [
          -0.252778559923172,
          -0.2214738428592682
         ]
        },
        {
         "line": {
          "color": "gray",
          "dash": "dot",
          "width": 1
         },
         "mode": "lines",
         "showlegend": false,
         "type": "scatter3d",
         "x": [
          0.19891180098056793,
          0.1148308366537094
         ],
         "y": [
          0.5192391872406006,
          0.5572819709777832
         ],
         "z": [
          -0.2871965169906616,
          -0.2336986511945724
         ]
        },
        {
         "line": {
          "color": "gray",
          "dash": "dot",
          "width": 1
         },
         "mode": "lines",
         "showlegend": false,
         "type": "scatter3d",
         "x": [
          0.21237750351428986,
          0.1203859001398086
         ],
         "y": [
          0.5104793310165405,
          0.5560920238494873
         ],
         "z": [
          -0.3001304864883423,
          -0.241606056690216
         ]
        },
        {
         "line": {
          "color": "gray",
          "dash": "dot",
          "width": 1
         },
         "mode": "lines",
         "showlegend": false,
         "type": "scatter3d",
         "x": [
          0.1462174654006958,
          0.0973109528422355
         ],
         "y": [
          0.539911687374115,
          0.5594816207885742
         ],
         "z": [
          -0.25866472721099854,
          -0.2277543693780899
         ]
        },
        {
         "line": {
          "color": "gray",
          "dash": "dot",
          "width": 1
         },
         "mode": "lines",
         "showlegend": false,
         "type": "scatter3d",
         "x": [
          0.13547807931900024,
          0.0939250364899635
         ],
         "y": [
          0.5343806147575378,
          0.5582609176635742
         ],
         "z": [
          -0.316200852394104,
          -0.2500922083854675
         ]
        },
        {
         "line": {
          "color": "gray",
          "dash": "dot",
          "width": 1
         },
         "mode": "lines",
         "showlegend": false,
         "type": "scatter3d",
         "x": [
          -0.02177012898027897,
          0.044477142393589
         ],
         "y": [
          0.5337636470794678,
          0.5598263740539551
         ],
         "z": [
          -0.25281649827957153,
          -0.2193085700273513
         ]
        },
        {
         "line": {
          "color": "gray",
          "dash": "dot",
          "width": 1
         },
         "mode": "lines",
         "showlegend": false,
         "type": "scatter3d",
         "x": [
          -0.011556584388017654,
          0.044536430388689
         ],
         "y": [
          0.5334182977676392,
          0.559781014919281
         ],
         "z": [
          -0.23427696526050568,
          -0.2133583426475525
         ]
        },
        {
         "line": {
          "color": "gray",
          "dash": "dot",
          "width": 1
         },
         "mode": "lines",
         "showlegend": false,
         "type": "scatter3d",
         "x": [
          -0.07903122156858444,
          0.0181715507060289
         ],
         "y": [
          0.5051347017288208,
          0.5566704273223877
         ],
         "z": [
          -0.24038928747177124,
          -0.2176274806261062
         ]
        },
        {
         "line": {
          "color": "gray",
          "dash": "dot",
          "width": 1
         },
         "mode": "lines",
         "showlegend": false,
         "type": "scatter3d",
         "x": [
          -0.12263580411672592,
          -0.0059999492950737
         ],
         "y": [
          0.4783371388912201,
          0.5497164726257324
         ],
         "z": [
          -0.28322353959083557,
          -0.2534054517745971
         ]
        },
        {
         "line": {
          "color": "gray",
          "dash": "dot",
          "width": 1
         },
         "mode": "lines",
         "showlegend": false,
         "type": "scatter3d",
         "x": [
          -0.055822521448135376,
          0.0271683596074581
         ],
         "y": [
          0.5099790096282959,
          0.555525004863739
         ],
         "z": [
          -0.31224581599235535,
          -0.2550383508205414
         ]
        },
        {
         "line": {
          "color": "gray",
          "dash": "dot",
          "width": 1
         },
         "mode": "lines",
         "showlegend": false,
         "type": "scatter3d",
         "x": [
          0.022883117198944092,
          0.0554237067699432
         ],
         "y": [
          0.5366473197937012,
          0.5582249164581299
         ],
         "z": [
          -0.31993478536605835,
          -0.2540979385375976
         ]
        },
        {
         "line": {
          "color": "gray",
          "dash": "dot",
          "width": 1
         },
         "mode": "lines",
         "showlegend": false,
         "type": "scatter3d",
         "x": [
          0.04351716861128807,
          0.0638405606150627
         ],
         "y": [
          0.538846492767334,
          0.5584254264831543
         ],
         "z": [
          -0.2913370430469513,
          -0.2489349395036697
         ]
        },
        {
         "line": {
          "color": "gray",
          "dash": "dot",
          "width": 1
         },
         "mode": "lines",
         "showlegend": false,
         "type": "scatter3d",
         "x": [
          0.13611556589603424,
          0.0942499637603759
         ],
         "y": [
          0.551072895526886,
          0.5590177774429321
         ],
         "z": [
          -0.23874244093894958,
          -0.2269650846719741
         ]
        },
        {
         "line": {
          "color": "gray",
          "dash": "dot",
          "width": 1
         },
         "mode": "lines",
         "showlegend": false,
         "type": "scatter3d",
         "x": [
          0.1832071840763092,
          0.110877625644207
         ],
         "y": [
          0.5235506892204285,
          0.5567635893821716
         ],
         "z": [
          -0.2816790044307709,
          -0.2277824133634567
         ]
        },
        {
         "line": {
          "color": "gray",
          "dash": "dot",
          "width": 1
         },
         "mode": "lines",
         "showlegend": false,
         "type": "scatter3d",
         "x": [
          0.1044587641954422,
          0.0832748413085937
         ],
         "y": [
          0.5406947731971741,
          0.5580223798751831
         ],
         "z": [
          -0.21368245780467987,
          -0.1934860348701477
         ]
        },
        {
         "line": {
          "color": "gray",
          "dash": "dot",
          "width": 1
         },
         "mode": "lines",
         "showlegend": false,
         "type": "scatter3d",
         "x": [
          0.14138148725032806,
          0.0883321911096572
         ],
         "y": [
          0.5123890042304993,
          0.5531034469604492
         ],
         "z": [
          -0.08210750669240952,
          -0.1458892226219177
         ]
        },
        {
         "line": {
          "color": "gray",
          "dash": "dot",
          "width": 1
         },
         "mode": "lines",
         "showlegend": false,
         "type": "scatter3d",
         "x": [
          0.23549345135688782,
          0.1223114058375358
         ],
         "y": [
          0.47511106729507446,
          0.547330379486084
         ],
         "z": [
          -0.06499934941530228,
          -0.1354229748249054
         ]
        },
        {
         "line": {
          "color": "gray",
          "dash": "dot",
          "width": 1
         },
         "mode": "lines",
         "showlegend": false,
         "type": "scatter3d",
         "x": [
          0.15591773390769958,
          0.0925438404083252
         ],
         "y": [
          0.5046185851097107,
          0.5479132533073425
         ],
         "z": [
          -0.05017100274562836,
          -0.1249384358525276
         ]
        },
        {
         "line": {
          "color": "gray",
          "dash": "dot",
          "width": 1
         },
         "mode": "lines",
         "showlegend": false,
         "type": "scatter3d",
         "x": [
          0.16641958057880402,
          0.0870126783847808
         ],
         "y": [
          0.43711093068122864,
          0.5255404710769653
         ],
         "z": [
          0.0678444504737854,
          -0.0616690404713153
         ]
        },
        {
         "line": {
          "color": "gray",
          "dash": "dot",
          "width": 1
         },
         "mode": "lines",
         "showlegend": false,
         "type": "scatter3d",
         "x": [
          0.1664556860923767,
          0.0865311473608017
         ],
         "y": [
          0.425753653049469,
          0.515032172203064
         ],
         "z": [
          0.1006661131978035,
          -0.0407531931996345
         ]
        },
        {
         "line": {
          "color": "gray",
          "dash": "dot",
          "width": 1
         },
         "mode": "lines",
         "showlegend": false,
         "type": "scatter3d",
         "x": [
          0.09704398363828659,
          0.0747094377875328
         ],
         "y": [
          0.6852951645851135,
          0.7681513428688049
         ],
         "z": [
          -0.08135893940925598,
          -0.1728667467832565
         ]
        },
        {
         "line": {
          "color": "gray",
          "dash": "dot",
          "width": 1
         },
         "mode": "lines",
         "showlegend": false,
         "type": "scatter3d",
         "x": [
          0.18998080492019653,
          0.1161308139562606
         ],
         "y": [
          0.6956318020820618,
          0.7670417428016663
         ],
         "z": [
          -0.17098180949687958,
          -0.2162221819162368
         ]
        },
        {
         "line": {
          "color": "gray",
          "dash": "dot",
          "width": 1
         },
         "mode": "lines",
         "showlegend": false,
         "type": "scatter3d",
         "x": [
          0.19007745385169983,
          0.111404575407505
         ],
         "y": [
          0.6836808919906616,
          0.7671362161636353
         ],
         "z": [
          -0.11142971366643906,
          -0.2033309191465377
         ]
        },
        {
         "line": {
          "color": "gray",
          "dash": "dot",
          "width": 1
         },
         "mode": "lines",
         "showlegend": false,
         "type": "scatter3d",
         "x": [
          0.28206348419189453,
          0.1498383581638336
         ],
         "y": [
          0.6587464213371277,
          0.7616162300109863
         ],
         "z": [
          -0.1924024075269699,
          -0.2368836253881454
         ]
        },
        {
         "line": {
          "color": "gray",
          "dash": "dot",
          "width": 1
         },
         "mode": "lines",
         "showlegend": false,
         "type": "scatter3d",
         "x": [
          0.4470297694206238,
          0.2658078372478485
         ],
         "y": [
          0.4529208540916443,
          0.7225163578987122
         ],
         "z": [
          -0.29410916566848755,
          -0.2763105630874634
         ]
        },
        {
         "line": {
          "color": "gray",
          "dash": "dot",
          "width": 1
         },
         "mode": "lines",
         "showlegend": false,
         "type": "scatter3d",
         "x": [
          0.36223140358924866,
          0.1950872540473938
         ],
         "y": [
          0.5942578911781311,
          0.745163083076477
         ],
         "z": [
          -0.3101232647895813,
          -0.2895485162734985
         ]
        },
        {
         "line": {
          "color": "gray",
          "dash": "dot",
          "width": 1
         },
         "mode": "lines",
         "showlegend": false,
         "type": "scatter3d",
         "x": [
          0.213118776679039,
          0.1390286386013031
         ],
         "y": [
          0.6456479430198669,
          0.7409346699714661
         ],
         "z": [
          -0.4674661159515381,
          -0.3550094068050384
         ]
        },
        {
         "line": {
          "color": "gray",
          "dash": "dot",
          "width": 1
         },
         "mode": "lines",
         "showlegend": false,
         "type": "scatter3d",
         "x": [
          0.10871214419603348,
          0.0931780114769935
         ],
         "y": [
          0.7362055778503418,
          0.7607871890068054
         ],
         "z": [
          -0.3298972249031067,
          -0.2924662828445434
         ]
        },
        {
         "line": {
          "color": "gray",
          "dash": "dot",
          "width": 1
         },
         "mode": "lines",
         "showlegend": false,
         "type": "scatter3d",
         "x": [
          -0.11904111504554749,
          -0.0016513675218448
         ],
         "y": [
          0.6728136539459229,
          0.7642387747764587
         ],
         "z": [
          -0.14005769789218903,
          -0.2087241560220718
         ]
        },
        {
         "line": {
          "color": "gray",
          "dash": "dot",
          "width": 1
         },
         "mode": "lines",
         "showlegend": false,
         "type": "scatter3d",
         "x": [
          -0.20407339930534363,
          -0.0384688451886177
         ],
         "y": [
          0.6187145709991455,
          0.756067156791687
         ],
         "z": [
          -0.23289556801319122,
          -0.2478768527507782
         ]
        },
        {
         "line": {
          "color": "gray",
          "dash": "dot",
          "width": 1
         },
         "mode": "lines",
         "showlegend": false,
         "type": "scatter3d",
         "x": [
          0.23497992753982544,
          0.132061555981636
         ],
         "y": [
          0.6916528344154358,
          0.7581586837768555
         ],
         "z": [
          -0.32668930292129517,
          -0.290307879447937
         ]
        },
        {
         "line": {
          "color": "gray",
          "dash": "dot",
          "width": 1
         },
         "mode": "lines",
         "showlegend": false,
         "type": "scatter3d",
         "x": [
          0.27788758277893066,
          0.1495664566755294
         ],
         "y": [
          0.6584331393241882,
          0.7571166753768921
         ],
         "z": [
          -0.3098175823688507,
          -0.2915509045124054
         ]
        },
        {
         "line": {
          "color": "gray",
          "dash": "dot",
          "width": 1
         },
         "mode": "lines",
         "showlegend": false,
         "type": "scatter3d",
         "x": [
          0.16667306423187256,
          0.1050272956490516
         ],
         "y": [
          0.7125365734100342,
          0.7661545872688293
         ],
         "z": [
          -0.2219858169555664,
          -0.257749080657959
         ]
        },
        {
         "line": {
          "color": "gray",
          "dash": "dot",
          "width": 1
         },
         "mode": "lines",
         "showlegend": false,
         "type": "scatter3d",
         "x": [
          0.16425931453704834,
          0.1047758981585502
         ],
         "y": [
          0.7161703705787659,
          0.7614519000053406
         ],
         "z": [
          -0.3231883943080902,
          -0.2954749166965484
         ]
        },
        {
         "line": {
          "color": "gray",
          "dash": "dot",
          "width": 1
         },
         "mode": "lines",
         "showlegend": false,
         "type": "scatter3d",
         "x": [
          -0.11700118333101273,
          0.0106413261964917
         ],
         "y": [
          0.6946989893913269,
          0.7652677893638611
         ],
         "z": [
          -0.2083696871995926,
          -0.2403791844844818
         ]
        },
        {
         "line": {
          "color": "gray",
          "dash": "dot",
          "width": 1
         },
         "mode": "lines",
         "showlegend": false,
         "type": "scatter3d",
         "x": [
          -0.07472949475049973,
          0.0187685191631317
         ],
         "y": [
          0.7046743035316467,
          0.7664702534675598
         ],
         "z": [
          -0.1701846867799759,
          -0.229920819401741
         ]
        },
        {
         "line": {
          "color": "gray",
          "dash": "dot",
          "width": 1
         },
         "mode": "lines",
         "showlegend": false,
         "type": "scatter3d",
         "x": [
          -0.18308761715888977,
          -0.027383092790842
         ],
         "y": [
          0.6431533098220825,
          0.7598022818565369
         ],
         "z": [
          -0.17961473762989044,
          -0.2353081703186035
         ]
        },
        {
         "line": {
          "color": "gray",
          "dash": "dot",
          "width": 1
         },
         "mode": "lines",
         "showlegend": false,
         "type": "scatter3d",
         "x": [
          -0.25491148233413696,
          -0.0731140151619911
         ],
         "y": [
          0.5847208499908447,
          0.7439295649528503
         ],
         "z": [
          -0.24879387021064758,
          -0.2888052761554718
         ]
        },
        {
         "line": {
          "color": "gray",
          "dash": "dot",
          "width": 1
         },
         "mode": "lines",
         "showlegend": false,
         "type": "scatter3d",
         "x": [
          -0.16297683119773865,
          -0.0097886370494961
         ],
         "y": [
          0.6618671417236328,
          0.7532299757003784
         ],
         "z": [
          -0.32352617383003235,
          -0.3093357980251312
         ]
        },
        {
         "line": {
          "color": "gray",
          "dash": "dot",
          "width": 1
         },
         "mode": "lines",
         "showlegend": false,
         "type": "scatter3d",
         "x": [
          -0.00680884812027216,
          0.0492217801511287
         ],
         "y": [
          0.7135267853736877,
          0.7550607919692993
         ],
         "z": [
          -0.3746787905693054,
          -0.3202677369117737
         ]
        },
        {
         "line": {
          "color": "gray",
          "dash": "dot",
          "width": 1
         },
         "mode": "lines",
         "showlegend": false,
         "type": "scatter3d",
         "x": [
          -0.06586058437824249,
          0.0436760932207107
         ],
         "y": [
          0.6899182796478271,
          0.7498772144317627
         ],
         "z": [
          -0.34908899664878845,
          -0.3274747431278229
         ]
        },
        {
         "line": {
          "color": "gray",
          "dash": "dot",
          "width": 1
         },
         "mode": "lines",
         "showlegend": false,
         "type": "scatter3d",
         "x": [
          0.09992197901010513,
          0.0927048698067665
         ],
         "y": [
          0.7194996476173401,
          0.7533396482467651
         ],
         "z": [
          -0.28822946548461914,
          -0.3003706037998199
         ]
        },
        {
         "line": {
          "color": "gray",
          "dash": "dot",
          "width": 1
         },
         "mode": "lines",
         "showlegend": false,
         "type": "scatter3d",
         "x": [
          0.22555184364318848,
          0.1239723265171051
         ],
         "y": [
          0.6649490594863892,
          0.7430095672607422
         ],
         "z": [
          -0.4209204614162445,
          -0.3202227354049682
         ]
        },
        {
         "line": {
          "color": "gray",
          "dash": "dot",
          "width": 1
         },
         "mode": "lines",
         "showlegend": false,
         "type": "scatter3d",
         "x": [
          0.13694657385349274,
          0.0838401541113853
         ],
         "y": [
          0.676155149936676,
          0.7500684857368469
         ],
         "z": [
          -0.33399274945259094,
          -0.2731390595436096
         ]
        },
        {
         "line": {
          "color": "gray",
          "dash": "dot",
          "width": 1
         },
         "mode": "lines",
         "showlegend": false,
         "type": "scatter3d",
         "x": [
          0.1741066426038742,
          0.1052049398422241
         ],
         "y": [
          0.6602365374565125,
          0.7571890950202942
         ],
         "z": [
          -0.07364152371883392,
          -0.1790386885404586
         ]
        },
        {
         "line": {
          "color": "gray",
          "dash": "dot",
          "width": 1
         },
         "mode": "lines",
         "showlegend": false,
         "type": "scatter3d",
         "x": [
          0.3671291172504425,
          0.1621678620576858
         ],
         "y": [
          0.5914800763130188,
          0.7476182579994202
         ],
         "z": [
          -0.10463238507509232,
          -0.1716857254505157
         ]
        },
        {
         "line": {
          "color": "gray",
          "dash": "dot",
          "width": 1
         },
         "mode": "lines",
         "showlegend": false,
         "type": "scatter3d",
         "x": [
          0.24920034408569336,
          0.114555113017559
         ],
         "y": [
          0.6381778717041016,
          0.7510856986045837
         ],
         "z": [
          -0.08251049369573593,
          -0.1584689319133758
         ]
        },
        {
         "line": {
          "color": "gray",
          "dash": "dot",
          "width": 1
         },
         "mode": "lines",
         "showlegend": false,
         "type": "scatter3d",
         "x": [
          0.2652148902416229,
          0.1171927005052566
         ],
         "y": [
          0.5267951488494873,
          0.7278496623039246
         ],
         "z": [
          0.22724314033985138,
          -0.0285937469452619
         ]
        },
        {
         "line": {
          "color": "gray",
          "dash": "dot",
          "width": 1
         },
         "mode": "lines",
         "showlegend": false,
         "type": "scatter3d",
         "x": [
          0.2724975645542145,
          0.1102015823125839
         ],
         "y": [
          0.5276978611946106,
          0.7138747572898865
         ],
         "z": [
          0.3006729185581207,
          0.0131382383406162
         ]
        },
        {
         "marker": {
          "color": {
           "bdata": "CxRXKJjaiD9Y/x7QJqySPyhQ7/ywNY0/oh8FJgYgnD/bYbtbjvCnP1BW8GHF0qI/UvbjutQopz8phoxAucagP+HthHxM/p8/25OixwlOpj9kWHVkU4aiPyLE1xyCOKM/soJF5cWxlz9wq8tboomhP4ObD/vw6qM/9OdjPZmMoT9JbcgbLO6mP2Q4/7S1nak/guGZ88HVqD9X5ypxWIekP1I+Y/GyhqA/DM1Hb5u/oT+mdVRFIKahP7+fXxKPTJc/ECR8vXChoD82nrh6mUKqP+eAiY4oiqU/UurD1kNJqT8JeC9s+jqrPzxbw4ynFZs/0oSVeY4gqz/htoNGG9CrP2ZnLSeB5bc/sQGioG6Bxj8w1XxE5qPAP0diu4arX8A/u9IEZNhPsD9k2EjE38yxP+sCLQGe3bs/1OWIq9hOuz8D0NrGekG+PzcnYfVaRa8/9XmgqDzntD/fE0VFdSS0P8vwo+36vrA/0NmMze/CvD+1BVMPH+rBPyojiVnzULw/WK86B2KYsz/jx3bsEhSqP0utwoK9oqY/KcGlQ3mbuD/kcIy5LmqhP4HbITFSqLc/wfTqiuxnwz+bWrwuGW67P6aIYXr+f8Y/TFgDD9m5xz9wDXJavQ7AP/UV6sJdvLw/971B0+XPwj+r/9ntxC/GPyaTH+Q20tQ/Pl/gcbDxzD/C7XPIxB3FP4wNQLalRKg/II+k1cD5xD8E6z4WMJvLP5WmSZSEXMA/q8DtExzaxD/cqEEV4dS2P89w+nQgabQ/1L4J7f4cwz8rEJ3+iUHAPzQ4tFou58k/1sEhwGVazz/2ziMpG+fGP/Y3Wa5GpbY/bRMro7E4wD+bnQZxUsaiP5gHzFN228Q/HfSJ7RwHvD/Ipzvkg1fEP+n0pbMYCtE/bpPbru2AyD/NORnh0ODWP9VLHAVWQtg/",
           "dtype": "f8"
          },
          "colorbar": {
           "len": 0.75,
           "thickness": 15,
           "title": {
            "side": "top",
            "text": "Prediction Error<br>(distance)"
           }
          },
          "colorscale": [
           [
            0,
            "#440154"
           ],
           [
            0.1111111111111111,
            "#482878"
           ],
           [
            0.2222222222222222,
            "#3e4989"
           ],
           [
            0.3333333333333333,
            "#31688e"
           ],
           [
            0.4444444444444444,
            "#26828e"
           ],
           [
            0.5555555555555556,
            "#1f9e89"
           ],
           [
            0.6666666666666666,
            "#35b779"
           ],
           [
            0.7777777777777778,
            "#6ece58"
           ],
           [
            0.8888888888888888,
            "#b5de2b"
           ],
           [
            1,
            "#fde725"
           ]
          ],
          "showscale": true,
          "size": 4
         },
         "mode": "markers",
         "name": "Predictions",
         "type": "scatter3d",
         "x": [
          0.06413350999355316,
          0.08604898303747177,
          0.08548106253147125,
          0.10561948269605637,
          0.14341500401496887,
          0.12147123366594315,
          0.10971955955028534,
          0.08445491641759872,
          0.03714992478489876,
          0.02741372399032116,
          0.1102159395813942,
          0.11453311145305634,
          0.0907849371433258,
          0.09074916690587997,
          0.04138869792222977,
          0.042675405740737915,
          0.02370341122150421,
          0.014764968305826187,
          0.037850525230169296,
          0.06121924892067909,
          0.08532676845788956,
          0.11671240627765656,
          0.11831466853618622,
          0.09988442063331604,
          0.09968769550323486,
          0.1263892501592636,
          0.10256189852952957,
          0.0916825458407402,
          0.0973193347454071,
          0.07850035279989243,
          0.14177000522613525,
          0.13935109972953796,
          0.19841477274894714,
          0.30071595311164856,
          0.24110956490039825,
          0.18305179476737976,
          0.11518796533346176,
          -0.023351233452558517,
          -0.06987547874450684,
          0.19891180098056793,
          0.21237750351428986,
          0.1462174654006958,
          0.13547807931900024,
          -0.02177012898027897,
          -0.011556584388017654,
          -0.07903122156858444,
          -0.12263580411672592,
          -0.055822521448135376,
          0.022883117198944092,
          0.04351716861128807,
          0.13611556589603424,
          0.1832071840763092,
          0.1044587641954422,
          0.14138148725032806,
          0.23549345135688782,
          0.15591773390769958,
          0.16641958057880402,
          0.1664556860923767,
          0.09704398363828659,
          0.18998080492019653,
          0.19007745385169983,
          0.28206348419189453,
          0.4470297694206238,
          0.36223140358924866,
          0.213118776679039,
          0.10871214419603348,
          -0.11904111504554749,
          -0.20407339930534363,
          0.23497992753982544,
          0.27788758277893066,
          0.16667306423187256,
          0.16425931453704834,
          -0.11700118333101273,
          -0.07472949475049973,
          -0.18308761715888977,
          -0.25491148233413696,
          -0.16297683119773865,
          -0.00680884812027216,
          -0.06586058437824249,
          0.09992197901010513,
          0.22555184364318848,
          0.13694657385349274,
          0.1741066426038742,
          0.3671291172504425,
          0.24920034408569336,
          0.2652148902416229,
          0.2724975645542145
         ],
         "y": [
          0.3505406081676483,
          0.3498522937297821,
          0.3503163456916809,
          0.3486148715019226,
          0.3355676829814911,
          0.3454797565937042,
          0.3413275480270386,
          0.3471280038356781,
          0.3464021682739258,
          0.3415994644165039,
          0.34597429633140564,
          0.3451111912727356,
          0.34854233264923096,
          0.34485962986946106,
          0.34409305453300476,
          0.34479567408561707,
          0.3394199311733246,
          0.3344787359237671,
          0.3385431468486786,
          0.3432604968547821,
          0.3465110659599304,
          0.3483821749687195,
          0.34531933069229126,
          0.35096803307533264,
          0.34274592995643616,
          0.33294877409935,
          0.3400658071041107,
          0.3276466727256775,
          0.323025107383728,
          0.5346435904502869,
          0.5342457294464111,
          0.5309848189353943,
          0.5185592770576477,
          0.4244949221611023,
          0.49064600467681885,
          0.5094287395477295,
          0.5458133816719055,
          0.5286076664924622,
          0.510176420211792,
          0.5192391872406006,
          0.5104793310165405,
          0.539911687374115,
          0.5343806147575378,
          0.5337636470794678,
          0.5334182977676392,
          0.5051347017288208,
          0.4783371388912201,
          0.5099790096282959,
          0.5366473197937012,
          0.538846492767334,
          0.551072895526886,
          0.5235506892204285,
          0.5406947731971741,
          0.5123890042304993,
          0.47511106729507446,
          0.5046185851097107,
          0.43711093068122864,
          0.425753653049469,
          0.6852951645851135,
          0.6956318020820618,
          0.6836808919906616,
          0.6587464213371277,
          0.4529208540916443,
          0.5942578911781311,
          0.6456479430198669,
          0.7362055778503418,
          0.6728136539459229,
          0.6187145709991455,
          0.6916528344154358,
          0.6584331393241882,
          0.7125365734100342,
          0.7161703705787659,
          0.6946989893913269,
          0.7046743035316467,
          0.6431533098220825,
          0.5847208499908447,
          0.6618671417236328,
          0.7135267853736877,
          0.6899182796478271,
          0.7194996476173401,
          0.6649490594863892,
          0.676155149936676,
          0.6602365374565125,
          0.5914800763130188,
          0.6381778717041016,
          0.5267951488494873,
          0.5276978611946106
         ],
         "z": [
          -0.2140244096517563,
          -0.2207653969526291,
          -0.21183207631111145,
          -0.21844060719013214,
          -0.20234546065330505,
          -0.22550565004348755,
          -0.2591712176799774,
          -0.24692027270793915,
          -0.23073695600032806,
          -0.24896065890789032,
          -0.23750881850719452,
          -0.2383766621351242,
          -0.2312432825565338,
          -0.2507818043231964,
          -0.24652938544750214,
          -0.24035558104515076,
          -0.24662697315216064,
          -0.2610216736793518,
          -0.2677120268344879,
          -0.26275351643562317,
          -0.25018176436424255,
          -0.22350239753723145,
          -0.2163330763578415,
          -0.18777433037757874,
          -0.15685054659843445,
          -0.1438235491514206,
          -0.13660457730293274,
          -0.10860838741064072,
          -0.09850595891475677,
          -0.17125903069972992,
          -0.21297100186347961,
          -0.18316452205181122,
          -0.2203468233346939,
          -0.24449391663074493,
          -0.2757282853126526,
          -0.36447054147720337,
          -0.2914043962955475,
          -0.20424947142601013,
          -0.252778559923172,
          -0.2871965169906616,
          -0.3001304864883423,
          -0.25866472721099854,
          -0.316200852394104,
          -0.25281649827957153,
          -0.23427696526050568,
          -0.24038928747177124,
          -0.28322353959083557,
          -0.31224581599235535,
          -0.31993478536605835,
          -0.2913370430469513,
          -0.23874244093894958,
          -0.2816790044307709,
          -0.21368245780467987,
          -0.08210750669240952,
          -0.06499934941530228,
          -0.05017100274562836,
          0.0678444504737854,
          0.1006661131978035,
          -0.08135893940925598,
          -0.17098180949687958,
          -0.11142971366643906,
          -0.1924024075269699,
          -0.29410916566848755,
          -0.3101232647895813,
          -0.4674661159515381,
          -0.3298972249031067,
          -0.14005769789218903,
          -0.23289556801319122,
          -0.32668930292129517,
          -0.3098175823688507,
          -0.2219858169555664,
          -0.3231883943080902,
          -0.2083696871995926,
          -0.1701846867799759,
          -0.17961473762989044,
          -0.24879387021064758,
          -0.32352617383003235,
          -0.3746787905693054,
          -0.34908899664878845,
          -0.28822946548461914,
          -0.4209204614162445,
          -0.33399274945259094,
          -0.07364152371883392,
          -0.10463238507509232,
          -0.08251049369573593,
          0.22724314033985138,
          0.3006729185581207
         ]
        }
       ],
       "layout": {
        "legend": {
         "x": 0,
         "xanchor": "left",
         "y": 1,
         "yanchor": "top"
        },
        "margin": {
         "b": 0,
         "l": 0,
         "r": 0,
         "t": 40
        },
        "scene": {
         "xaxis": {
          "title": {
           "text": "X"
          }
         },
         "yaxis": {
          "title": {
           "text": "Y"
          }
         },
         "zaxis": {
          "title": {
           "text": "Z"
          }
         }
        },
        "template": {
         "data": {
          "bar": [
           {
            "error_x": {
             "color": "#2a3f5f"
            },
            "error_y": {
             "color": "#2a3f5f"
            },
            "marker": {
             "line": {
              "color": "#E5ECF6",
              "width": 0.5
             },
             "pattern": {
              "fillmode": "overlay",
              "size": 10,
              "solidity": 0.2
             }
            },
            "type": "bar"
           }
          ],
          "barpolar": [
           {
            "marker": {
             "line": {
              "color": "#E5ECF6",
              "width": 0.5
             },
             "pattern": {
              "fillmode": "overlay",
              "size": 10,
              "solidity": 0.2
             }
            },
            "type": "barpolar"
           }
          ],
          "carpet": [
           {
            "aaxis": {
             "endlinecolor": "#2a3f5f",
             "gridcolor": "white",
             "linecolor": "white",
             "minorgridcolor": "white",
             "startlinecolor": "#2a3f5f"
            },
            "baxis": {
             "endlinecolor": "#2a3f5f",
             "gridcolor": "white",
             "linecolor": "white",
             "minorgridcolor": "white",
             "startlinecolor": "#2a3f5f"
            },
            "type": "carpet"
           }
          ],
          "choropleth": [
           {
            "colorbar": {
             "outlinewidth": 0,
             "ticks": ""
            },
            "type": "choropleth"
           }
          ],
          "contour": [
           {
            "colorbar": {
             "outlinewidth": 0,
             "ticks": ""
            },
            "colorscale": [
             [
              0,
              "#0d0887"
             ],
             [
              0.1111111111111111,
              "#46039f"
             ],
             [
              0.2222222222222222,
              "#7201a8"
             ],
             [
              0.3333333333333333,
              "#9c179e"
             ],
             [
              0.4444444444444444,
              "#bd3786"
             ],
             [
              0.5555555555555556,
              "#d8576b"
             ],
             [
              0.6666666666666666,
              "#ed7953"
             ],
             [
              0.7777777777777778,
              "#fb9f3a"
             ],
             [
              0.8888888888888888,
              "#fdca26"
             ],
             [
              1,
              "#f0f921"
             ]
            ],
            "type": "contour"
           }
          ],
          "contourcarpet": [
           {
            "colorbar": {
             "outlinewidth": 0,
             "ticks": ""
            },
            "type": "contourcarpet"
           }
          ],
          "heatmap": [
           {
            "colorbar": {
             "outlinewidth": 0,
             "ticks": ""
            },
            "colorscale": [
             [
              0,
              "#0d0887"
             ],
             [
              0.1111111111111111,
              "#46039f"
             ],
             [
              0.2222222222222222,
              "#7201a8"
             ],
             [
              0.3333333333333333,
              "#9c179e"
             ],
             [
              0.4444444444444444,
              "#bd3786"
             ],
             [
              0.5555555555555556,
              "#d8576b"
             ],
             [
              0.6666666666666666,
              "#ed7953"
             ],
             [
              0.7777777777777778,
              "#fb9f3a"
             ],
             [
              0.8888888888888888,
              "#fdca26"
             ],
             [
              1,
              "#f0f921"
             ]
            ],
            "type": "heatmap"
           }
          ],
          "histogram": [
           {
            "marker": {
             "pattern": {
              "fillmode": "overlay",
              "size": 10,
              "solidity": 0.2
             }
            },
            "type": "histogram"
           }
          ],
          "histogram2d": [
           {
            "colorbar": {
             "outlinewidth": 0,
             "ticks": ""
            },
            "colorscale": [
             [
              0,
              "#0d0887"
             ],
             [
              0.1111111111111111,
              "#46039f"
             ],
             [
              0.2222222222222222,
              "#7201a8"
             ],
             [
              0.3333333333333333,
              "#9c179e"
             ],
             [
              0.4444444444444444,
              "#bd3786"
             ],
             [
              0.5555555555555556,
              "#d8576b"
             ],
             [
              0.6666666666666666,
              "#ed7953"
             ],
             [
              0.7777777777777778,
              "#fb9f3a"
             ],
             [
              0.8888888888888888,
              "#fdca26"
             ],
             [
              1,
              "#f0f921"
             ]
            ],
            "type": "histogram2d"
           }
          ],
          "histogram2dcontour": [
           {
            "colorbar": {
             "outlinewidth": 0,
             "ticks": ""
            },
            "colorscale": [
             [
              0,
              "#0d0887"
             ],
             [
              0.1111111111111111,
              "#46039f"
             ],
             [
              0.2222222222222222,
              "#7201a8"
             ],
             [
              0.3333333333333333,
              "#9c179e"
             ],
             [
              0.4444444444444444,
              "#bd3786"
             ],
             [
              0.5555555555555556,
              "#d8576b"
             ],
             [
              0.6666666666666666,
              "#ed7953"
             ],
             [
              0.7777777777777778,
              "#fb9f3a"
             ],
             [
              0.8888888888888888,
              "#fdca26"
             ],
             [
              1,
              "#f0f921"
             ]
            ],
            "type": "histogram2dcontour"
           }
          ],
          "mesh3d": [
           {
            "colorbar": {
             "outlinewidth": 0,
             "ticks": ""
            },
            "type": "mesh3d"
           }
          ],
          "parcoords": [
           {
            "line": {
             "colorbar": {
              "outlinewidth": 0,
              "ticks": ""
             }
            },
            "type": "parcoords"
           }
          ],
          "pie": [
           {
            "automargin": true,
            "type": "pie"
           }
          ],
          "scatter": [
           {
            "fillpattern": {
             "fillmode": "overlay",
             "size": 10,
             "solidity": 0.2
            },
            "type": "scatter"
           }
          ],
          "scatter3d": [
           {
            "line": {
             "colorbar": {
              "outlinewidth": 0,
              "ticks": ""
             }
            },
            "marker": {
             "colorbar": {
              "outlinewidth": 0,
              "ticks": ""
             }
            },
            "type": "scatter3d"
           }
          ],
          "scattercarpet": [
           {
            "marker": {
             "colorbar": {
              "outlinewidth": 0,
              "ticks": ""
             }
            },
            "type": "scattercarpet"
           }
          ],
          "scattergeo": [
           {
            "marker": {
             "colorbar": {
              "outlinewidth": 0,
              "ticks": ""
             }
            },
            "type": "scattergeo"
           }
          ],
          "scattergl": [
           {
            "marker": {
             "colorbar": {
              "outlinewidth": 0,
              "ticks": ""
             }
            },
            "type": "scattergl"
           }
          ],
          "scattermap": [
           {
            "marker": {
             "colorbar": {
              "outlinewidth": 0,
              "ticks": ""
             }
            },
            "type": "scattermap"
           }
          ],
          "scattermapbox": [
           {
            "marker": {
             "colorbar": {
              "outlinewidth": 0,
              "ticks": ""
             }
            },
            "type": "scattermapbox"
           }
          ],
          "scatterpolar": [
           {
            "marker": {
             "colorbar": {
              "outlinewidth": 0,
              "ticks": ""
             }
            },
            "type": "scatterpolar"
           }
          ],
          "scatterpolargl": [
           {
            "marker": {
             "colorbar": {
              "outlinewidth": 0,
              "ticks": ""
             }
            },
            "type": "scatterpolargl"
           }
          ],
          "scatterternary": [
           {
            "marker": {
             "colorbar": {
              "outlinewidth": 0,
              "ticks": ""
             }
            },
            "type": "scatterternary"
           }
          ],
          "surface": [
           {
            "colorbar": {
             "outlinewidth": 0,
             "ticks": ""
            },
            "colorscale": [
             [
              0,
              "#0d0887"
             ],
             [
              0.1111111111111111,
              "#46039f"
             ],
             [
              0.2222222222222222,
              "#7201a8"
             ],
             [
              0.3333333333333333,
              "#9c179e"
             ],
             [
              0.4444444444444444,
              "#bd3786"
             ],
             [
              0.5555555555555556,
              "#d8576b"
             ],
             [
              0.6666666666666666,
              "#ed7953"
             ],
             [
              0.7777777777777778,
              "#fb9f3a"
             ],
             [
              0.8888888888888888,
              "#fdca26"
             ],
             [
              1,
              "#f0f921"
             ]
            ],
            "type": "surface"
           }
          ],
          "table": [
           {
            "cells": {
             "fill": {
              "color": "#EBF0F8"
             },
             "line": {
              "color": "white"
             }
            },
            "header": {
             "fill": {
              "color": "#C8D4E3"
             },
             "line": {
              "color": "white"
             }
            },
            "type": "table"
           }
          ]
         },
         "layout": {
          "annotationdefaults": {
           "arrowcolor": "#2a3f5f",
           "arrowhead": 0,
           "arrowwidth": 1
          },
          "autotypenumbers": "strict",
          "coloraxis": {
           "colorbar": {
            "outlinewidth": 0,
            "ticks": ""
           }
          },
          "colorscale": {
           "diverging": [
            [
             0,
             "#8e0152"
            ],
            [
             0.1,
             "#c51b7d"
            ],
            [
             0.2,
             "#de77ae"
            ],
            [
             0.3,
             "#f1b6da"
            ],
            [
             0.4,
             "#fde0ef"
            ],
            [
             0.5,
             "#f7f7f7"
            ],
            [
             0.6,
             "#e6f5d0"
            ],
            [
             0.7,
             "#b8e186"
            ],
            [
             0.8,
             "#7fbc41"
            ],
            [
             0.9,
             "#4d9221"
            ],
            [
             1,
             "#276419"
            ]
           ],
           "sequential": [
            [
             0,
             "#0d0887"
            ],
            [
             0.1111111111111111,
             "#46039f"
            ],
            [
             0.2222222222222222,
             "#7201a8"
            ],
            [
             0.3333333333333333,
             "#9c179e"
            ],
            [
             0.4444444444444444,
             "#bd3786"
            ],
            [
             0.5555555555555556,
             "#d8576b"
            ],
            [
             0.6666666666666666,
             "#ed7953"
            ],
            [
             0.7777777777777778,
             "#fb9f3a"
            ],
            [
             0.8888888888888888,
             "#fdca26"
            ],
            [
             1,
             "#f0f921"
            ]
           ],
           "sequentialminus": [
            [
             0,
             "#0d0887"
            ],
            [
             0.1111111111111111,
             "#46039f"
            ],
            [
             0.2222222222222222,
             "#7201a8"
            ],
            [
             0.3333333333333333,
             "#9c179e"
            ],
            [
             0.4444444444444444,
             "#bd3786"
            ],
            [
             0.5555555555555556,
             "#d8576b"
            ],
            [
             0.6666666666666666,
             "#ed7953"
            ],
            [
             0.7777777777777778,
             "#fb9f3a"
            ],
            [
             0.8888888888888888,
             "#fdca26"
            ],
            [
             1,
             "#f0f921"
            ]
           ]
          },
          "colorway": [
           "#636efa",
           "#EF553B",
           "#00cc96",
           "#ab63fa",
           "#FFA15A",
           "#19d3f3",
           "#FF6692",
           "#B6E880",
           "#FF97FF",
           "#FECB52"
          ],
          "font": {
           "color": "#2a3f5f"
          },
          "geo": {
           "bgcolor": "white",
           "lakecolor": "white",
           "landcolor": "#E5ECF6",
           "showlakes": true,
           "showland": true,
           "subunitcolor": "white"
          },
          "hoverlabel": {
           "align": "left"
          },
          "hovermode": "closest",
          "mapbox": {
           "style": "light"
          },
          "paper_bgcolor": "white",
          "plot_bgcolor": "#E5ECF6",
          "polar": {
           "angularaxis": {
            "gridcolor": "white",
            "linecolor": "white",
            "ticks": ""
           },
           "bgcolor": "#E5ECF6",
           "radialaxis": {
            "gridcolor": "white",
            "linecolor": "white",
            "ticks": ""
           }
          },
          "scene": {
           "xaxis": {
            "backgroundcolor": "#E5ECF6",
            "gridcolor": "white",
            "gridwidth": 2,
            "linecolor": "white",
            "showbackground": true,
            "ticks": "",
            "zerolinecolor": "white"
           },
           "yaxis": {
            "backgroundcolor": "#E5ECF6",
            "gridcolor": "white",
            "gridwidth": 2,
            "linecolor": "white",
            "showbackground": true,
            "ticks": "",
            "zerolinecolor": "white"
           },
           "zaxis": {
            "backgroundcolor": "#E5ECF6",
            "gridcolor": "white",
            "gridwidth": 2,
            "linecolor": "white",
            "showbackground": true,
            "ticks": "",
            "zerolinecolor": "white"
           }
          },
          "shapedefaults": {
           "line": {
            "color": "#2a3f5f"
           }
          },
          "ternary": {
           "aaxis": {
            "gridcolor": "white",
            "linecolor": "white",
            "ticks": ""
           },
           "baxis": {
            "gridcolor": "white",
            "linecolor": "white",
            "ticks": ""
           },
           "bgcolor": "#E5ECF6",
           "caxis": {
            "gridcolor": "white",
            "linecolor": "white",
            "ticks": ""
           }
          },
          "title": {
           "x": 0.05
          },
          "xaxis": {
           "automargin": true,
           "gridcolor": "white",
           "linecolor": "white",
           "ticks": "",
           "title": {
            "standoff": 15
           },
           "zerolinecolor": "white",
           "zerolinewidth": 2
          },
          "yaxis": {
           "automargin": true,
           "gridcolor": "white",
           "linecolor": "white",
           "ticks": "",
           "title": {
            "standoff": 15
           },
           "zerolinecolor": "white",
           "zerolinewidth": 2
          }
         }
        },
        "title": {
         "text": "Prediction vs. Ground Truth (Color Indicates Accuracy)"
        }
       }
      }
     },
     "metadata": {},
     "output_type": "display_data"
    }
   ],
   "source": [
    "step = 1  # step size\n",
    "sections = [\"low\", \"middle\", \"up\"]\n",
    "gt_colors = [\"blue\", \"green\", \"red\"]\n",
    "\n",
    "fig = go.Figure()\n",
    "\n",
    "# Add ground truth data\n",
    "for i, section in enumerate(sections):\n",
    "    fig.add_trace(go.Scatter3d(\n",
    "        x=data[f\"SA-{section}-X\"][::step], \n",
    "        y=data[f\"SA-{section}-Y\"][::step], \n",
    "        z=data[f\"SA-{section}-Z\"][::step],\n",
    "        mode='markers',\n",
    "        marker=dict(size=4, color=gt_colors[i], symbol='square'),\n",
    "        name=f\"GT-{section}\"\n",
    "    ))\n",
    "\n",
    "# Combine predictions and errors for colorbar\n",
    "all_pred_x, all_pred_y, all_pred_z, all_errors = [], [], [], []\n",
    "\n",
    "for i, section in enumerate(sections):\n",
    "    # Predicted and ground truth points\n",
    "    pred_points = Y_pred_reshaped[:, i, :]\n",
    "    gt_points = np.stack([\n",
    "        data[f\"SA-{section}-X\"],\n",
    "        data[f\"SA-{section}-Y\"],\n",
    "        data[f\"SA-{section}-Z\"]\n",
    "    ], axis=-1)\n",
    "\n",
    "    min_length = min(len(pred_points), len(gt_points))\n",
    "    pred_points = pred_points[:min_length]\n",
    "    gt_points = gt_points[:min_length]\n",
    "\n",
    "    errors = np.linalg.norm(pred_points - gt_points, axis=1)\n",
    "\n",
    "    all_pred_x.extend(pred_points[:, 0])\n",
    "    all_pred_y.extend(pred_points[:, 1])\n",
    "    all_pred_z.extend(pred_points[:, 2])\n",
    "    all_errors.extend(errors)\n",
    "\n",
    "    # Optional: Add lines between corresponding points\n",
    "    for j in range(0, min_length, step):\n",
    "        fig.add_trace(go.Scatter3d(\n",
    "            x=[pred_points[j, 0], gt_points[j, 0]],\n",
    "            y=[pred_points[j, 1], gt_points[j, 1]],\n",
    "            z=[pred_points[j, 2], gt_points[j, 2]],\n",
    "            mode='lines',\n",
    "            line=dict(width=1, color='gray', dash='dot'),\n",
    "            showlegend=False\n",
    "        ))\n",
    "\n",
    "# Normalize errors for colorbar\n",
    "errors_array = np.array(all_errors)\n",
    "marker_colors = errors_array\n",
    "\n",
    "# Predicted points with a colorbar (legend)\n",
    "scatter_pred = go.Scatter3d(\n",
    "    x=all_pred_x, \n",
    "    y=all_pred_y, \n",
    "    z=all_pred_z,\n",
    "    mode='markers',\n",
    "    marker=dict(\n",
    "        size=4,\n",
    "        color=marker_colors,\n",
    "        colorscale='Viridis',\n",
    "        colorbar=dict(\n",
    "            title=dict(\n",
    "                text=\"Prediction Error<br>(distance)\",\n",
    "                side=\"top\"\n",
    "            ),\n",
    "            len=0.75,\n",
    "            thickness=15,\n",
    "        ),\n",
    "        showscale=True\n",
    "    ),\n",
    "    name=\"Predictions\"\n",
    ")\n",
    "\n",
    "fig.add_trace(scatter_pred)\n",
    "\n",
    "# Update layout clearly\n",
    "fig.update_layout(\n",
    "    title=\"Prediction vs. Ground Truth (Color Indicates Accuracy)\",\n",
    "    scene=dict(\n",
    "        xaxis_title=\"X\",\n",
    "        yaxis_title=\"Y\",\n",
    "        zaxis_title=\"Z\"\n",
    "    ),\n",
    "    margin=dict(l=0, r=0, b=0, t=40),\n",
    "    legend=dict(\n",
    "        x=0,   # Move legend to the left (0 is the left edge)\n",
    "        y=1,   # Position at the top\n",
    "        xanchor='left',  # Align legend to the left\n",
    "        yanchor='top'    # Align legend to the top\n",
    "    )\n",
    ")\n",
    "\n",
    "fig.show()\n"
   ]
  }
 ],
 "metadata": {
  "kernelspec": {
   "display_name": "dynamixel_env",
   "language": "python",
   "name": "python3"
  },
  "language_info": {
   "codemirror_mode": {
    "name": "ipython",
    "version": 3
   },
   "file_extension": ".py",
   "mimetype": "text/x-python",
   "name": "python",
   "nbconvert_exporter": "python",
   "pygments_lexer": "ipython3",
   "version": "3.11.3"
  }
 },
 "nbformat": 4,
 "nbformat_minor": 2
}
