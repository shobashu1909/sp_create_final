{
 "cells": [
  {
   "cell_type": "markdown",
   "metadata": {},
   "source": [
    "# Compare positions obtain from optitrack & predicted from model"
   ]
  },
  {
   "cell_type": "code",
   "execution_count": 1,
   "metadata": {},
   "outputs": [],
   "source": [
    "from nn import KinematicMLP, InverseKinematicMLP\n",
    "import torch\n",
    "\n",
    "import joblib \n",
    "import numpy as np\n",
    "import pandas as pd\n",
    "import matplotlib.pyplot as plt\n",
    "import plotly.graph_objects as go\n",
    "import plotly.express as px\n"
   ]
  },
  {
   "cell_type": "markdown",
   "metadata": {},
   "source": [
    "### Load Model"
   ]
  },
  {
   "cell_type": "code",
   "execution_count": 2,
   "metadata": {},
   "outputs": [],
   "source": [
    "# Load model\n",
    "model = InverseKinematicMLP(input_size=9, output_size=9)\n",
    "model.load_state_dict(torch.load(\"inverse_kinematic_model_MASS_8999.pth\"))\n",
    "model.eval()\n",
    "\n",
    "# Load actuation sample from saved dataset\n",
    "scaler_X = joblib.load(\"scaler_X_ik_MASS_8999.save\")\n",
    "scaler_Y = joblib.load(\"scaler_Y_ik_MASS_8999.save\")"
   ]
  },
  {
   "cell_type": "markdown",
   "metadata": {},
   "source": [
    "### Load the position of **all positions** (x,y,z)*3 --> 9 values"
   ]
  },
  {
   "cell_type": "code",
   "execution_count": 16,
   "metadata": {},
   "outputs": [
    {
     "name": "stdout",
     "output_type": "stream",
     "text": [
      "   SA-low-X  SA-low-Y  SA-low-Z  SA-middle-X  SA-middle-Y  SA-middle-Z  \\\n",
      "0 -0.344598  0.359098 -0.015333    -0.343661     0.568979    -0.010708   \n",
      "1 -0.355019  0.357755 -0.009588    -0.373648     0.564890     0.016277   \n",
      "2 -0.363340  0.356319 -0.005934    -0.400507     0.558389     0.033088   \n",
      "3 -0.355413  0.358094 -0.015217    -0.379610     0.565963    -0.001948   \n",
      "4 -0.371209  0.355517 -0.017042    -0.436334     0.553362     0.000648   \n",
      "\n",
      "    SA-up-X   SA-up-Y   SA-up-Z  \n",
      "0 -0.344857  0.778395 -0.018039  \n",
      "1 -0.400987  0.771656  0.042935  \n",
      "2 -0.455433  0.754951  0.082297  \n",
      "3 -0.419267  0.772090  0.008980  \n",
      "4 -0.535836  0.736840  0.019887  \n"
     ]
    }
   ],
   "source": [
    "df = pd.read_csv(\"optitrack_mass_data_full_bodies_data30_actrange300_date2105_night_3.csv\")\n",
    "# df = pd.read_csv(\"optitrack_data_full_bodies_data30_actrange400_date1104_2.csv\")\n",
    "# df = pd.read_csv(\"optitrack_data_full_bodies_data30_actrange400_date1104_3.csv\")\n",
    "\n",
    "# Extract all position data - \n",
    "# SA-up-x, SA-up-y, SA-up-z, SA-middle-x, SA-middle-y, SA-middle-z, SA-low-x, SA-low-y, SA-low-z\n",
    "\n",
    "df = df[[\"SA-low-X\", \"SA-low-Y\", \"SA-low-Z\", \"SA-middle-X\", \"SA-middle-Y\", \"SA-middle-Z\", \"SA-up-X\", \"SA-up-Y\", \"SA-up-Z\"]]\n",
    "print(df.head())\n",
    "# Convert to numpy array\n",
    "data = df.to_numpy()"
   ]
  },
  {
   "cell_type": "markdown",
   "metadata": {},
   "source": [
    "### Prediction"
   ]
  },
  {
   "cell_type": "code",
   "execution_count": 17,
   "metadata": {},
   "outputs": [
    {
     "name": "stdout",
     "output_type": "stream",
     "text": [
      "(30, 3, 3)\n"
     ]
    }
   ],
   "source": [
    "# Normalize the data using the scaler\n",
    "X_norm = scaler_X.transform(data)\n",
    "# Convert to torch tensor\n",
    "X_tensor = torch.tensor(X_norm , dtype=torch.float32)\n",
    "\n",
    "# Predict the delta L values using the model\n",
    "Y_pred = model(X_tensor).detach().numpy()\n",
    "# Inverse transform the predicted output using the scaler\n",
    "Y_pred_inv = scaler_Y.inverse_transform(Y_pred)\n",
    "\n",
    "# Reshape the predicted output to match the original shape \n",
    "Y_pred_inv = Y_pred_inv.reshape(-1, 3, 3)\n",
    "\n",
    "print(Y_pred_inv.shape)"
   ]
  },
  {
   "cell_type": "code",
   "execution_count": 18,
   "metadata": {},
   "outputs": [
    {
     "data": {
      "text/plain": [
       "array([[[ -113,   100,   110],\n",
       "        [  405,  -583,   156],\n",
       "        [ -420,   150,   329]],\n",
       "\n",
       "       [[   75,   -44,    55],\n",
       "        [  566,  -553,   -50],\n",
       "        [  -96,   -39,   194]],\n",
       "\n",
       "       [[  247,  -185,    15],\n",
       "        [  645,  -586,   -99],\n",
       "        [   57,  -161,   166]],\n",
       "\n",
       "       [[   20,   -77,   152],\n",
       "        [  536,  -685,   125],\n",
       "        [ -108,  -100,   272]],\n",
       "\n",
       "       [[  200,  -371,   264],\n",
       "        [  636,  -894,   240],\n",
       "        [   30,  -390,   432]],\n",
       "\n",
       "       [[  299,  -148,   -75],\n",
       "        [  723,  -681,   -80],\n",
       "        [  167,  -147,    46]],\n",
       "\n",
       "       [[  288,  -143,   -69],\n",
       "        [  724,  -682,   -80],\n",
       "        [  171,  -144,    40]],\n",
       "\n",
       "       [[   28,   241,  -202],\n",
       "        [  472,  -261,  -276],\n",
       "        [  -69,   244,  -126]],\n",
       "\n",
       "       [[  181,   306,  -441],\n",
       "        [  556,  -102,  -549],\n",
       "        [  104,   377,  -437]],\n",
       "\n",
       "       [[  282,   369,  -596],\n",
       "        [  587,     1,  -673],\n",
       "        [  239,   322,  -511]],\n",
       "\n",
       "       [[  350,   499,  -767],\n",
       "        [  514,   251,  -806],\n",
       "        [  249,   274,  -435]],\n",
       "\n",
       "       [[  251,   612,  -782],\n",
       "        [  380,   412,  -825],\n",
       "        [  296,   412,  -616]],\n",
       "\n",
       "       [[  208,   568,  -700],\n",
       "        [  406,   372,  -817],\n",
       "        [  282,   386,  -582]],\n",
       "\n",
       "       [[  167,   528,  -627],\n",
       "        [  354,   385,  -791],\n",
       "        [  241,   440,  -607]],\n",
       "\n",
       "       [[ -101,   576,  -412],\n",
       "        [  178,   388,  -624],\n",
       "        [  119,   686,  -732]],\n",
       "\n",
       "       [[   66,   524,  -523],\n",
       "        [  292,   371,  -719],\n",
       "        [  272,   600,  -802]],\n",
       "\n",
       "       [[  -13,   663,  -581],\n",
       "        [  250,   457,  -756],\n",
       "        [  318,   428,  -668]],\n",
       "\n",
       "       [[ -347,   749,  -350],\n",
       "        [  131,   411,  -618],\n",
       "        [  310,   528,  -770]],\n",
       "\n",
       "       [[ -553,   862,  -235],\n",
       "        [  -72,   506,  -476],\n",
       "        [   37,   738,  -676]],\n",
       "\n",
       "       [[ -387,   799,  -347],\n",
       "        [ -104,   588,  -538],\n",
       "        [   90,   670,  -676]],\n",
       "\n",
       "       [[  -49,   790,  -687],\n",
       "        [   15,   675,  -748],\n",
       "        [  214,   614,  -753]],\n",
       "\n",
       "       [[  -50,   789,  -687],\n",
       "        [   41,   661,  -762],\n",
       "        [  211,   548,  -685]],\n",
       "\n",
       "       [[   22,   741,  -720],\n",
       "        [   85,   790,  -939],\n",
       "        [   11,   904,  -865]],\n",
       "\n",
       "       [[ -119,   784,  -613],\n",
       "        [   38,   847,  -937],\n",
       "        [  -44,   981,  -879]],\n",
       "\n",
       "       [[  -23,   876,  -809],\n",
       "        [   34,   962, -1054],\n",
       "        [    2,  1044, -1007]],\n",
       "\n",
       "       [[   44,   864,  -866],\n",
       "        [   78,   977, -1109],\n",
       "        [ -150,  1207, -1020]],\n",
       "\n",
       "       [[   45,   809,  -807],\n",
       "        [   79,   922, -1052],\n",
       "        [ -161,  1219, -1013]],\n",
       "\n",
       "       [[   11,   722,  -686],\n",
       "        [   90,   804,  -952],\n",
       "        [ -116,   967,  -798]],\n",
       "\n",
       "       [[   62,   533,  -545],\n",
       "        [  177,   619,  -859],\n",
       "        [ -120,   896,  -717]],\n",
       "\n",
       "       [[  206,   452,  -614],\n",
       "        [  212,   595,  -882],\n",
       "        [ -130,   767,  -586]]])"
      ]
     },
     "execution_count": 18,
     "metadata": {},
     "output_type": "execute_result"
    }
   ],
   "source": [
    "Y_pred_inv.astype(int)"
   ]
  },
  {
   "cell_type": "code",
   "execution_count": 19,
   "metadata": {},
   "outputs": [
    {
     "name": "stdout",
     "output_type": "stream",
     "text": [
      "(30, 3)\n",
      "[[ 97.65161  -21.684372  60.35544 ]\n",
      " [ 86.39125  -37.18351   57.907745]\n",
      " [ 77.8781   -40.330254  62.827454]\n",
      " [ 96.20906  -23.211014  63.783813]\n",
      " [ 92.826065 -17.370895  72.62402 ]\n",
      " [ 75.29567  -39.317017  66.54531 ]\n",
      " [ 75.488495 -38.789864  66.691986]\n",
      " [ 66.586655 -66.09717   48.336693]\n",
      " [ 47.08905  -94.54443   43.66095 ]\n",
      " [ 54.599426 -84.81      50.601562]\n",
      " [ 81.943054 -40.194702  87.83453 ]\n",
      " [ 81.454285 -31.09967   91.33832 ]\n",
      " [ 77.44409  -37.99243   85.81464 ]\n",
      " [ 67.59723  -51.062134  74.60724 ]\n",
      " [ 62.037262 -58.067444  73.98706 ]\n",
      " [ 67.39752  -55.461304  70.64014 ]\n",
      " [ 68.40442  -49.135864  78.85791 ]\n",
      " [ 51.58673  -75.56348   68.222046]\n",
      " [ 73.34073  -41.957367  99.87634 ]\n",
      " [ 64.49863  -54.565857  84.57019 ]\n",
      " [ 52.660034 -57.87372   75.068726]\n",
      " [ 51.390686 -59.397644  74.65631 ]\n",
      " [ 44.412537 -62.87024   50.532043]\n",
      " [ 51.76306  -51.658875  57.610657]\n",
      " [ 43.640503 -57.753845  40.036865]\n",
      " [ 42.41382  -53.70813   36.51532 ]\n",
      " [ 48.031677 -50.482178  44.848145]\n",
      " [ 47.620605 -57.53961   52.9198  ]\n",
      " [ 51.268616 -62.74768   58.718506]\n",
      " [ 44.86963  -74.385376  50.87256 ]]\n"
     ]
    }
   ],
   "source": [
    "# Sum across the last axis (i.e., each triplet)\n",
    "sums = Y_pred_inv.sum(axis=2)\n",
    "\n",
    "print(sums.shape)\n",
    "print(sums)"
   ]
  },
  {
   "cell_type": "markdown",
   "metadata": {},
   "source": [
    "### Load the actuation data, which is the ground truth data"
   ]
  },
  {
   "cell_type": "code",
   "execution_count": 20,
   "metadata": {},
   "outputs": [
    {
     "name": "stdout",
     "output_type": "stream",
     "text": [
      "actual_position_list shape: (30, 3, 3)\n",
      "act_list shape: (30, 3, 3)\n",
      "wanted_position_list shape: (30, 3, 3)\n"
     ]
    }
   ],
   "source": [
    "gt = np.load(\"data_optitrack/data_MASS30_actrange300_date2105_night_3.npz\")\n",
    "# gt = np.load(\"data_optitrack/data30_actrange400_date1104_2.npz\")\n",
    "# gt = np.load(\"data_optitrack/data30_actrange400_date1104_3.npz\")\n",
    "\n",
    "# actual_position_list, act_list, wanted_position_list\n",
    "actual_position_list = gt[\"actual_position_list\"]\n",
    "act_list = gt[\"act_list\"]\n",
    "wanted_position_list = gt[\"wanted_position_list\"]\n",
    "\n",
    "# Check shape\n",
    "print(f\"actual_position_list shape: {actual_position_list.shape}\")\n",
    "print(f\"act_list shape: {act_list.shape}\")\n",
    "print(f\"wanted_position_list shape: {wanted_position_list.shape}\")"
   ]
  },
  {
   "cell_type": "code",
   "execution_count": 21,
   "metadata": {},
   "outputs": [
    {
     "data": {
      "text/plain": [
       "array([[[14402., 14027.,     0.],\n",
       "        [10275., 13945., 20418.],\n",
       "        [13754., 13948., 14228.]],\n",
       "\n",
       "       [[14402., 14026., 10418.],\n",
       "        [10275., 13945., 20418.],\n",
       "        [13754., 13948., 14228.]],\n",
       "\n",
       "       [[14707., 13876., 10370.],\n",
       "        [10508., 13762., 20330.],\n",
       "        [13975., 13779., 14141.]]])"
      ]
     },
     "execution_count": 21,
     "metadata": {},
     "output_type": "execute_result"
    }
   ],
   "source": [
    "actual_position_list[0:3]"
   ]
  },
  {
   "cell_type": "code",
   "execution_count": 22,
   "metadata": {},
   "outputs": [
    {
     "name": "stdout",
     "output_type": "stream",
     "text": [
      "safe_position: [[14402. 14026. 10418.]\n",
      " [10275. 13945. 20418.]\n",
      " [13754. 13948. 14228.]]\n",
      "actual_position_list shape: (29, 3, 3)\n"
     ]
    }
   ],
   "source": [
    "# delete the first element of the actual_position_list\n",
    "actual_position_list = np.delete(gt[\"actual_position_list\"], 0, axis=0)\n",
    "safe_position = actual_position_list[0]\n",
    "\n",
    "print(f\"safe_position: {safe_position}\")\n",
    "# Subtract all actual_position_list by the first element to get the relative position -> delta L\n",
    "actual_position_list = actual_position_list - safe_position\n",
    "actual_position_list[0:5]\n",
    "print(f\"actual_position_list shape: {actual_position_list.shape}\")"
   ]
  },
  {
   "cell_type": "code",
   "execution_count": 23,
   "metadata": {},
   "outputs": [
    {
     "name": "stdout",
     "output_type": "stream",
     "text": [
      "[[[   0.    0.    0.]\n",
      "  [   0.    0.    0.]\n",
      "  [   0.    0.    0.]]\n",
      "\n",
      " [[ 305. -150.  -48.]\n",
      "  [ 233. -183.  -88.]\n",
      "  [ 221. -169.  -87.]]\n",
      "\n",
      " [[ 494. -310.  -74.]\n",
      "  [ 401. -342. -113.]\n",
      "  [ 405. -328. -109.]]\n",
      "\n",
      " [[ 178. -202.   74.]\n",
      "  [ 141. -241.   22.]\n",
      "  [ 138. -219.    7.]]\n",
      "\n",
      " [[ 404. -540.  202.]\n",
      "  [ 314. -568.  199.]\n",
      "  [ 327. -552.  147.]]]\n"
     ]
    }
   ],
   "source": [
    "print(actual_position_list[0:5])"
   ]
  },
  {
   "cell_type": "markdown",
   "metadata": {},
   "source": [
    "### Compare "
   ]
  },
  {
   "cell_type": "code",
   "execution_count": 24,
   "metadata": {},
   "outputs": [
    {
     "name": "stdout",
     "output_type": "stream",
     "text": [
      "Difference in int:\n",
      "[[[ 75  44  55]\n",
      "  [566 553  50]\n",
      "  [ 96  39 194]]\n",
      "\n",
      " [[ 57  35  63]\n",
      "  [412 403  11]\n",
      "  [163   7 253]]\n",
      "\n",
      " [[473 232 226]\n",
      "  [135 343 238]\n",
      "  [513 227 381]]\n",
      "\n",
      " [[ 22 169 190]\n",
      "  [495 653 218]\n",
      "  [107 171 425]]\n",
      "\n",
      " [[104 391 277]\n",
      "  [409 113 279]\n",
      "  [159 404 100]]\n",
      "\n",
      " [[277 136 135]\n",
      "  [212 304 157]\n",
      "  [305 155 280]]\n",
      "\n",
      " [[511 519   2]\n",
      "  [ 25  95  39]\n",
      "  [545 531 113]]\n",
      "\n",
      " [[ 54  82  66]\n",
      "  [357 259 142]\n",
      "  [ 94 211  31]]\n",
      "\n",
      " [[161  56  71]\n",
      "  [181 218  33]\n",
      "  [128  56 194]]\n",
      "\n",
      " [[182  96  92]\n",
      "  [  6  35  88]\n",
      "  [211  83 458]]\n",
      "\n",
      " [[188 183 368]\n",
      "  [ 25 258 358]\n",
      "  [ 38  17 180]]\n",
      "\n",
      " [[ 28 475 498]\n",
      "  [195 543 412]\n",
      "  [109 252 530]]\n",
      "\n",
      " [[ 32 413 469]\n",
      "  [187 528 355]\n",
      "  [280   3 415]]\n",
      "\n",
      " [[251 305 572]\n",
      "  [ 60 463 435]\n",
      "  [376 208 274]]\n",
      "\n",
      " [[181 348 181]\n",
      "  [429 471  69]\n",
      "  [257  52 486]]\n",
      "\n",
      " [[143  38 200]\n",
      "  [111 211  60]\n",
      "  [308 224 729]]\n",
      "\n",
      " [[255 348 578]\n",
      "  [245 580 341]\n",
      "  [350  92 394]]\n",
      "\n",
      " [[175 160 355]\n",
      "  [325 484 208]\n",
      "  [804 280 740]]\n",
      "\n",
      " [[282 459 180]\n",
      "  [597 583  83]\n",
      "  [267  58 464]]\n",
      "\n",
      " [[467 415  40]\n",
      "  [505 496  62]\n",
      "  [208  41 362]]\n",
      "\n",
      " [[194 614 427]\n",
      "  [491 582  88]\n",
      "  [163 281 576]]\n",
      "\n",
      " [[267 670 394]\n",
      "  [495 481   0]\n",
      "  [453 250 310]]\n",
      "\n",
      " [[ 86 112 291]\n",
      "  [471 711 299]\n",
      "  [509 448 131]]\n",
      "\n",
      " [[140  59  62]\n",
      "  [438 768 375]\n",
      "  [591 790  91]]\n",
      "\n",
      " [[126 172  74]\n",
      "  [585 828 318]\n",
      "  [743 779  19]]\n",
      "\n",
      " [[  2  53 132]\n",
      "  [586 884 375]\n",
      "  [550 631   7]]\n",
      "\n",
      " [[ 80  69 166]\n",
      "  [520 851 359]\n",
      "  [580 304 415]]\n",
      "\n",
      " [[ 20 226 248]\n",
      "  [324 792 450]\n",
      "  [586 474 215]]\n",
      "\n",
      " [[  9  59  26]\n",
      "  [204 500 288]\n",
      "  [584 236 425]]]\n"
     ]
    }
   ],
   "source": [
    "# dropt the first element of the predicted output\n",
    "# create a copy\n",
    "Y_pred_inv_ = Y_pred_inv.copy()\n",
    "# delete the last element of the Y_pred_inv\n",
    "# Y_pred_inv_ = np.delete(Y_pred_inv_, -1, axis=0)\n",
    "\n",
    "# delete the first element of the Y_pred_inv\n",
    "Y_pred_inv_ = np.delete(Y_pred_inv_, 0, axis=0)\n",
    "\n",
    "# # delete the last element of the Y_pred_inv\n",
    "# Y_pred_inv_ = np.delete(Y_pred_inv_, -1, axis=0)\n",
    "\n",
    "# Compare the predicted output with the actual output\n",
    "diff = np.abs(Y_pred_inv_ - actual_position_list)\n",
    "\n",
    "# Print the difference in int\n",
    "print(\"Difference in int:\")\n",
    "print(diff.astype(int))"
   ]
  },
  {
   "cell_type": "code",
   "execution_count": 25,
   "metadata": {},
   "outputs": [
    {
     "name": "stdout",
     "output_type": "stream",
     "text": [
      "[[1 0 0]\n",
      " [0 0 1]\n",
      " [0 0 1]\n",
      " [0 0 2]\n",
      " [0 0 2]\n",
      " [0 1 1]\n",
      " [0 0 1]\n",
      " [0 0 1]\n",
      " [0 0 1]\n",
      " [0 0 2]\n",
      " [0 1 1]\n",
      " [0 0 2]\n",
      " [0 0 2]\n",
      " [0 0 1]\n",
      " [0 0 2]\n",
      " [0 0 3]\n",
      " [0 0 2]\n",
      " [0 0 3]\n",
      " [0 1 2]\n",
      " [0 0 1]\n",
      " [0 0 2]\n",
      " [0 0 1]\n",
      " [1 0 1]\n",
      " [0 0 1]\n",
      " [0 1 0]\n",
      " [1 1 1]\n",
      " [2 0 2]\n",
      " [0 0 1]\n",
      " [1 0 1]]\n"
     ]
    }
   ],
   "source": [
    "diff_ = (Y_pred_inv_ - actual_position_list)\n",
    "\n",
    "row_sums = diff_.sum(axis=2)  * 0.01534 \n",
    "print(row_sums.astype(int))"
   ]
  },
  {
   "cell_type": "code",
   "execution_count": 26,
   "metadata": {},
   "outputs": [
    {
     "data": {
      "image/png": "[encoded data removed]",
      "text/plain": [
       "<Figure size 800x600 with 1 Axes>"
      ]
     },
     "metadata": {},
     "output_type": "display_data"
    }
   ],
   "source": [
    "import seaborn as sns\n",
    "\n",
    "# Create a boxplot\n",
    "plt.figure(figsize=(8, 6))\n",
    "\n",
    "sns.boxplot(data=row_sums, orient='v', palette=['blue', 'green', 'red'])\n",
    "plt.xticks([0, 1, 2], ['Low', 'Middle', 'Up'], fontsize=18)\n",
    "\n",
    "# increase size of values \n",
    "plt.yticks(fontsize=15)\n",
    "# plt.title('Total Actuation (a1 + a2 + a3) by Section (3 inputs) - absolute difference')\n",
    "plt.ylabel('Total Actuation (a1 + a2 + a3) [in mm]', fontsize=18)\n",
    "plt.grid(True, linestyle='--', alpha=0.5)\n",
    "# Show in rnage of values\n",
    "plt.ylim(-7, 7)\n",
    "plt.tight_layout()\n",
    "plt.show()"
   ]
  },
  {
   "cell_type": "code",
   "execution_count": 27,
   "metadata": {},
   "outputs": [
    {
     "data": {
      "image/png": "[encoded data removed]",
      "text/plain": [
       "<Figure size 1500x1200 with 9 Axes>"
      ]
     },
     "metadata": {},
     "output_type": "display_data"
    }
   ],
   "source": [
    "# Convert residuals to delta L values\n",
    "residuals = diff.reshape(-1, 9)\n",
    "\n",
    "diff_deltaL = residuals * 0.01534\n",
    "\n",
    "fig, axes = plt.subplots(3, 3, figsize=(15, 12), sharex=True, sharey=True)\n",
    "\n",
    "# Define new order: up → middle → low\n",
    "group_labels = ['Up', 'Middle', 'Low']\n",
    "group_colors = ['red', 'green', 'blue']\n",
    "\n",
    "column_indices = [6, 7, 8, 3, 4, 5, 0, 1, 2]\n",
    "\n",
    "for plot_idx, col_idx in enumerate(column_indices):\n",
    "    i = plot_idx // 3  # row\n",
    "    j = plot_idx % 3   # col\n",
    "    k = plot_idx + 1   # motor number\n",
    "    ax = axes[i, j]\n",
    "    \n",
    "    ax.set_xlim(0, 30)\n",
    "    ax.set_ylim(0, 6)\n",
    "    ax.hist(diff_deltaL[:, col_idx], bins=30, alpha=0.7, color=group_colors[i])\n",
    "    \n",
    "    group = group_labels[i]\n",
    "    ax.set_title(f\"{group}: Motor {k}\", fontsize=20)\n",
    "    ax.tick_params(axis='both', labelsize=18)\n",
    "\n",
    "    \n",
    "    # X-label only on bottom row\n",
    "    if i == 2:\n",
    "        ax.set_xlabel(\"ΔL error [mm]\", fontsize=25)\n",
    "\n",
    "    # Y-label only on first column\n",
    "    if j == 0:\n",
    "        ax.set_ylabel(\"Frequency\", fontsize=25)\n",
    "    \n",
    "    ax.axvline(0, color='red', linestyle='--')\n",
    "    ax.grid(True)\n",
    "\n",
    "plt.tight_layout()\n",
    "plt.show()\n"
   ]
  },
  {
   "cell_type": "markdown",
   "metadata": {},
   "source": [
    "These numbers correspond to the **difference** of number of ticks. \n",
    "As our pulley diameter D = 20 mmm --> circumference C = pi * 20 mm = 62.83 mm/rev\n",
    "\n",
    "Our dynamixel has a resolution of 12-bit: 4096 ticks/revolution, this means 4096 ticks ==> 62.83 mm\n",
    "Each tick corresponds to:\n",
    "62.83/4096 = **0.01534 mm/tick**\n",
    "\n",
    "So for example, difference of 500 ticks corresponds to:\n",
    "deltaL = 500 * 0.01534 mm = *7.67 mm*\n",
    "of movement of cable. "
   ]
  }
 ],
 "metadata": {
  "kernelspec": {
   "display_name": "dynamixel_env",
   "language": "python",
   "name": "python3"
  },
  "language_info": {
   "codemirror_mode": {
    "name": "ipython",
    "version": 3
   },
   "file_extension": ".py",
   "mimetype": "text/x-python",
   "name": "python",
   "nbconvert_exporter": "python",
   "pygments_lexer": "ipython3",
   "version": "3.11.3"
  }
 },
 "nbformat": 4,
 "nbformat_minor": 2
}
