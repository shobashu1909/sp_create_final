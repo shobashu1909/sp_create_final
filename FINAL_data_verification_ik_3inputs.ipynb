{
 "cells": [
  {
   "cell_type": "markdown",
   "metadata": {},
   "source": [
    "# Compare positions obtain from optitrack & predicted from model"
   ]
  },
  {
   "cell_type": "code",
   "execution_count": 28,
   "metadata": {},
   "outputs": [],
   "source": [
    "from nn import KinematicMLP, InverseKinematicMLP\n",
    "import torch\n",
    "\n",
    "import joblib \n",
    "import numpy as np\n",
    "import pandas as pd\n",
    "import matplotlib.pyplot as plt\n",
    "import plotly.graph_objects as go\n",
    "import plotly.express as px\n"
   ]
  },
  {
   "cell_type": "markdown",
   "metadata": {},
   "source": [
    "### Load Model"
   ]
  },
  {
   "cell_type": "code",
   "execution_count": 29,
   "metadata": {},
   "outputs": [],
   "source": [
    "# Load model\n",
    "model = InverseKinematicMLP(input_size=3, output_size=9)\n",
    "model.load_state_dict(torch.load(\"inverse_kinematic_model_8999.pth\"))\n",
    "model.eval()\n",
    "\n",
    "# Load actuation sample from saved dataset\n",
    "scaler_X = joblib.load(\"scaler_X_ik_8999.save\")\n",
    "scaler_Y = joblib.load(\"scaler_Y_ik_8999.save\")"
   ]
  },
  {
   "cell_type": "markdown",
   "metadata": {},
   "source": [
    "### Load the position of end effector (x,y,z) --> 3 values"
   ]
  },
  {
   "cell_type": "code",
   "execution_count": 54,
   "metadata": {},
   "outputs": [
    {
     "name": "stdout",
     "output_type": "stream",
     "text": [
      "    SA-up-X   SA-up-Y   SA-up-Z\n",
      "0  0.082077  0.767467 -0.167849\n",
      "1  0.126767  0.761499 -0.144774\n",
      "2  0.125988  0.759396 -0.130784\n",
      "3  0.149206  0.730225 -0.037829\n",
      "4  0.161982  0.732146 -0.050008\n"
     ]
    }
   ],
   "source": [
    "df = pd.read_csv(\"optitrack_data_full_bodies_data30_actrange400_date1104_1.csv\")\n",
    "# df = pd.read_csv(\"optitrack_data_full_bodies_data30_actrange400_date1104_2.csv\")\n",
    "# df = pd.read_csv(\"optitrack_data_full_bodies_data30_actrange400_date1104_3.csv\")\n",
    "\n",
    "# Extract only the end effector position data - SA-up-x, SA-up-y, SA-up-z\n",
    "df = df[[\"SA-up-X\", \"SA-up-Y\", \"SA-up-Z\"]]\n",
    "print(df.head())\n",
    "# Convert to numpy array\n",
    "data = df.to_numpy()"
   ]
  },
  {
   "cell_type": "markdown",
   "metadata": {},
   "source": [
    "### Prediction"
   ]
  },
  {
   "cell_type": "code",
   "execution_count": 55,
   "metadata": {},
   "outputs": [
    {
     "name": "stdout",
     "output_type": "stream",
     "text": [
      "(30, 3, 3)\n"
     ]
    }
   ],
   "source": [
    "# Normalize the data using the scaler\n",
    "X_norm = scaler_X.transform(data)\n",
    "# Convert to torch tensor\n",
    "X_tensor = torch.tensor(X_norm , dtype=torch.float32)\n",
    "\n",
    "# Predict the delta L values using the model\n",
    "Y_pred = model(X_tensor).detach().numpy()\n",
    "# Inverse transform the predicted output using the scaler\n",
    "Y_pred_inv = scaler_Y.inverse_transform(Y_pred)\n",
    "\n",
    "# Reshape the predicted output to match the original shape \n",
    "Y_pred_inv = Y_pred_inv.reshape(-1, 3, 3)\n",
    "\n",
    "print(Y_pred_inv.shape)"
   ]
  },
  {
   "cell_type": "code",
   "execution_count": 56,
   "metadata": {},
   "outputs": [
    {
     "data": {
      "text/plain": [
       "array([[[    9,   104,   -43],\n",
       "        [  158,  -271,   142],\n",
       "        [  118,  -185,     3]],\n",
       "\n",
       "       [[ -196,   459,   -76],\n",
       "        [  488,  -588,   218],\n",
       "        [  393,  -747,   370]],\n",
       "\n",
       "       [[ -171,   468,   -99],\n",
       "        [  583,  -659,   206],\n",
       "        [  438,  -866,   454]],\n",
       "\n",
       "       [[  -46,   612,  -308],\n",
       "        [  962,  -880,   106],\n",
       "        [  604, -1180,   648]],\n",
       "\n",
       "       [[ -151,   715,  -300],\n",
       "        [  971,  -956,   181],\n",
       "        [  583, -1244,   740]],\n",
       "\n",
       "       [[   65,   518,  -338],\n",
       "        [  988,  -810,    -1],\n",
       "        [  601, -1072,   533]],\n",
       "\n",
       "       [[  419,   482,  -985],\n",
       "        [ 1208,  -858,  -422],\n",
       "        [  503,  -521,   -76]],\n",
       "\n",
       "       [[  768,   226, -1052],\n",
       "        [ 1224,  -698,  -568],\n",
       "        [  847,  -588,  -343]],\n",
       "\n",
       "       [[  918,   -37,  -836],\n",
       "        [ 1115,  -715,  -355],\n",
       "        [  963,  -862,  -153]],\n",
       "\n",
       "       [[  758,  -106,  -604],\n",
       "        [  861,  -676,  -154],\n",
       "        [  746,  -855,    48]],\n",
       "\n",
       "       [[  246,   421,  -510],\n",
       "        [  974,  -756,  -104],\n",
       "        [  637,  -960,   333]],\n",
       "\n",
       "       [[  176,   758,  -872],\n",
       "        [ 1459, -1046,  -374],\n",
       "        [  246,  -440,   173]],\n",
       "\n",
       "       [[  560,   791, -1536],\n",
       "        [ 1295,  -380, -1061],\n",
       "        [  319,   175,  -657]],\n",
       "\n",
       "       [[ 1011,   463, -1741],\n",
       "        [ 1268,    65, -1543],\n",
       "        [  853,   196, -1264]],\n",
       "\n",
       "       [[ 1041,   602, -1807],\n",
       "        [ 1290,   321, -1753],\n",
       "        [  946,   487, -1521]],\n",
       "\n",
       "       [[  467,   858, -1569],\n",
       "        [ 1160,  -261, -1095],\n",
       "        [  247,   241,  -684]],\n",
       "\n",
       "       [[  220,   690,  -920],\n",
       "        [ 1403, -1046,  -371],\n",
       "        [  312,  -503,   137]],\n",
       "\n",
       "       [[  148,   531,  -515],\n",
       "        [ 1010,  -770,  -123],\n",
       "        [  564,  -948,   396]],\n",
       "\n",
       "       [[  -77,   814,  -719],\n",
       "        [  969,  -668,  -318],\n",
       "        [  172,  -559,   334]],\n",
       "\n",
       "       [[  131,   688,  -818],\n",
       "        [ 1214,  -888,  -341],\n",
       "        [  273,  -529,   194]],\n",
       "\n",
       "       [[   45,   743,  -785],\n",
       "        [ 1204,  -903,  -317],\n",
       "        [  231,  -568,   276]],\n",
       "\n",
       "       [[  333,   467,  -778],\n",
       "        [ 1055,  -721,  -329],\n",
       "        [  542,  -652,    53]],\n",
       "\n",
       "       [[   89,   525,  -414],\n",
       "        [ 1000,  -909,    60],\n",
       "        [  636, -1123,   526]],\n",
       "\n",
       "       [[  -90,   629,  -254],\n",
       "        [  945,  -983,   255],\n",
       "        [  648, -1312,   751]],\n",
       "\n",
       "       [[  136,   239,  -172],\n",
       "        [  811,  -755,    84],\n",
       "        [  618, -1088,   510]],\n",
       "\n",
       "       [[  115,   376,  -271],\n",
       "        [  890,  -784,    51],\n",
       "        [  627, -1115,   537]],\n",
       "\n",
       "       [[   67,   436,  -274],\n",
       "        [  896,  -812,    82],\n",
       "        [  624, -1147,   578]],\n",
       "\n",
       "       [[ -233,   672,  -256],\n",
       "        [  759,  -920,   302],\n",
       "        [  504, -1205,   727]],\n",
       "\n",
       "       [[ -220,   896,  -668],\n",
       "        [  921,  -718,  -231],\n",
       "        [  108,  -618,   458]],\n",
       "\n",
       "       [[ -328,   997,  -634],\n",
       "        [  911,  -744,  -180],\n",
       "        [   -9,  -554,   537]]])"
      ]
     },
     "execution_count": 56,
     "metadata": {},
     "output_type": "execute_result"
    }
   ],
   "source": [
    "Y_pred_inv.astype(int)"
   ]
  },
  {
   "cell_type": "code",
   "execution_count": 57,
   "metadata": {},
   "outputs": [
    {
     "name": "stdout",
     "output_type": "stream",
     "text": [
      "(30, 3)\n",
      "[[  70.372025    29.54004    -63.28459  ]\n",
      " [ 186.85867    117.98076     17.111511 ]\n",
      " [ 198.34027    130.73608     27.029541 ]\n",
      " [ 257.411      189.3165      72.47174  ]\n",
      " [ 263.43393    195.95314     79.21637  ]\n",
      " [ 245.08563    176.70566     62.055542 ]\n",
      " [ -84.27228    -73.1398     -94.138794 ]\n",
      " [ -57.074707   -42.70459    -83.98993  ]\n",
      " [  45.324585    44.78589    -52.92314  ]\n",
      " [  47.96167     30.506058   -60.82156  ]\n",
      " [ 157.07224    113.55889      9.813477 ]\n",
      " [  63.56659     38.41977    -20.396545 ]\n",
      " [-184.0675    -146.35822   -163.01181  ]\n",
      " [-266.92896   -208.66492   -215.20581  ]\n",
      " [-163.3623    -141.7533     -87.39917  ]\n",
      " [-243.2367    -197.27441   -195.11075  ]\n",
      " [  -9.293457   -14.289459   -54.533752 ]\n",
      " [ 164.25073    117.050705    12.750763 ]\n",
      " [  18.559082   -17.8284     -53.311676 ]\n",
      " [   1.4943237  -15.902527   -61.74608  ]\n",
      " [   3.1030273  -16.064728   -60.640656 ]\n",
      " [  22.3078       4.4100037  -57.19029  ]\n",
      " [ 200.56949    151.76074     39.855286 ]\n",
      " [ 284.3609     217.39502     87.600586 ]\n",
      " [ 204.20346    140.66019     41.07379  ]\n",
      " [ 220.41937    157.6228      49.878967 ]\n",
      " [ 229.23373    165.80573     55.557922 ]\n",
      " [ 182.64761    141.09164     26.598633 ]\n",
      " [   7.2180786  -28.648514   -51.598175 ]\n",
      " [  34.596252   -13.594315   -26.060852 ]]\n"
     ]
    }
   ],
   "source": [
    "# Sum across the last axis (i.e., each triplet)\n",
    "sums = Y_pred_inv.sum(axis=2)\n",
    "\n",
    "print(sums.shape)\n",
    "print(sums)"
   ]
  },
  {
   "cell_type": "markdown",
   "metadata": {},
   "source": [
    "### Load the actuation data, which is the ground truth data"
   ]
  },
  {
   "cell_type": "code",
   "execution_count": 58,
   "metadata": {},
   "outputs": [
    {
     "name": "stdout",
     "output_type": "stream",
     "text": [
      "actual_position_list shape: (30, 3, 3)\n",
      "act_list shape: (30, 3, 3)\n",
      "wanted_position_list shape: (30, 3, 3)\n"
     ]
    }
   ],
   "source": [
    "gt = np.load(\"data_optitrack/data30_actrange400_date1104_1.npz\")\n",
    "# gt = np.load(\"data_optitrack/data30_actrange400_date1104_2.npz\")\n",
    "# gt = np.load(\"data_optitrack/data30_actrange400_date1104_3.npz\")\n",
    "\n",
    "# actual_position_list, act_list, wanted_position_list\n",
    "actual_position_list = gt[\"actual_position_list\"]\n",
    "act_list = gt[\"act_list\"]\n",
    "wanted_position_list = gt[\"wanted_position_list\"]\n",
    "\n",
    "# Check shape\n",
    "print(f\"actual_position_list shape: {actual_position_list.shape}\")\n",
    "print(f\"act_list shape: {act_list.shape}\")\n",
    "print(f\"wanted_position_list shape: {wanted_position_list.shape}\")"
   ]
  },
  {
   "cell_type": "code",
   "execution_count": 59,
   "metadata": {},
   "outputs": [
    {
     "data": {
      "text/plain": [
       "array([[[10200., 12435.,  9837.],\n",
       "        [ 5800.,  9313., 10405.],\n",
       "        [14526.,  9992., 10091.]],\n",
       "\n",
       "       [[10200., 12435.,  9837.],\n",
       "        [ 5800.,  9313., 10405.],\n",
       "        [14526.,  9992., 10091.]]])"
      ]
     },
     "execution_count": 59,
     "metadata": {},
     "output_type": "execute_result"
    }
   ],
   "source": [
    "actual_position_list[0:2]"
   ]
  },
  {
   "cell_type": "code",
   "execution_count": 60,
   "metadata": {},
   "outputs": [
    {
     "name": "stdout",
     "output_type": "stream",
     "text": [
      "safe_position: [[10200. 12435.  9837.]\n",
      " [ 5800.  9313. 10405.]\n",
      " [14526.  9992. 10091.]]\n",
      "actual_position_list shape: (29, 3, 3)\n"
     ]
    }
   ],
   "source": [
    "# delete the first element of the actual_position_list\n",
    "actual_position_list = np.delete(gt[\"actual_position_list\"], 0, axis=0)\n",
    "safe_position = actual_position_list[0]\n",
    "\n",
    "print(f\"safe_position: {safe_position}\")\n",
    "# Subtract all actual_position_list by the first element to get the relative position -> delta L\n",
    "actual_position_list = actual_position_list - safe_position\n",
    "actual_position_list[0:5]\n",
    "print(f\"actual_position_list shape: {actual_position_list.shape}\")"
   ]
  },
  {
   "cell_type": "code",
   "execution_count": 61,
   "metadata": {},
   "outputs": [
    {
     "name": "stdout",
     "output_type": "stream",
     "text": [
      "[[[   0.    0.    0.]\n",
      "  [   0.    0.    0.]\n",
      "  [   0.    0.    0.]]\n",
      "\n",
      " [[  66.  160. -139.]\n",
      "  [  25.  118. -139.]\n",
      "  [  23.  138. -181.]]\n",
      "\n",
      " [[ 135.  158. -168.]\n",
      "  [  80.  118. -167.]\n",
      "  [  75.  132. -209.]]\n",
      "\n",
      " [[ 434.  142. -470.]\n",
      "  [ 390.  119. -461.]\n",
      "  [ 350.  127. -506.]]\n",
      "\n",
      " [[ 335.  182. -468.]\n",
      "  [ 333.  145. -454.]\n",
      "  [ 337.  161. -488.]]]\n"
     ]
    }
   ],
   "source": [
    "print(actual_position_list[0:5])"
   ]
  },
  {
   "cell_type": "code",
   "execution_count": 62,
   "metadata": {},
   "outputs": [
    {
     "data": {
      "text/plain": [
       "(30, 3, 3)"
      ]
     },
     "execution_count": 62,
     "metadata": {},
     "output_type": "execute_result"
    }
   ],
   "source": [
    "act_list.shape"
   ]
  },
  {
   "cell_type": "code",
   "execution_count": 63,
   "metadata": {},
   "outputs": [
    {
     "data": {
      "text/plain": [
       "array([[[   9.036249 ,  104.98579  ,  -43.650013 ],\n",
       "        [ 158.6029   , -271.3434   ,  142.28055  ],\n",
       "        [ 118.50786  , -185.51865  ,    3.7261946]],\n",
       "\n",
       "       [[-196.25615  ,  459.9945   ,  -76.87966  ],\n",
       "        [ 488.09213  , -588.2543   ,  218.1429   ],\n",
       "        [ 393.79926  , -747.2677   ,  370.57996  ]]], dtype=float32)"
      ]
     },
     "execution_count": 63,
     "metadata": {},
     "output_type": "execute_result"
    }
   ],
   "source": [
    "Y_pred_inv[0:2]"
   ]
  },
  {
   "cell_type": "markdown",
   "metadata": {},
   "source": [
    "### Compare "
   ]
  },
  {
   "cell_type": "code",
   "execution_count": 64,
   "metadata": {},
   "outputs": [
    {
     "name": "stdout",
     "output_type": "stream",
     "text": [
      "Difference in int:\n",
      "[[[    9   104   -43]\n",
      "  [  158  -271   142]\n",
      "  [  118  -185     3]]\n",
      "\n",
      " [[ -262   321   127]\n",
      "  [  422  -726   422]\n",
      "  [  327  -885   574]]\n",
      "\n",
      " [[ -309   368   138]\n",
      "  [  445  -759   444]\n",
      "  [  300  -966   692]]\n",
      "\n",
      " [[ -480   520   217]\n",
      "  [  528  -972   632]\n",
      "  [  170 -1272  1174]]\n",
      "\n",
      " [[ -482   552   193]\n",
      "  [  640 -1119   675]\n",
      "  [  252 -1407  1234]]\n",
      "\n",
      " [[ -481   479   247]\n",
      "  [  441  -849   584]\n",
      "  [   54 -1111  1119]]\n",
      "\n",
      " [[ -410   359   -32]\n",
      "  [  378  -981   530]\n",
      "  [ -326  -644   876]]\n",
      "\n",
      " [[ -261   304  -100]\n",
      "  [  194  -620   383]\n",
      "  [ -182  -510   608]]\n",
      "\n",
      " [[ -195   335   -95]\n",
      "  [    1  -342   385]\n",
      "  [ -150  -489   587]]\n",
      "\n",
      " [[  -91   313  -174]\n",
      "  [   11  -256   275]\n",
      "  [ -103  -435   478]]\n",
      "\n",
      " [[ -312   315   154]\n",
      "  [  415  -862   560]\n",
      "  [ -513  -117   641]]\n",
      "\n",
      " [[ -574   343   293]\n",
      "  [  708 -1461   791]\n",
      "  [ -936   434   481]]\n",
      "\n",
      " [[ -244   102   -42]\n",
      "  [  490 -1069   432]\n",
      "  [-1054   915   -23]]\n",
      "\n",
      " [[   25  -163  -128]\n",
      "  [  282  -561    69]\n",
      "  [ -308   549  -455]]\n",
      "\n",
      " [[   96  -235   -24]\n",
      "  [  345  -516    29]\n",
      "  [ -277   662  -472]]\n",
      "\n",
      " [[ -281   216  -178]\n",
      "  [  411  -903   295]\n",
      "  [ -957   493   268]]\n",
      "\n",
      " [[ -544   396   138]\n",
      "  [  638 -1340   687]\n",
      "  [ -953   159   740]]\n",
      "\n",
      " [[ -365   350   179]\n",
      "  [  496  -951   571]\n",
      "  [ -352     3   361]]\n",
      "\n",
      " [[ -405   281   141]\n",
      "  [  641 -1201   542]\n",
      "  [ -627    60   514]]\n",
      "\n",
      " [[ -549   372   178]\n",
      "  [  533 -1204   655]\n",
      "  [ -408  -214   561]]\n",
      "\n",
      " [[ -545   422   126]\n",
      "  [  622 -1341   702]\n",
      "  [ -444  -323   707]]\n",
      "\n",
      " [[ -449   458    13]\n",
      "  [  317  -942   629]\n",
      "  [ -310  -558   812]]\n",
      "\n",
      " [[ -879   909   170]\n",
      "  [  521 -1736  1366]\n",
      "  [  -79 -1112  1231]]\n",
      "\n",
      " [[ -847   923   208]\n",
      "  [  784 -1836  1269]\n",
      "  [ -128 -1218  1434]]\n",
      "\n",
      " [[ -774   696   281]\n",
      "  [  795 -1527   872]\n",
      "  [   70  -858   828]]\n",
      "\n",
      " [[ -833   716   337]\n",
      "  [  671 -1698  1184]\n",
      "  [  -83  -334   467]]\n",
      "\n",
      " [[ -751   700   280]\n",
      "  [  491 -1495  1170]\n",
      "  [ -177   -87   320]]\n",
      "\n",
      " [[ -509   722   -30]\n",
      "  [  208 -1391  1324]\n",
      "  [ -541   170   397]]\n",
      "\n",
      " [[ -410   469   -51]\n",
      "  [   61 -1054   964]\n",
      "  [-1074   641   381]]\n",
      "\n",
      " [[ -391   571  -145]\n",
      "  [ -300  -994  1281]\n",
      "  [-1541  1057   457]]]\n"
     ]
    }
   ],
   "source": [
    "# Compare the predicted output with the actual output\n",
    "diff = Y_pred_inv - act_list\n",
    "\n",
    "# Print the difference in int\n",
    "print(\"Difference in int:\")\n",
    "print(diff.astype(int))"
   ]
  },
  {
   "cell_type": "code",
   "execution_count": 65,
   "metadata": {},
   "outputs": [
    {
     "name": "stdout",
     "output_type": "stream",
     "text": [
      "Difference in int:\n",
      "[[[ 196  459   76]\n",
      "  [ 488  588  218]\n",
      "  [ 393  747  370]]\n",
      "\n",
      " [[ 237  308   39]\n",
      "  [ 558  777  345]\n",
      "  [ 415 1004  635]]\n",
      "\n",
      " [[ 181  454  140]\n",
      "  [ 882  998  273]\n",
      "  [ 529 1312  857]]\n",
      "\n",
      " [[ 585  573  169]\n",
      "  [ 581 1075  642]\n",
      "  [ 233 1371 1246]]\n",
      "\n",
      " [[ 269  336  129]\n",
      "  [ 655  955  452]\n",
      "  [ 264 1233 1021]]\n",
      "\n",
      " [[ 124  395  465]\n",
      "  [ 732  959   89]\n",
      "  [  47  596  483]]\n",
      "\n",
      " [[  54   60  155]\n",
      "  [ 446  819  318]\n",
      "  [ 119  717  586]]\n",
      "\n",
      " [[  96    9   60]\n",
      "  [ 177  700  528]\n",
      "  [  60  822  776]]\n",
      "\n",
      " [[ 336  215  100]\n",
      "  [ 158  370  533]\n",
      "  [ 245  523  779]]\n",
      "\n",
      " [[ 600  786  114]\n",
      "  [ 124  408  306]\n",
      "  [ 215  580  788]]\n",
      "\n",
      " [[ 382  608  270]\n",
      "  [ 901 1145  225]\n",
      "  [ 778  363  506]]\n",
      "\n",
      " [[ 182  325  423]\n",
      "  [ 569  761   31]\n",
      "  [ 743 1012  330]]\n",
      "\n",
      " [[ 221  260  309]\n",
      "  [ 501  562  126]\n",
      "  [ 384  907  651]]\n",
      "\n",
      " [[  67   83  262]\n",
      "  [ 379  306  218]\n",
      "  [ 217  830  733]]\n",
      "\n",
      " [[ 473    7  147]\n",
      "  [ 249 1020  610]\n",
      "  [ 921  407  342]]\n",
      "\n",
      " [[ 520    7  415]\n",
      "  [ 654 1743  947]\n",
      "  [ 856  291 1076]]\n",
      "\n",
      " [[ 604  185  501]\n",
      "  [ 261 1118  880]\n",
      "  [ 617  325 1007]]\n",
      "\n",
      " [[ 592  583   66]\n",
      "  [ 459  911  353]\n",
      "  [ 748  356  357]]\n",
      "\n",
      " [[ 200  108   21]\n",
      "  [ 885 1391  453]\n",
      "  [ 531   72  349]]\n",
      "\n",
      " [[ 630  381  146]\n",
      "  [ 584 1273  607]\n",
      "  [ 458  265  620]]\n",
      "\n",
      " [[ 259  105  107]\n",
      "  [ 470 1134  616]\n",
      "  [ 144  417  459]]\n",
      "\n",
      " [[ 681  467  344]\n",
      "  [ 322 1188  963]\n",
      "  [ 128 1041 1263]]\n",
      "\n",
      " [[1052  959  284]\n",
      "  [ 468 1750 1486]\n",
      "  [  75 1305 1447]]\n",
      "\n",
      " [[ 614  483  263]\n",
      "  [ 651 1562 1048]\n",
      "  [ 111 1032 1193]]\n",
      "\n",
      " [[ 786  777  148]\n",
      "  [ 874 1591  807]\n",
      "  [  74  925  879]]\n",
      "\n",
      " [[ 865  735  266]\n",
      "  [ 703 1661 1143]\n",
      "  [   0  406  570]]\n",
      "\n",
      " [[1048  905  267]\n",
      "  [ 417 1658 1333]\n",
      "  [ 200  181  528]]\n",
      "\n",
      " [[ 501  897  483]\n",
      "  [ 435 1243  740]\n",
      "  [ 809  727  192]]\n",
      "\n",
      " [[ 522  518   72]\n",
      "  [ 102 1140  948]\n",
      "  [1067  672  437]]]\n"
     ]
    }
   ],
   "source": [
    "# dropt the first element of the predicted output\n",
    "# create a copy\n",
    "Y_pred_inv_ = Y_pred_inv.copy()\n",
    "# delete the first element of the Y_pred_inv\n",
    "Y_pred_inv_ = np.delete(Y_pred_inv_, 0, axis=0)\n",
    "\n",
    "# # delete the last element of the Y_pred_inv\n",
    "# Y_pred_inv_ = np.delete(Y_pred_inv_, -1, axis=0)\n",
    "\n",
    "# Compare the predicted output with the actual output\n",
    "diff = np.abs(Y_pred_inv_ - actual_position_list)\n",
    "\n",
    "# Print the difference in int\n",
    "print(\"Difference in int:\")\n",
    "print(diff.astype(int))"
   ]
  },
  {
   "cell_type": "code",
   "execution_count": 66,
   "metadata": {},
   "outputs": [],
   "source": [
    "diff_ = (Y_pred_inv_ - actual_position_list)\n",
    "\n",
    "row_sums = diff_.sum(axis=2)  * 0.01534\n",
    "# print(row_sums.astype(int))"
   ]
  },
  {
   "cell_type": "code",
   "execution_count": 67,
   "metadata": {},
   "outputs": [
    {
     "data": {
      "image/png": "[encoded data removed]",
      "text/plain": [
       "<Figure size 800x600 with 1 Axes>"
      ]
     },
     "metadata": {},
     "output_type": "display_data"
    }
   ],
   "source": [
    "import seaborn as sns\n",
    "\n",
    "# Create a boxplot\n",
    "plt.figure(figsize=(8, 6))\n",
    "\n",
    "sns.boxplot(data=row_sums, orient='v', palette=['blue', 'green', 'red'])\n",
    "plt.xticks([0, 1, 2], ['Low', 'Middle', 'Up'], fontsize=18)\n",
    "\n",
    "# increase size of values \n",
    "plt.yticks(fontsize=15)\n",
    "# plt.title('Total Actuation (a1 + a2 + a3) by Section (3 inputs) - absolute difference')\n",
    "plt.ylabel('Total Actuation (a1 + a2 + a3) [in mm]', fontsize=18)\n",
    "plt.grid(True, linestyle='--', alpha=0.5)\n",
    "# Show in rnage of values\n",
    "plt.ylim(-7, 7)\n",
    "plt.tight_layout()\n",
    "plt.show()"
   ]
  },
  {
   "cell_type": "code",
   "execution_count": 68,
   "metadata": {},
   "outputs": [
    {
     "data": {
      "image/png": "[encoded data removed]",
      "text/plain": [
       "<Figure size 1500x1200 with 9 Axes>"
      ]
     },
     "metadata": {},
     "output_type": "display_data"
    }
   ],
   "source": [
    "# Convert residuals to delta L values\n",
    "residuals = diff.reshape(-1, 9)\n",
    "\n",
    "diff_deltaL = residuals * 0.01534\n",
    "\n",
    "fig, axes = plt.subplots(3, 3, figsize=(15, 12), sharex=True, sharey=True)\n",
    "\n",
    "# Define new order: up → middle → low\n",
    "group_labels = ['Up', 'Middle', 'Low']\n",
    "group_colors = ['red', 'green', 'blue']\n",
    "\n",
    "column_indices = [6, 7, 8, 3, 4, 5, 0, 1, 2]\n",
    "\n",
    "for plot_idx, col_idx in enumerate(column_indices):\n",
    "    i = plot_idx // 3  # row\n",
    "    j = plot_idx % 3   # col\n",
    "    k = plot_idx + 1   # motor number\n",
    "    ax = axes[i, j]\n",
    "    \n",
    "    ax.set_xlim(0, 30)\n",
    "    ax.set_ylim(0, 6)\n",
    "    ax.hist(diff_deltaL[:, col_idx], bins=30, alpha=0.7, color=group_colors[i])\n",
    "    \n",
    "    group = group_labels[i]\n",
    "    ax.set_title(f\"{group}: Motor {k}\", fontsize=20)\n",
    "    ax.tick_params(axis='both', labelsize=18)\n",
    "\n",
    "    \n",
    "    # X-label only on bottom row\n",
    "    if i == 2:\n",
    "        ax.set_xlabel(\"ΔL error [mm]\", fontsize=25)\n",
    "\n",
    "    # Y-label only on first column\n",
    "    if j == 0:\n",
    "        ax.set_ylabel(\"Frequency\", fontsize=25)\n",
    "    \n",
    "    ax.axvline(0, color='red', linestyle='--')\n",
    "    ax.grid(True)\n",
    "\n",
    "plt.tight_layout()\n",
    "plt.show()\n"
   ]
  },
  {
   "cell_type": "code",
   "execution_count": null,
   "metadata": {},
   "outputs": [],
   "source": []
  },
  {
   "cell_type": "code",
   "execution_count": null,
   "metadata": {},
   "outputs": [],
   "source": []
  }
 ],
 "metadata": {
  "kernelspec": {
   "display_name": "dynamixel_env",
   "language": "python",
   "name": "python3"
  },
  "language_info": {
   "codemirror_mode": {
    "name": "ipython",
    "version": 3
   },
   "file_extension": ".py",
   "mimetype": "text/x-python",
   "name": "python",
   "nbconvert_exporter": "python",
   "pygments_lexer": "ipython3",
   "version": "3.11.3"
  }
 },
 "nbformat": 4,
 "nbformat_minor": 2
}
